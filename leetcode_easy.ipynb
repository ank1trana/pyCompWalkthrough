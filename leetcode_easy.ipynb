{
 "cells": [
  {
   "cell_type": "code",
   "execution_count": null,
   "metadata": {},
   "outputs": [
    {
     "name": "stdout",
     "output_type": "stream",
     "text": [
      "True\n"
     ]
    }
   ],
   "source": [
    "#input array of words, minimum length of a word in the words list is 1\n",
    "#check if a target string is an acronym of words\n",
    "\n",
    "def check_acro(words, str_to_check):\n",
    "    if(len(str_to_check)!=len(words)):\n",
    "        print('not an acronym')\n",
    "        return False\n",
    "    else:\n",
    "        for i in range(len(str_to_check)):\n",
    "            if(str_to_check[i] != words[i][0]):\n",
    "                return False\n",
    "        \n",
    "        return True\n",
    "        \n",
    "\n",
    "\n",
    "words = ['National',  'Aeronautics', 'Space', 'Administration']\n",
    "\n",
    "str_acro = \"NASA\"\n",
    "print(check_acro(words, str_acro))\n",
    "\n"
   ]
  },
  {
   "cell_type": "code",
   "execution_count": 10,
   "metadata": {},
   "outputs": [
    {
     "name": "stdout",
     "output_type": "stream",
     "text": [
      "True\n",
      "False\n",
      "False\n",
      "True\n"
     ]
    }
   ],
   "source": [
    "# n = 17\n",
    "# 2^ = 4\n",
    "# 4^ = 16\n",
    "#funding if a num is a PERFECT SQUARE\n",
    "# establish RANGE, FIND mid value and o a binary search\n",
    "\n",
    "def is_perfect_square(num: int):\n",
    "    low = 1\n",
    "    high = num\n",
    "    \n",
    "    while(low <= high):\n",
    "        mid = (low+high)//2 #need integer after div\n",
    "        m_squared = mid * mid\n",
    "        \n",
    "        if num == m_squared:\n",
    "            return True\n",
    "        elif m_squared > num:\n",
    "            high = mid-1\n",
    "        else:\n",
    "            low = mid+1\n",
    "    return False\n",
    "\n",
    "print(is_perfect_square(16))\n",
    "print(is_perfect_square(17))\n",
    "print(is_perfect_square(21))\n",
    "print(is_perfect_square(144))\n"
   ]
  },
  {
   "cell_type": "code",
   "execution_count": 17,
   "metadata": {},
   "outputs": [
    {
     "name": "stdout",
     "output_type": "stream",
     "text": [
      "4\n",
      "[1, 3, 6, 10]\n",
      "10\n",
      "[1, 2, 3, 4, 7, 10, 13, 19, 25, 29]\n"
     ]
    }
   ],
   "source": [
    "#calculate the running sum in an array\n",
    "#e.g. if the input is [1,2,3,6], then output is [1,3,6,12]\n",
    "\n",
    "def cal_running_sum(nums):\n",
    "    count = len(nums)\n",
    "    r_sum_array = [None]* count\n",
    "    print(count)\n",
    "    #nothing to left of first element\n",
    "    r_sum_array[0] = nums[0]\n",
    "    \n",
    "    for item in range(1, count):\n",
    "        r_sum_array[item] = r_sum_array[item-1]+nums[item]\n",
    "    return r_sum_array\n",
    "\n",
    "result = cal_running_sum([1,2,3,4])\n",
    "print(result)\n",
    "result = cal_running_sum([1,1,1,1,3,3,3,6,6,4])\n",
    "print(result)\n",
    "        \n"
   ]
  },
  {
   "cell_type": "code",
   "execution_count": 38,
   "metadata": {},
   "outputs": [
    {
     "name": "stdout",
     "output_type": "stream",
     "text": [
      "{3: 0}\n",
      "{3: 0, 2: 1}\n",
      "{3: 0, 2: 1, 4: 2}\n",
      "0\n",
      ">>is pre 3\n",
      "1\n",
      ">>is pre 4\n",
      "[1, 2]\n"
     ]
    }
   ],
   "source": [
    "#two sum\n",
    "'''Given an array of integers nums and an integer target, return indices of the two numbers such that they add up to target.\n",
    "\n",
    "You may assume that each input would have exactly one solution, and you may not use the same element twice.\n",
    "\n",
    "You can return the answer in any order.'''\n",
    "\n",
    "class Solution:\n",
    "    def twoSum(self, nums, target: int):\n",
    "        count = len(nums)\n",
    "        hashmap_nums = {}\n",
    "        for index, value in enumerate(nums):\n",
    "            hashmap_nums[value] = index\n",
    "            print(hashmap_nums)\n",
    "            \n",
    "        for i in range(count):\n",
    "            print(i)\n",
    "            is_present_difference = target - nums[i]\n",
    "            print(\">>is pre\", is_present_difference)\n",
    "            if is_present_difference in hashmap_nums and hashmap_nums[is_present_difference]!= i :\n",
    "                index_ret = hashmap_nums[is_present_difference]\n",
    "                break\n",
    "        return [i, index_ret]\n",
    "\n",
    "solobj  = Solution()\n",
    "print(solobj.twoSum([3,2,4],6))            \n",
    "            "
   ]
  },
  {
   "cell_type": "code",
   "execution_count": null,
   "metadata": {},
   "outputs": [
    {
     "name": "stdout",
     "output_type": "stream",
     "text": [
      "56 2\n"
     ]
    }
   ],
   "source": [
    "#You are given an m x n integer grid accounts where accounts[i][j] is the amount of money the i​​​​​​​​​​​th​​​​ customer has in the j​​​​​​​​​​​th​​​​ bank. Return the wealth that the richest customer has.\n",
    "#A customer's wealth is the amount of money they have in all their bank accounts. The richest customer is the customer that has the maximum wealth.\n",
    "\n",
    "def find_max_wealth(accounts_data):\n",
    "    largest_sum = 0\n",
    "    richest_customer = 0\n",
    "    wealth_i = 0\n",
    "    num_of_customers = len(accounts_data)\n",
    "    #print(num_of_customers)\n",
    "    \n",
    "    for i in range(num_of_customers):\n",
    "        for accs_j in range(len(accounts_data[i])):\n",
    "            wealth_i += accounts_data[i][accs_j]\n",
    "            if wealth_i > largest_sum:\n",
    "                largest_sum = wealth_i\n",
    "                richest_customer = i\n",
    "        wealth_i = 0    \n",
    "    return largest_sum, richest_customer\n",
    "    \n",
    "accounts = [[1,11,3],[33,2,1],[53,2,1],[3,2,1]]\n",
    "sum, customer = find_max_wealth(accounts)\n",
    "#accounts = [[1,5],[7,3],[3,5]] \n",
    "\n",
    "print(sum, customer) "
   ]
  },
  {
   "cell_type": "code",
   "execution_count": 50,
   "metadata": {},
   "outputs": [
    {
     "name": "stdout",
     "output_type": "stream",
     "text": [
      "[5, 5, 5, 5, 5, 2, 2, 1]\n",
      "3\n"
     ]
    }
   ],
   "source": [
    "\"\"\"You are given a string s consisting of lowercase English letters.\n",
    "Your task is to find the maximum difference diff = a1 - a2 between the frequency of characters a1 and a2 in the string such that:\n",
    "a1 has an odd frequency in the string.\n",
    "a2 has an even frequency in the string.\n",
    "Return this maximum difference.\"\"\"\n",
    "\n",
    "class Solution:\n",
    "    def maxDifference(self, s: str) -> int:\n",
    "        len_s = len(s)\n",
    "        count_each = [None]*len_s\n",
    "        has_odd = False\n",
    "        has_Even = False\n",
    "        largest_odd = 1\n",
    "        smallest_even = 100\n",
    "        for i in range(len_s):\n",
    "            count_each[i] = s.count(s[i])\n",
    "        \n",
    "        print(count_each)\n",
    "        for j in range(len(count_each)):\n",
    "            if count_each[j]%2 == 0:\n",
    "                has_Even = True\n",
    "            elif count_each[j]%2 != 0:\n",
    "                has_odd = True\n",
    "        if (has_Even and has_odd) == False:\n",
    "            print(f'wrong input string{has_Even, has_odd}')\n",
    "            return -1      \n",
    "\n",
    "        for number in count_each:\n",
    "            if number % 2 != 0 and number > largest_odd:  # Check if odd and larger than current largest\n",
    "                largest_odd = number\n",
    "            elif number %2 ==0 and number < smallest_even:\n",
    "                smallest_even = number\n",
    "        return largest_odd - smallest_even    \n",
    "solobj = Solution()\n",
    "print(solobj.maxDifference(\"aaaaabbc\"))    "
   ]
  },
  {
   "cell_type": "code",
   "execution_count": null,
   "metadata": {},
   "outputs": [
    {
     "data": {
      "text/plain": [
       "5"
      ]
     },
     "execution_count": 53,
     "metadata": {},
     "output_type": "execute_result"
    }
   ],
   "source": [
    "\"\"\"3423. Maximum Difference Between Adjacent Elements in a Circular Array\n",
    "Given a circular array nums, find the maximum absolute difference between adjacent elements.\n",
    "Note: In a circular array, the first and last elements are adjacent.\n",
    "Example 1:\n",
    "Input: nums = [1,2,4]\n",
    "Output: 3\n",
    "\"\"\"\n",
    "from typing import List\n",
    "\n",
    "class Solution:\n",
    "    def maxAdjacentDistance(self, nums: List[int]) -> int:\n",
    "        len_nums = len(nums)\n",
    "        the_diff_list = []\n",
    "        for idx in range(len_nums-1):\n",
    "            diff_temp = abs(nums[idx]-nums[idx+1])\n",
    "            the_diff_list.append(diff_temp)\n",
    "        \n",
    "        diff_temp = abs(nums[len_nums-1]-nums[0])\n",
    "        the_diff_list.append(diff_temp)\n",
    "        return max(the_diff_list)\n",
    "    \n",
    "nums_list = [-5,-10,-5]\n",
    "solobj = Solution()\n",
    "solobj.maxAdjacentDistance(nums_list)\n",
    "\n",
    "\"\"\" Faster way\n",
    "        class Solution:\n",
    "    def maxAdjacentDistance(self, nums: List[int]) -> int:\n",
    "        N = len(nums)\n",
    "        nums.append(nums[0])\n",
    "        return max(abs(nums[i] - nums[i+1]) for i in range(N))\n",
    "\"\"\"\n"
   ]
  },
  {
   "cell_type": "code",
   "execution_count": null,
   "metadata": {},
   "outputs": [],
   "source": []
  }
 ],
 "metadata": {
  "kernelspec": {
   "display_name": "Python 3",
   "language": "python",
   "name": "python3"
  },
  "language_info": {
   "codemirror_mode": {
    "name": "ipython",
    "version": 3
   },
   "file_extension": ".py",
   "mimetype": "text/x-python",
   "name": "python",
   "nbconvert_exporter": "python",
   "pygments_lexer": "ipython3",
   "version": "3.13.3"
  }
 },
 "nbformat": 4,
 "nbformat_minor": 2
}
