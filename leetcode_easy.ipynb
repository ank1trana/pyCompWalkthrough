{
 "cells": [
  {
   "cell_type": "code",
   "execution_count": null,
   "metadata": {},
   "outputs": [
    {
     "name": "stdout",
     "output_type": "stream",
     "text": [
      "True\n"
     ]
    }
   ],
   "source": [
    "#input array of words, minimum length of a word in the words list is 1\n",
    "#check if a target string is an acronym of words\n",
    "\n",
    "def check_acro(words, str_to_check):\n",
    "    if(len(str_to_check)!=len(words)):\n",
    "        print('not an acronym')\n",
    "        return False\n",
    "    else:\n",
    "        for i in range(len(str_to_check)):\n",
    "            if(str_to_check[i] != words[i][0]):\n",
    "                return False\n",
    "        \n",
    "        return True\n",
    "        \n",
    "\n",
    "\n",
    "words = ['National',  'Aeronautics', 'Space', 'Administration']\n",
    "\n",
    "str_acro = \"NASA\"\n",
    "print(check_acro(words, str_acro))\n",
    "\n"
   ]
  },
  {
   "cell_type": "code",
   "execution_count": 10,
   "metadata": {},
   "outputs": [
    {
     "name": "stdout",
     "output_type": "stream",
     "text": [
      "True\n",
      "False\n",
      "False\n",
      "True\n"
     ]
    }
   ],
   "source": [
    "# n = 17\n",
    "# 2^ = 4\n",
    "# 4^ = 16\n",
    "#funding if a num is a PERFECT SQUARE\n",
    "# establish RANGE, FIND mid value and o a binary search\n",
    "\n",
    "def is_perfect_square(num: int):\n",
    "    low = 1\n",
    "    high = num\n",
    "    \n",
    "    while(low <= high):\n",
    "        mid = (low+high)//2 #need integer after div\n",
    "        m_squared = mid * mid\n",
    "        \n",
    "        if num == m_squared:\n",
    "            return True\n",
    "        elif m_squared > num:\n",
    "            high = mid-1\n",
    "        else:\n",
    "            low = mid+1\n",
    "    return False\n",
    "\n",
    "print(is_perfect_square(16))\n",
    "print(is_perfect_square(17))\n",
    "print(is_perfect_square(21))\n",
    "print(is_perfect_square(144))\n"
   ]
  },
  {
   "cell_type": "code",
   "execution_count": 17,
   "metadata": {},
   "outputs": [
    {
     "name": "stdout",
     "output_type": "stream",
     "text": [
      "4\n",
      "[1, 3, 6, 10]\n",
      "10\n",
      "[1, 2, 3, 4, 7, 10, 13, 19, 25, 29]\n"
     ]
    }
   ],
   "source": [
    "#calculate the running sum in an array\n",
    "#e.g. if the input is [1,2,3,6], then output is [1,3,6,12]\n",
    "\n",
    "def cal_running_sum(nums):\n",
    "    count = len(nums)\n",
    "    r_sum_array = [None]* count\n",
    "    print(count)\n",
    "    #nothing to left of first element\n",
    "    r_sum_array[0] = nums[0]\n",
    "    \n",
    "    for item in range(1, count):\n",
    "        r_sum_array[item] = r_sum_array[item-1]+nums[item]\n",
    "    return r_sum_array\n",
    "\n",
    "result = cal_running_sum([1,2,3,4])\n",
    "print(result)\n",
    "result = cal_running_sum([1,1,1,1,3,3,3,6,6,4])\n",
    "print(result)\n",
    "        \n"
   ]
  },
  {
   "cell_type": "code",
   "execution_count": 38,
   "metadata": {},
   "outputs": [
    {
     "name": "stdout",
     "output_type": "stream",
     "text": [
      "{3: 0}\n",
      "{3: 0, 2: 1}\n",
      "{3: 0, 2: 1, 4: 2}\n",
      "0\n",
      ">>is pre 3\n",
      "1\n",
      ">>is pre 4\n",
      "[1, 2]\n"
     ]
    }
   ],
   "source": [
    "#two sum\n",
    "'''Given an array of integers nums and an integer target, return indices of the two numbers such that they add up to target.\n",
    "\n",
    "You may assume that each input would have exactly one solution, and you may not use the same element twice.\n",
    "\n",
    "You can return the answer in any order.'''\n",
    "\n",
    "class Solution:\n",
    "    def twoSum(self, nums, target: int):\n",
    "        count = len(nums)\n",
    "        hashmap_nums = {}\n",
    "        for index, value in enumerate(nums):\n",
    "            hashmap_nums[value] = index\n",
    "            print(hashmap_nums)\n",
    "            \n",
    "        for i in range(count):\n",
    "            print(i)\n",
    "            is_present_difference = target - nums[i]\n",
    "            print(\">>is pre\", is_present_difference)\n",
    "            if is_present_difference in hashmap_nums and hashmap_nums[is_present_difference]!= i :\n",
    "                index_ret = hashmap_nums[is_present_difference]\n",
    "                break\n",
    "        return [i, index_ret]\n",
    "\n",
    "solobj  = Solution()\n",
    "print(solobj.twoSum([3,2,4],6))            \n",
    "            "
   ]
  },
  {
   "cell_type": "code",
   "execution_count": null,
   "metadata": {},
   "outputs": [
    {
     "name": "stdout",
     "output_type": "stream",
     "text": [
      "56 2\n"
     ]
    }
   ],
   "source": [
    "#You are given an m x n integer grid accounts where accounts[i][j] is the amount of money the i​​​​​​​​​​​th​​​​ customer has in the j​​​​​​​​​​​th​​​​ bank. Return the wealth that the richest customer has.\n",
    "#A customer's wealth is the amount of money they have in all their bank accounts. The richest customer is the customer that has the maximum wealth.\n",
    "\n",
    "def find_max_wealth(accounts_data):\n",
    "    largest_sum = 0\n",
    "    richest_customer = 0\n",
    "    wealth_i = 0\n",
    "    num_of_customers = len(accounts_data)\n",
    "    #print(num_of_customers)\n",
    "    \n",
    "    for i in range(num_of_customers):\n",
    "        for accs_j in range(len(accounts_data[i])):\n",
    "            wealth_i += accounts_data[i][accs_j]\n",
    "            if wealth_i > largest_sum:\n",
    "                largest_sum = wealth_i\n",
    "                richest_customer = i\n",
    "        wealth_i = 0    \n",
    "    return largest_sum, richest_customer\n",
    "    \n",
    "accounts = [[1,11,3],[33,2,1],[53,2,1],[3,2,1]]\n",
    "sum, customer = find_max_wealth(accounts)\n",
    "#accounts = [[1,5],[7,3],[3,5]] \n",
    "\n",
    "print(sum, customer) "
   ]
  },
  {
   "cell_type": "code",
   "execution_count": 50,
   "metadata": {},
   "outputs": [
    {
     "name": "stdout",
     "output_type": "stream",
     "text": [
      "[5, 5, 5, 5, 5, 2, 2, 1]\n",
      "3\n"
     ]
    }
   ],
   "source": [
    "\"\"\"You are given a string s consisting of lowercase English letters.\n",
    "Your task is to find the maximum difference diff = a1 - a2 between the frequency of characters a1 and a2 in the string such that:\n",
    "a1 has an odd frequency in the string.\n",
    "a2 has an even frequency in the string.\n",
    "Return this maximum difference.\"\"\"\n",
    "\n",
    "class Solution:\n",
    "    def maxDifference(self, s: str) -> int:\n",
    "        len_s = len(s)\n",
    "        count_each = [None]*len_s\n",
    "        has_odd = False\n",
    "        has_Even = False\n",
    "        largest_odd = 1\n",
    "        smallest_even = 100\n",
    "        for i in range(len_s):\n",
    "            count_each[i] = s.count(s[i])\n",
    "        \n",
    "        print(count_each)\n",
    "        for j in range(len(count_each)):\n",
    "            if count_each[j]%2 == 0:\n",
    "                has_Even = True\n",
    "            elif count_each[j]%2 != 0:\n",
    "                has_odd = True\n",
    "        if (has_Even and has_odd) == False:\n",
    "            print(f'wrong input string{has_Even, has_odd}')\n",
    "            return -1      \n",
    "\n",
    "        for number in count_each:\n",
    "            if number % 2 != 0 and number > largest_odd:  # Check if odd and larger than current largest\n",
    "                largest_odd = number\n",
    "            elif number %2 ==0 and number < smallest_even:\n",
    "                smallest_even = number\n",
    "        return largest_odd - smallest_even    \n",
    "solobj = Solution()\n",
    "print(solobj.maxDifference(\"aaaaabbc\"))    "
   ]
  },
  {
   "cell_type": "code",
   "execution_count": null,
   "metadata": {},
   "outputs": [
    {
     "data": {
      "text/plain": [
       "5"
      ]
     },
     "execution_count": 53,
     "metadata": {},
     "output_type": "execute_result"
    }
   ],
   "source": [
    "\"\"\"3423. Maximum Difference Between Adjacent Elements in a Circular Array\n",
    "Given a circular array nums, find the maximum absolute difference between adjacent elements.\n",
    "Note: In a circular array, the first and last elements are adjacent.\n",
    "Example 1:\n",
    "Input: nums = [1,2,4]\n",
    "Output: 3\n",
    "\"\"\"\n",
    "from typing import List\n",
    "\n",
    "class Solution:\n",
    "    def maxAdjacentDistance(self, nums: List[int]) -> int:\n",
    "        len_nums = len(nums)\n",
    "        the_diff_list = []\n",
    "        for idx in range(len_nums-1):\n",
    "            diff_temp = abs(nums[idx]-nums[idx+1])\n",
    "            the_diff_list.append(diff_temp)\n",
    "        \n",
    "        diff_temp = abs(nums[len_nums-1]-nums[0])\n",
    "        the_diff_list.append(diff_temp)\n",
    "        return max(the_diff_list)\n",
    "    \n",
    "nums_list = [-5,-10,-5]\n",
    "solobj = Solution()\n",
    "solobj.maxAdjacentDistance(nums_list)\n",
    "\n",
    "\"\"\" Faster way\n",
    "        class Solution:\n",
    "    def maxAdjacentDistance(self, nums: List[int]) -> int:\n",
    "        N = len(nums)\n",
    "        nums.append(nums[0])\n",
    "        return max(abs(nums[i] - nums[i+1]) for i in range(N))\n",
    "\"\"\"\n"
   ]
  },
  {
   "cell_type": "code",
   "execution_count": 14,
   "metadata": {},
   "outputs": [
    {
     "name": "stdout",
     "output_type": "stream",
     "text": [
      "121 and 121\n"
     ]
    },
    {
     "data": {
      "text/plain": [
       "True"
      ]
     },
     "execution_count": 14,
     "metadata": {},
     "output_type": "execute_result"
    }
   ],
   "source": [
    "\"\"\"\n",
    "Given an integer x, return true if x is a palindrome, and false otherwise.\n",
    "Example 1:\n",
    "Input: x = 121\n",
    "Output: true\n",
    "Explanation: 121 reads as 121 from left to right and from right to left.\n",
    "\"\"\"\n",
    "from typing import List\n",
    "\n",
    "class Solution:\n",
    "    def isPalindrome(self, x: int) -> bool:\n",
    "        x_str = str(x)\n",
    "        l_num = len(x_str)\n",
    "        rev_x = []\n",
    "        for i in range(l_num-1,0,-1):\n",
    "            rev_x.append(x_str[i])\n",
    "        rev_x.append(x_str[0])\n",
    "        joined_str = ''.join(rev_x)\n",
    "        #can use isdigit()\n",
    "        try:\n",
    "            rev_result = int(joined_str)\n",
    "        except ValueError:\n",
    "            return False\n",
    "        print(f'{x} and {rev_result}')\n",
    "        #result = int(''.join(map(str, int_list)))\n",
    "        return rev_result==x\n",
    "    \n",
    "\n",
    "the_num_to_check = 121\n",
    "solobj = Solution()\n",
    "solobj.isPalindrome(the_num_to_check)        "
   ]
  },
  {
   "cell_type": "code",
   "execution_count": null,
   "metadata": {},
   "outputs": [
    {
     "data": {
      "text/plain": [
       "True"
      ]
     },
     "execution_count": 16,
     "metadata": {},
     "output_type": "execute_result"
    }
   ],
   "source": [
    "#palindrome check via arithmetic\n",
    "\n",
    "class Solution:\n",
    "    def isPalindrome(self, x: int) -> bool:\n",
    "        if x <0:\n",
    "            return False\n",
    "        reverse_x = 0\n",
    "        x_original = x\n",
    "        \n",
    "        while x >0:\n",
    "            reverse_x = (reverse_x *10) + (x%10)\n",
    "            x = x//10 #x is now quotient, taKE a digit away each time\n",
    "        return reverse_x == x_original\n",
    "\n",
    "the_num_to_check = 121\n",
    "solobj = Solution()\n",
    "solobj.isPalindrome(the_num_to_check)    "
   ]
  },
  {
   "cell_type": "code",
   "execution_count": null,
   "metadata": {},
   "outputs": [
    {
     "name": "stdout",
     "output_type": "stream",
     "text": [
      "['M', 'C', 'M', 'X', 'C', 'I', 'V']\n"
     ]
    },
    {
     "data": {
      "text/plain": [
       "1994"
      ]
     },
     "execution_count": 40,
     "metadata": {},
     "output_type": "execute_result"
    }
   ],
   "source": [
    "\"\"\"\n",
    "Roman numerals are represented by seven different symbols: I, V, X, L, C, D and M.\n",
    "\n",
    "Symbol       Value\n",
    "I             1\n",
    "V             5\n",
    "X             10\n",
    "L             50\n",
    "C             100\n",
    "D             500\n",
    "M             1000\n",
    "For example, 2 is written as II in Roman numeral, just two ones added together. 12 is written as XII, which is simply X + II. The number 27 is written as XXVII, which is XX + V + II.\n",
    "Roman numerals are usually written largest to smallest from left to right. However, the numeral for four is not IIII. Instead, the number four is written as IV. Because the one is before the five we subtract it making four. The same principle applies to the number nine, which is written as IX. There are six instances where subtraction is used:\n",
    "\n",
    "I can be placed before V (5) and X (10) to make 4 and 9. \n",
    "X can be placed before L (50) and C (100) to make 40 and 90. \n",
    "C can be placed before D (500) and M (1000) to make 400 and 900.\n",
    "Given a roman numeral, convert it to an integer.\n",
    "Constraints:\n",
    "\n",
    "1 <= s.length <= 15\n",
    "s contains only the characters ('I', 'V', 'X', 'L', 'C', 'D', 'M').\n",
    "It is guaranteed that s is a valid roman numeral in the range [1, 3999].\n",
    "\n",
    "Problem is simpler to solve by working the string from back to front and using a map.\n",
    "    \"\"\"\n",
    "    \n",
    "class Solution:\n",
    "    def romanToInt(self, s: str) -> int:\n",
    "        len_roman = len(s)\n",
    "        list_s = list(s)\n",
    "        hash_roman = {'I':1, 'V':5, 'X':10, 'C':100, 'L':50, 'D':500, 'M':1000}\n",
    "        #hash_roman = dict(enumerate(list_s))\n",
    "        #print(list_s)\n",
    "        final_num = 0\n",
    "        \n",
    "        for i in range(0,len_roman-1):\n",
    "            if hash_roman[list_s[i]] < hash_roman[list_s[i+1]]:\n",
    "                final_num-= hash_roman[list_s[i]]\n",
    "            # elif hash_roman[list_s[i]] < hash_roman[list_s[i+1]]:\n",
    "            else:\n",
    "                final_num+= hash_roman[list_s[i]]\n",
    "        return final_num +  hash_roman[list_s[-1]]\n",
    "roman_to_check = \"MCMXCIV\"\n",
    "solobj = Solution()\n",
    "solobj.romanToInt(roman_to_check) "
   ]
  },
  {
   "cell_type": "code",
   "execution_count": 71,
   "metadata": {},
   "outputs": [
    {
     "data": {
      "text/plain": [
       "'a'"
      ]
     },
     "execution_count": 71,
     "metadata": {},
     "output_type": "execute_result"
    }
   ],
   "source": [
    "\"\"\"Write a function to find the longest common prefix string amongst an array of strings.\n",
    "\n",
    "If there is no common prefix, return an empty string \"\".\n",
    "Example 1:\n",
    "Input: strs = [\"flower\",\"flow\",\"flight\"]\n",
    "Output: \"fl\"\n",
    "\"\"\"\n",
    "from typing import List\n",
    "\n",
    "class Solution:\n",
    "    def longestCommonPrefix(self, strs: List[str]) -> str:\n",
    "        num_str = len(strs)\n",
    "        if num_str == 0:\n",
    "            return \"\"\n",
    "        \n",
    "        #we take first woed as reference\n",
    "        prefix_word = strs[0]\n",
    "        prefix_length = len(prefix_word)\n",
    "\n",
    "        for word in strs[1:]:\n",
    "            while prefix_word != word[0:prefix_length]:\n",
    "                prefix_length-=1\n",
    "                if prefix_length ==0: #first char is diff\n",
    "                    return \"\"\n",
    "                prefix_word = prefix_word[0:prefix_length]\n",
    "        return prefix_word\n",
    "    \n",
    "    \n",
    "lcf_candidates = [\"ab\", \"a\"]\n",
    "solobj = Solution()\n",
    "solobj.longestCommonPrefix(lcf_candidates) "
   ]
  },
  {
   "cell_type": "code",
   "execution_count": null,
   "metadata": {},
   "outputs": [
    {
     "name": "stdout",
     "output_type": "stream",
     "text": [
      "None\n",
      "(\n"
     ]
    },
    {
     "data": {
      "text/plain": [
       "False"
      ]
     },
     "execution_count": 104,
     "metadata": {},
     "output_type": "execute_result"
    }
   ],
   "source": [
    "'''20. Valid Parentheses\n",
    "Given a string s containing just the characters '(', ')', '{', '}', '[' and ']', determine if the input string is valid.\n",
    "An input string is valid if:\n",
    "Open brackets must be closed by the same type of brackets.\n",
    "Open brackets must be closed in the correct order.\n",
    "Every close bracket has a corresponding open bracket of the same type.'''\n",
    "from typing import List\n",
    "\n",
    "#Use a stack of characters. push pop accordingly\n",
    "\n",
    "class Solution:\n",
    "    def isValid(self, s: str) -> bool:\n",
    "        stack_para = []\n",
    "        stack_top = None\n",
    "        num_brackets = len(s)\n",
    "        for i in range(num_brackets):\n",
    "            print(stack_top)\n",
    "            if stack_top == None:\n",
    "                stack_para.append(s[i])\n",
    "                stack_top = s[i]\n",
    "            elif s[i] == '{' or s[i] == '(' or s[i] == '[':\n",
    "                stack_para.append(s[i])\n",
    "                stack_top = s[i]\n",
    "            elif s[i] == '}' and stack_top == '{':\n",
    "                stack_para.pop()\n",
    "                if stack_para:\n",
    "                    stack_top = stack_para[-1]\n",
    "                else:\n",
    "                    stack_top = None \n",
    "            elif s[i] == ')' and stack_top == '(':\n",
    "                stack_para.pop()\n",
    "                if stack_para:\n",
    "                    stack_top = stack_para[-1]\n",
    "                else:\n",
    "                    stack_top = None\n",
    "            elif s[i] == ']' and stack_top == '[':\n",
    "                stack_para.pop()\n",
    "                if stack_para:\n",
    "                    stack_top = stack_para[-1]\n",
    "                else:\n",
    "                    stack_top = None\n",
    "            else:\n",
    "                return False\n",
    "        return len(stack_para)==0        \n",
    "\n",
    "paranthesis_str = \"(])\"\n",
    "solobj = Solution()\n",
    "solobj.isValid(paranthesis_str) \n",
    "\n",
    "\n",
    "\"\"\"\n",
    "alternate approach\n",
    "\n",
    "\n",
    "\"\"\""
   ]
  }
 ],
 "metadata": {
  "kernelspec": {
   "display_name": "Python 3",
   "language": "python",
   "name": "python3"
  },
  "language_info": {
   "codemirror_mode": {
    "name": "ipython",
    "version": 3
   },
   "file_extension": ".py",
   "mimetype": "text/x-python",
   "name": "python",
   "nbconvert_exporter": "python",
   "pygments_lexer": "ipython3",
   "version": "3.13.3"
  }
 },
 "nbformat": 4,
 "nbformat_minor": 2
}
