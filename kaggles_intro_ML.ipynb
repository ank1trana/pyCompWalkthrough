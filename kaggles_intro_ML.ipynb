{
 "cells": [
  {
   "cell_type": "markdown",
   "metadata": {},
   "source": [
    "lesson -> key points -> deeper dive with examples\n",
    "decision tree:   nodes lead to splits and then at teh very bottom: leafs"
   ]
  },
  {
   "cell_type": "markdown",
   "metadata": {},
   "source": [
    "define - fit a model - make predictions - validate our model\n",
    "\n",
    "a. while defining you wanna think which model is best suited for my task\n",
    "b. fitting is the same as training - taking the defined model and applying it to our dataset and asking it to pull underlying patterns\n",
    "c. perdict is generalizingit or apply it to data it has never seen before"
   ]
  },
  {
   "cell_type": "markdown",
   "metadata": {},
   "source": [
    "Example of a decision tree model on housing prices in Melbourne\n",
    "\n",
    "Basic data exploration - pandas (a library for data analysis and manipulation)\n",
    "A DataFrame in Python is a two-dimensional, labeled data structure commonly used for handling and analyzing structured data. It comes from the Pandas library, which is built on top of NumPy.\n"
   ]
  },
  {
   "cell_type": "code",
   "execution_count": null,
   "metadata": {},
   "outputs": [
    {
     "name": "stdout",
     "output_type": "stream",
     "text": [
      "Path to dataset files: /Users/arana/.cache/kagglehub/datasets/ronikmalhotra/melbourne-housing-dataset/versions/1\n",
      "(34857, 22)\n"
     ]
    },
    {
     "name": "stderr",
     "output_type": "stream",
     "text": [
      "/var/folders/w9/spn366751dd808wbdcll3ngc0000gn/T/ipykernel_66261/383762660.py:11: DtypeWarning: Columns (13) have mixed types. Specify dtype option on import or set low_memory=False.\n",
      "  housingdata = pd.read_csv(path+'/Melbourne_housing.csv')\n"
     ]
    }
   ],
   "source": [
    "import kagglehub\n",
    "import pandas as pd\n",
    "# Download latest version\n",
    "path = kagglehub.dataset_download(\"ronikmalhotra/melbourne-housing-dataset\")\n",
    "\n",
    "pathtofile = r\"/Users/arana/.cache/kagglehub/datasets/ronikmalhotra/melbourne-housing-dataset/versions/1/Melbourne_housing.csv\"\n",
    "# print(\"Path to dataset files:\", path)\n",
    "#read into csv\n",
    "\n",
    "housingdata = pd.read_csv(path+'/Melbourne_housing.csv')\n",
    "print(housingdata.shape)"
   ]
  }
 ],
 "metadata": {
  "kernelspec": {
   "display_name": "Python 3",
   "language": "python",
   "name": "python3"
  },
  "language_info": {
   "codemirror_mode": {
    "name": "ipython",
    "version": 3
   },
   "file_extension": ".py",
   "mimetype": "text/x-python",
   "name": "python",
   "nbconvert_exporter": "python",
   "pygments_lexer": "ipython3",
   "version": "3.13.3"
  }
 },
 "nbformat": 4,
 "nbformat_minor": 2
}
