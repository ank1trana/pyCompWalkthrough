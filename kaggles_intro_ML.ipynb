{
 "cells": [
  {
   "cell_type": "markdown",
   "metadata": {},
   "source": [
    "lesson -> key points -> deeper dive with examples\n",
    "decision tree:   nodes lead to splits and then at teh very bottom: leafs"
   ]
  },
  {
   "cell_type": "markdown",
   "metadata": {},
   "source": [
    "define - fit a model - make predictions - validate our model\n",
    "\n",
    "a. while defining you wanna think which model is best suited for my task\n",
    "b. fitting is the same as training - taking the defined model and applying it to our dataset and asking it to pull underlying patterns\n",
    "c. perdict is generalizingit or apply it to data it has never seen before"
   ]
  },
  {
   "cell_type": "markdown",
   "metadata": {},
   "source": [
    "Example of a decision tree model on housing prices in Melbourne\n",
    "\n",
    "Basic data exploration - pandas (a library for data analysis and manipulation)\n",
    "A DataFrame in Python is a two-dimensional, labeled data structure commonly used for handling and analyzing structured data. It comes from the Pandas library, which is built on top of NumPy.\n"
   ]
  },
  {
   "cell_type": "code",
   "execution_count": 6,
   "metadata": {},
   "outputs": [
    {
     "name": "stderr",
     "output_type": "stream",
     "text": [
      "/var/folders/w9/spn366751dd808wbdcll3ngc0000gn/T/ipykernel_66261/1334674297.py:10: DtypeWarning: Columns (13) have mixed types. Specify dtype option on import or set low_memory=False.\n",
      "  housingdata = pd.read_csv(path+'/Melbourne_housing.csv')\n"
     ]
    },
    {
     "data": {
      "text/plain": [
       "(34857, 22)"
      ]
     },
     "execution_count": 6,
     "metadata": {},
     "output_type": "execute_result"
    }
   ],
   "source": [
    "import kagglehub\n",
    "import pandas as pd\n",
    "# Download latest version\n",
    "path = kagglehub.dataset_download(\"ronikmalhotra/melbourne-housing-dataset\")\n",
    "\n",
    "pathtofile = r\"/Users/arana/.cache/kagglehub/datasets/ronikmalhotra/melbourne-housing-dataset/versions/1/Melbourne_housing.csv\"\n",
    "# print(\"Path to dataset files:\", path)\n",
    "#read into csv\n",
    "\n",
    "housingdata = pd.read_csv(path+'/Melbourne_housing.csv')\n",
    "housingdata.shape"
   ]
  },
  {
   "cell_type": "code",
   "execution_count": 7,
   "metadata": {},
   "outputs": [
    {
     "data": {
      "text/plain": [
       "Index(['Suburb', 'Address', 'Rooms', 'Type', 'Method', 'SellerG', 'Date',\n",
       "       'Distance', 'Postcode', 'Bedroom', 'Bathroom', 'Car', 'Landsize',\n",
       "       'BuildingArea', 'YearBuilt', 'CouncilArea', 'Latitude', 'Longtitude',\n",
       "       'Regionname', 'Propertycount', 'ParkingArea', 'Price'],\n",
       "      dtype='object')"
      ]
     },
     "execution_count": 7,
     "metadata": {},
     "output_type": "execute_result"
    }
   ],
   "source": [
    "housingdata.columns"
   ]
  },
  {
   "cell_type": "code",
   "execution_count": 8,
   "metadata": {},
   "outputs": [
    {
     "data": {
      "text/html": [
       "<div>\n",
       "<style scoped>\n",
       "    .dataframe tbody tr th:only-of-type {\n",
       "        vertical-align: middle;\n",
       "    }\n",
       "\n",
       "    .dataframe tbody tr th {\n",
       "        vertical-align: top;\n",
       "    }\n",
       "\n",
       "    .dataframe thead th {\n",
       "        text-align: right;\n",
       "    }\n",
       "</style>\n",
       "<table border=\"1\" class=\"dataframe\">\n",
       "  <thead>\n",
       "    <tr style=\"text-align: right;\">\n",
       "      <th></th>\n",
       "      <th>Suburb</th>\n",
       "      <th>Address</th>\n",
       "      <th>Rooms</th>\n",
       "      <th>Type</th>\n",
       "      <th>Method</th>\n",
       "      <th>SellerG</th>\n",
       "      <th>Date</th>\n",
       "      <th>Distance</th>\n",
       "      <th>Postcode</th>\n",
       "      <th>Bedroom</th>\n",
       "      <th>...</th>\n",
       "      <th>Landsize</th>\n",
       "      <th>BuildingArea</th>\n",
       "      <th>YearBuilt</th>\n",
       "      <th>CouncilArea</th>\n",
       "      <th>Latitude</th>\n",
       "      <th>Longtitude</th>\n",
       "      <th>Regionname</th>\n",
       "      <th>Propertycount</th>\n",
       "      <th>ParkingArea</th>\n",
       "      <th>Price</th>\n",
       "    </tr>\n",
       "  </thead>\n",
       "  <tbody>\n",
       "    <tr>\n",
       "      <th>0</th>\n",
       "      <td>Abbotsford</td>\n",
       "      <td>68 Studley St</td>\n",
       "      <td>2</td>\n",
       "      <td>h</td>\n",
       "      <td>SS</td>\n",
       "      <td>Jellis</td>\n",
       "      <td>3/9/2016</td>\n",
       "      <td>2.5</td>\n",
       "      <td>3067.0</td>\n",
       "      <td>2.0</td>\n",
       "      <td>...</td>\n",
       "      <td>126.0</td>\n",
       "      <td>inf</td>\n",
       "      <td>NaN</td>\n",
       "      <td>Yarra City Council</td>\n",
       "      <td>-37.8014</td>\n",
       "      <td>144.9958</td>\n",
       "      <td>Northern Metropolitan</td>\n",
       "      <td>4019.0</td>\n",
       "      <td>Carport</td>\n",
       "      <td>NaN</td>\n",
       "    </tr>\n",
       "    <tr>\n",
       "      <th>1</th>\n",
       "      <td>Airport West</td>\n",
       "      <td>154 Halsey Rd</td>\n",
       "      <td>3</td>\n",
       "      <td>t</td>\n",
       "      <td>PI</td>\n",
       "      <td>Nelson</td>\n",
       "      <td>3/9/2016</td>\n",
       "      <td>13.5</td>\n",
       "      <td>3042.0</td>\n",
       "      <td>3.0</td>\n",
       "      <td>...</td>\n",
       "      <td>303.0</td>\n",
       "      <td>225</td>\n",
       "      <td>2016.0</td>\n",
       "      <td>Moonee Valley City Council</td>\n",
       "      <td>-37.7180</td>\n",
       "      <td>144.8780</td>\n",
       "      <td>Western Metropolitan</td>\n",
       "      <td>3464.0</td>\n",
       "      <td>Detached Garage</td>\n",
       "      <td>840000.0</td>\n",
       "    </tr>\n",
       "    <tr>\n",
       "      <th>2</th>\n",
       "      <td>Albert Park</td>\n",
       "      <td>105 Kerferd Rd</td>\n",
       "      <td>2</td>\n",
       "      <td>h</td>\n",
       "      <td>S</td>\n",
       "      <td>hockingstuart</td>\n",
       "      <td>3/9/2016</td>\n",
       "      <td>3.3</td>\n",
       "      <td>3206.0</td>\n",
       "      <td>2.0</td>\n",
       "      <td>...</td>\n",
       "      <td>120.0</td>\n",
       "      <td>82</td>\n",
       "      <td>1900.0</td>\n",
       "      <td>Port Phillip City Council</td>\n",
       "      <td>-37.8459</td>\n",
       "      <td>144.9555</td>\n",
       "      <td>Southern Metropolitan</td>\n",
       "      <td>3280.0</td>\n",
       "      <td>Attached Garage</td>\n",
       "      <td>1275000.0</td>\n",
       "    </tr>\n",
       "    <tr>\n",
       "      <th>3</th>\n",
       "      <td>Albert Park</td>\n",
       "      <td>85 Richardson St</td>\n",
       "      <td>2</td>\n",
       "      <td>h</td>\n",
       "      <td>S</td>\n",
       "      <td>Thomson</td>\n",
       "      <td>3/9/2016</td>\n",
       "      <td>3.3</td>\n",
       "      <td>3206.0</td>\n",
       "      <td>2.0</td>\n",
       "      <td>...</td>\n",
       "      <td>159.0</td>\n",
       "      <td>inf</td>\n",
       "      <td>NaN</td>\n",
       "      <td>Port Phillip City Council</td>\n",
       "      <td>-37.8450</td>\n",
       "      <td>144.9538</td>\n",
       "      <td>Southern Metropolitan</td>\n",
       "      <td>3280.0</td>\n",
       "      <td>Indoor</td>\n",
       "      <td>1455000.0</td>\n",
       "    </tr>\n",
       "    <tr>\n",
       "      <th>4</th>\n",
       "      <td>Alphington</td>\n",
       "      <td>30 Austin St</td>\n",
       "      <td>3</td>\n",
       "      <td>h</td>\n",
       "      <td>SN</td>\n",
       "      <td>McGrath</td>\n",
       "      <td>3/9/2016</td>\n",
       "      <td>6.4</td>\n",
       "      <td>3078.0</td>\n",
       "      <td>3.0</td>\n",
       "      <td>...</td>\n",
       "      <td>174.0</td>\n",
       "      <td>122</td>\n",
       "      <td>2003.0</td>\n",
       "      <td>Darebin City Council</td>\n",
       "      <td>-37.7818</td>\n",
       "      <td>145.0198</td>\n",
       "      <td>Northern Metropolitan</td>\n",
       "      <td>2211.0</td>\n",
       "      <td>Parkade</td>\n",
       "      <td>NaN</td>\n",
       "    </tr>\n",
       "  </tbody>\n",
       "</table>\n",
       "<p>5 rows × 22 columns</p>\n",
       "</div>"
      ],
      "text/plain": [
       "         Suburb           Address  Rooms Type Method        SellerG      Date  \\\n",
       "0    Abbotsford     68 Studley St      2    h     SS         Jellis  3/9/2016   \n",
       "1  Airport West     154 Halsey Rd      3    t     PI         Nelson  3/9/2016   \n",
       "2   Albert Park    105 Kerferd Rd      2    h      S  hockingstuart  3/9/2016   \n",
       "3   Albert Park  85 Richardson St      2    h      S        Thomson  3/9/2016   \n",
       "4    Alphington      30 Austin St      3    h     SN        McGrath  3/9/2016   \n",
       "\n",
       "   Distance  Postcode  Bedroom  ...  Landsize  BuildingArea  YearBuilt  \\\n",
       "0       2.5    3067.0      2.0  ...     126.0           inf        NaN   \n",
       "1      13.5    3042.0      3.0  ...     303.0           225     2016.0   \n",
       "2       3.3    3206.0      2.0  ...     120.0            82     1900.0   \n",
       "3       3.3    3206.0      2.0  ...     159.0           inf        NaN   \n",
       "4       6.4    3078.0      3.0  ...     174.0           122     2003.0   \n",
       "\n",
       "                  CouncilArea  Latitude Longtitude             Regionname  \\\n",
       "0          Yarra City Council  -37.8014   144.9958  Northern Metropolitan   \n",
       "1  Moonee Valley City Council  -37.7180   144.8780   Western Metropolitan   \n",
       "2   Port Phillip City Council  -37.8459   144.9555  Southern Metropolitan   \n",
       "3   Port Phillip City Council  -37.8450   144.9538  Southern Metropolitan   \n",
       "4        Darebin City Council  -37.7818   145.0198  Northern Metropolitan   \n",
       "\n",
       "   Propertycount      ParkingArea      Price  \n",
       "0         4019.0          Carport        NaN  \n",
       "1         3464.0  Detached Garage   840000.0  \n",
       "2         3280.0  Attached Garage  1275000.0  \n",
       "3         3280.0           Indoor  1455000.0  \n",
       "4         2211.0          Parkade        NaN  \n",
       "\n",
       "[5 rows x 22 columns]"
      ]
     },
     "execution_count": 8,
     "metadata": {},
     "output_type": "execute_result"
    }
   ],
   "source": [
    "housingdata.head()"
   ]
  },
  {
   "cell_type": "code",
   "execution_count": 9,
   "metadata": {},
   "outputs": [
    {
     "data": {
      "text/plain": [
       "Suburb               0\n",
       "Address              0\n",
       "Rooms                0\n",
       "Type                 0\n",
       "Method               0\n",
       "SellerG              0\n",
       "Date                 0\n",
       "Distance             1\n",
       "Postcode             1\n",
       "Bedroom           8217\n",
       "Bathroom          8226\n",
       "Car               8728\n",
       "Landsize         11810\n",
       "BuildingArea     21097\n",
       "YearBuilt        19306\n",
       "CouncilArea          3\n",
       "Latitude          7976\n",
       "Longtitude        7976\n",
       "Regionname           0\n",
       "Propertycount        3\n",
       "ParkingArea          0\n",
       "Price             7610\n",
       "dtype: int64"
      ]
     },
     "execution_count": 9,
     "metadata": {},
     "output_type": "execute_result"
    }
   ],
   "source": [
    "#look for missing data\n",
    "\n",
    "housingdata.isnull().sum()"
   ]
  }
 ],
 "metadata": {
  "kernelspec": {
   "display_name": "Python 3",
   "language": "python",
   "name": "python3"
  },
  "language_info": {
   "codemirror_mode": {
    "name": "ipython",
    "version": 3
   },
   "file_extension": ".py",
   "mimetype": "text/x-python",
   "name": "python",
   "nbconvert_exporter": "python",
   "pygments_lexer": "ipython3",
   "version": "3.13.3"
  }
 },
 "nbformat": 4,
 "nbformat_minor": 2
}
