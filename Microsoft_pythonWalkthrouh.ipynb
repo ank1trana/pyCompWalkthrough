{
 "cells": [
  {
   "cell_type": "markdown",
   "metadata": {},
   "source": [
    "an interpreted HLL gen purpose langugae created by Guido van Russom\n",
    "flexible and very human readable"
   ]
  },
  {
   "cell_type": "code",
   "execution_count": 4,
   "metadata": {},
   "outputs": [
    {
     "name": "stdout",
     "output_type": "stream",
     "text": [
      "Hello world!\n",
      "\n",
      "Hello world! from double quotes\n",
      " is that good?\n"
     ]
    }
   ],
   "source": [
    "print('Hello world!')\n",
    "print() #puts a blank line\n",
    "print(\"Hello world! from double quotes\\n is that good?\")\n"
   ]
  },
  {
   "cell_type": "code",
   "execution_count": 7,
   "metadata": {},
   "outputs": [
    {
     "name": "stdout",
     "output_type": "stream",
     "text": [
      "hello Ankit\n"
     ]
    }
   ],
   "source": [
    "name = input('Enter name')\n",
    "print('hello '+ name)\n"
   ]
  },
  {
   "cell_type": "code",
   "execution_count": 12,
   "metadata": {},
   "outputs": [
    {
     "name": "stdout",
     "output_type": "stream",
     "text": [
      "addition\n",
      "165\n",
      "\n",
      " -------------------\n",
      "proibably gonna crash for divide by zero\n"
     ]
    }
   ],
   "source": [
    "print('addition')\n",
    "x = 42 + 123\n",
    "print(x)\n",
    "print('\\n -------------------')\n",
    "\n",
    "x = 532+12312\n",
    "#y = 45/0\n",
    "print('proibably gonna crash for divide by zero')"
   ]
  },
  {
   "cell_type": "code",
   "execution_count": 18,
   "metadata": {},
   "outputs": [
    {
     "name": "stdout",
     "output_type": "stream",
     "text": [
      "Ankit\n",
      "hello Ankit\n",
      "SKYWALKER IS A MEAN CAT\n",
      "skywalker is a mean cat\n",
      "Skywalker is a mean cat\n",
      "2\n"
     ]
    }
   ],
   "source": [
    "#lots of string stuff\n",
    "first = 'Ankit'\n",
    "last = 'Rana'\n",
    "print(first)\n",
    "print('hello '+ first)\n",
    "\n",
    "sentence = 'Skywalker is a mean cat'\n",
    "print(sentence.upper())\n",
    "print(sentence.lower())\n",
    "print(sentence.capitalize())\n",
    "print(sentence.count('e'))"
   ]
  },
  {
   "cell_type": "code",
   "execution_count": 26,
   "metadata": {},
   "outputs": [
    {
     "name": "stdout",
     "output_type": "stream",
     "text": [
      "Hi, Ankit      Rana is the full name\n",
      "Hello, Rana Ankit\n",
      "Hello, Ankit Rana\n"
     ]
    }
   ],
   "source": [
    "#formatting strings - only available in python 3\n",
    "output = f\"Hi, {first}      {last} is the full name\"\n",
    "print(output)\n",
    "output = 'Hello, {1} {0}'.format(first,last)\n",
    "print(output)\n",
    "output = 'Hello, {0} {1}'.format(first,last)\n",
    "print(output)"
   ]
  },
  {
   "cell_type": "code",
   "execution_count": 31,
   "metadata": {},
   "outputs": [
    {
     "name": "stdout",
     "output_type": "stream",
     "text": [
      "8\n",
      "36\n",
      "28 in Feb\n"
     ]
    }
   ],
   "source": [
    "'''working with numbers'''\n",
    "first = 6\n",
    "second = 2\n",
    "print(first + second)\n",
    "print(first**second)\n",
    "\n",
    "#combining datatypes\n",
    "\n",
    "days = 28\n",
    "#must do typeconversion\n",
    "print(str(days) + ' in Feb' )"
   ]
  },
  {
   "cell_type": "code",
   "execution_count": 38,
   "metadata": {},
   "outputs": [
    {
     "name": "stdout",
     "output_type": "stream",
     "text": [
      "3.14159\n",
      "Today is: 2025-08-05 20:51:49.693364\n",
      "2025-07-05 20:51:49.693364\n",
      "5\n",
      "8\n"
     ]
    }
   ],
   "source": [
    "pi = 3.14159\n",
    "print(pi)\n",
    "\n",
    "#working with dates data type\n",
    "from datetime import datetime, timedelta\n",
    "current_date = datetime.now()\n",
    "print('Today is: ' + str(current_date))\n",
    "\n",
    "diff_days = timedelta(days=31)\n",
    "thatday = current_date - diff_days\n",
    "print(thatday)\n",
    "print(current_date.day)\n",
    "print(current_date.month)"
   ]
  },
  {
   "cell_type": "code",
   "execution_count": null,
   "metadata": {},
   "outputs": [
    {
     "name": "stdout",
     "output_type": "stream",
     "text": [
      "somehting went wrong\n"
     ]
    }
   ],
   "source": [
    "#error handling - syntax, runtime, logic\n",
    "#runtime: e.g . div by 0\n",
    "#catching runtime errors\n",
    "y = 0\n",
    "try:\n",
    "    print(x/y)\n",
    "except ZeroDivisionError as e:\n",
    "    print('somehting went wrong')\n",
    "\n",
    "#logic: e,g, using < or > flipped in comaprison\n"
   ]
  }
 ],
 "metadata": {
  "kernelspec": {
   "display_name": "Python 3",
   "language": "python",
   "name": "python3"
  },
  "language_info": {
   "codemirror_mode": {
    "name": "ipython",
    "version": 3
   },
   "file_extension": ".py",
   "mimetype": "text/x-python",
   "name": "python",
   "nbconvert_exporter": "python",
   "pygments_lexer": "ipython3",
   "version": "3.13.3"
  }
 },
 "nbformat": 4,
 "nbformat_minor": 2
}
