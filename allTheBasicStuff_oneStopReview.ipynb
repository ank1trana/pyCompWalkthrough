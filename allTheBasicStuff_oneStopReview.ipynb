{
 "cells": [
  {
   "cell_type": "code",
   "execution_count": 20,
   "metadata": {},
   "outputs": [
    {
     "name": "stdout",
     "output_type": "stream",
     "text": [
      "hi, let's get going!\n",
      "hi, let's get going!\n",
      "notice the diff above. Avoiding Escaping \n",
      " If a string contains a single quote, it is easier to enclose it in double quotes,\n",
      " and vice versa. For example:\n"
     ]
    }
   ],
   "source": [
    "print('hi, let\\'s get going!')\n",
    "print(\"hi, let's get going!\")\n",
    "print(\"notice the diff above. Avoiding Escaping \\n If a string contains a single quote, it is easier to enclose it in double quotes,\\n and vice versa. For example:\")"
   ]
  },
  {
   "cell_type": "code",
   "execution_count": 21,
   "metadata": {},
   "outputs": [
    {
     "name": "stdout",
     "output_type": "stream",
     "text": [
      "starry sky\n",
      "****************************************************************************************************\n",
      "price is 20\n",
      "rating is 4.8\n"
     ]
    }
   ],
   "source": [
    "print('starry sky')\n",
    "print('*'  * 100)\n",
    "\n",
    "#vaRIABLES\n",
    "price = 10 #int\n",
    "price = 20\n",
    "rating = 4.80 #float\n",
    "name = \"john doe\"\n",
    "is_published = True #keyword\n",
    "print('price is', price)\n",
    "print('rating is', rating)"
   ]
  },
  {
   "cell_type": "code",
   "execution_count": 22,
   "metadata": {},
   "outputs": [
    {
     "name": "stdout",
     "output_type": "stream",
     "text": [
      "hi ankit\n"
     ]
    }
   ],
   "source": [
    "#getting input\n",
    "name= input('what is your name?')\n",
    "#user enters, we store it in a var called name\n",
    "print('hi',name)\n"
   ]
  },
  {
   "cell_type": "code",
   "execution_count": 26,
   "metadata": {},
   "outputs": [
    {
     "name": "stdout",
     "output_type": "stream",
     "text": [
      "<class 'str'>\n",
      "<class 'int'>\n",
      "age: 34years\n"
     ]
    }
   ],
   "source": [
    "birth_year= input('what is year of your birth?')\n",
    "print(type(birth_year))\n",
    "age  = 2025 - int(birth_year)\n",
    "print(type(age))\n",
    "print('age:', str(age) + 'years')"
   ]
  },
  {
   "cell_type": "code",
   "execution_count": 45,
   "metadata": {},
   "outputs": [
    {
     "name": "stdout",
     "output_type": "stream",
     "text": [
      "\n",
      "this is multi \n",
      "3\n",
      "s\n",
      "\n",
      "this is multi line string\n",
      "and it can go on and on inside the 3 's \n",
      "\n",
      "\n",
      "this is multi \n",
      "\n",
      "this is multi line string\n",
      "and it can go on and on inside the 3 's \n",
      "\n",
      "nkitran\n",
      "Ankit [Rana] is a coder\n"
     ]
    }
   ],
   "source": [
    "mystr = '''\n",
    "this is multi line string\n",
    "and it can go on and on inside the 3 's \n",
    "'''\n",
    "\n",
    "print(mystr[0:15])\n",
    "print(mystr[-6])\n",
    "print(mystr[-15])\n",
    "print(mystr[0:])\n",
    "print(mystr[:15])\n",
    "print(mystr[:])\n",
    "\n",
    "name = \"ankitrana\"\n",
    "print(name[1:-1])\n",
    "\n",
    "#Formatted str\n",
    "\n",
    "first = 'Ankit'\n",
    "last = 'Rana'\n",
    "\n",
    "msg = f'{first} [{last}] is a coder'\n",
    "print(msg)"
   ]
  },
  {
   "cell_type": "code",
   "execution_count": 56,
   "metadata": {},
   "outputs": [
    {
     "name": "stdout",
     "output_type": "stream",
     "text": [
      "20\n",
      "PYTHON FOR BEGINNERS\n",
      "python for beginners\n",
      "0\n",
      "-1\n",
      "PPPPython for beginners\n",
      "True\n",
      "False\n"
     ]
    }
   ],
   "source": [
    "#string functions and methods\n",
    "\n",
    "course = 'Python for beginners'\n",
    "print(len(course))\n",
    "\n",
    "#upper is a method not s func\n",
    "print(course.upper())\n",
    "print(course.lower())\n",
    "print(course.find('P'))\n",
    "print(course.find('p')) #not found\n",
    "print(course.replace('P','PPPP')) #REPLACE CHAR\n",
    "print('Python' in course)\n",
    "print('python' in course)"
   ]
  },
  {
   "cell_type": "code",
   "execution_count": 75,
   "metadata": {},
   "outputs": [
    {
     "name": "stdout",
     "output_type": "stream",
     "text": [
      "13\n",
      "3.3333333333333335\n",
      "3\n",
      "1\n",
      "1000\n",
      "####################################################################################################\n",
      "16\n",
      "31\n",
      "29\n",
      "####################################################################################################\n",
      "3\n",
      "2.9\n"
     ]
    }
   ],
   "source": [
    "#arithmetic ops\n",
    "\n",
    "print(10+3)\n",
    "print(10/3)\n",
    "print(10//3) #int quotient\n",
    "print(10%3)\n",
    "print(10**3)\n",
    "\n",
    "print(100* '#')\n",
    "#operator precedence BOeDMAS: EXPO DIV MUL ADD SUB\n",
    "print(10+3*2)\n",
    "print(10+3*2-1+4**2) \n",
    "print((10+3)*(2-1)+(4**2))\n",
    "print(100* '#')\n",
    "print(round(2.9))\n",
    "print(abs(-2.9))\n"
   ]
  },
  {
   "cell_type": "code",
   "execution_count": 77,
   "metadata": {},
   "outputs": [
    {
     "name": "stdout",
     "output_type": "stream",
     "text": [
      "-2\n",
      "3\n",
      "-3\n",
      "2\n"
     ]
    }
   ],
   "source": [
    "import math\n",
    "#always refer to python 3 math module\n",
    "print(math.ceil(-2.9))\n",
    "print(math.ceil(2.9))\n",
    "print(math.floor(-2.9))\n",
    "print(math.floor(2.9))"
   ]
  },
  {
   "cell_type": "code",
   "execution_count": 82,
   "metadata": {},
   "outputs": [
    {
     "name": "stdout",
     "output_type": "stream",
     "text": [
      "today is cold\n",
      "outside of if else\n"
     ]
    }
   ],
   "source": [
    "#if statements\n",
    "is_hot = False\n",
    "is_cold = True\n",
    "\n",
    "if is_hot:\n",
    "    print('drink water!')\n",
    "elif is_cold:\n",
    "    print('today is cold')\n",
    "else:\n",
    "    print('have a nice day')\n",
    "    \n",
    "print('outside of if else')"
   ]
  },
  {
   "cell_type": "code",
   "execution_count": 85,
   "metadata": {},
   "outputs": [
    {
     "name": "stdout",
     "output_type": "stream",
     "text": [
      "do not qualify\n",
      "qualified\n"
     ]
    }
   ],
   "source": [
    "#logical operators\n",
    "has_high_income = True\n",
    "has_good_credit = False\n",
    "\n",
    "if has_good_credit and has_high_income:\n",
    "    print(\"qualified\")\n",
    "else:\n",
    "    print(\"do not qualify\")\n",
    "\n",
    "has_high_income = True\n",
    "has_good_credit = False\n",
    "\n",
    "if has_good_credit or has_high_income:\n",
    "    print(\"qualified\")\n",
    "else:\n",
    "    print(\"do not qualify\")"
   ]
  },
  {
   "cell_type": "code",
   "execution_count": 89,
   "metadata": {},
   "outputs": [
    {
     "name": "stdout",
     "output_type": "stream",
     "text": [
      "it is a hot day\n"
     ]
    }
   ],
   "source": [
    "#commparison ops\n",
    "temperature = 34\n",
    "\n",
    "if temperature >= 30:\n",
    "    print('it is a hot day')\n",
    "else:\n",
    "    print('not hot')"
   ]
  },
  {
   "cell_type": "code",
   "execution_count": 93,
   "metadata": {},
   "outputs": [
    {
     "name": "stdout",
     "output_type": "stream",
     "text": [
      "1\n",
      "2\n",
      "3\n",
      "4\n",
      "5\n",
      "Done >>>>>>>>>>>>>>>>>>>>>>>>\n",
      "*\n",
      "**\n",
      "***\n",
      "****\n",
      "*****\n",
      "Done >>>>>>>>>>>>>>>>>>>>>>>>>\n"
     ]
    }
   ],
   "source": [
    "#while loops\n",
    "i=1\n",
    "while i<=5:\n",
    "    print(i)\n",
    "    i = i+1\n",
    "print(\"Done >>>>>>>>>>>>>>>>>>>>>>>>\")\n",
    "\n",
    "#lower triangle\n",
    "i=1\n",
    "while i<=5:\n",
    "    print('*'* i)\n",
    "    i = i+1\n",
    "print(\"Done >>>>>>>>>>>>>>>>>>>>>>>>>\")"
   ]
  },
  {
   "cell_type": "code",
   "execution_count": 101,
   "metadata": {},
   "outputs": [
    {
     "name": "stdout",
     "output_type": "stream",
     "text": [
      "ak\n",
      "jk\n",
      "45\n",
      "78\n",
      "12\n",
      "####################################################################################################\n",
      "5\n",
      "6\n",
      "7\n",
      "8\n",
      "9\n",
      "----------------------------------------------------------------------------------------------------\n",
      "5\n",
      "7\n",
      "9\n",
      "11\n",
      "13\n",
      "~~~~~~~~~~~~~~~~~~~~~~~~~~~~~~~~~~~~~~~~~~~~~~~~~~~~~~~~~~~~~~~~~~~~~~~~~~~~~~~~~~~~~~~~~~~~~~~~~~~~\n"
     ]
    }
   ],
   "source": [
    "for item in ['ak','jk',45,78,'12']:\n",
    "    print(item)\n",
    "\n",
    "print(100 * '#')\n",
    "for item in range(5,10):\n",
    "    print(item)\n",
    "\n",
    "print(100 * '-')\n",
    "for item in range(5,15,2):\n",
    "    print(item)\n",
    "print(100 * '~')"
   ]
  },
  {
   "cell_type": "code",
   "execution_count": 108,
   "metadata": {},
   "outputs": [
    {
     "name": "stdout",
     "output_type": "stream",
     "text": [
      "(0,0)\n",
      "(0,1)\n",
      "(0,2)\n",
      "(0,3)\n",
      "(1,0)\n",
      "(1,1)\n",
      "(1,2)\n",
      "(1,3)\n",
      "~~~~~~~~~~~~~~~~~~~~~~~~~~~~~~~~~~~~~~~~~~~~~~~~~~~~~~~~~~~~~~~~~~~~~~~~~~~~~~~~~~~~~~~~~~~~~~~~~~~~\n",
      "xxxxx\n",
      "xx\n",
      "xxxxx\n",
      "xx\n",
      "xx\n"
     ]
    }
   ],
   "source": [
    "#nested loops\n",
    "for x in range(2):\n",
    "    for y in range(4):\n",
    "        print(f'({x},{y})')\n",
    "print(100 * '~')\n",
    "\n",
    "nums = [5,2,5,2,2]\n",
    "\n",
    "for num in nums:\n",
    "    out = ''\n",
    "    for x in range(num): \n",
    "        out+= 'x'\n",
    "    print(out)    "
   ]
  },
  {
   "cell_type": "code",
   "execution_count": 128,
   "metadata": {},
   "outputs": [
    {
     "name": "stdout",
     "output_type": "stream",
     "text": [
      "['bob', 'ross', 'rana', 'ankit']\n",
      "rana\n",
      "ankit\n",
      "['rana', 'ankit']\n",
      "['ross', 'rana']\n",
      "['bob', 'ross', 'rana', 'ankit']\n",
      "['mr_bob', 'ross', 'rana', 'ankit']\n",
      "~~~~~~~~~~~~~~~~~~~~~~~~~~~~~~~~~~~~~~~~~~~~~~~~~~~~~~~~~~~~~~~~~~~~~~~~~~~~~~~~~~~~~~~~~~~~~~~~~~~~\n",
      "~~~~~~~~~~~~~~~~~~~~~~~~~~~~~~~~~~~~~~~~~~~~~~~~~~~~~~~~~~~~~~~~~~~~~~~~~~~~~~~~~~~~~~~~~~~~~~~~~~~~\n",
      "3\n",
      "8\n",
      "12\n",
      "88\n",
      "721\n",
      "largest is 721\n"
     ]
    }
   ],
   "source": [
    "#lists\n",
    "names = ['bob', 'ross', 'rana', 'ankit']\n",
    "print(names)\n",
    "print(names[2])\n",
    "print(names[-1])\n",
    "print(names[2:])\n",
    "print(names[1:3])\n",
    "print(names[:])\n",
    "names[0] = 'mr_bob'\n",
    "print(names)\n",
    "print(100 * '~')\n",
    "print(100 * '~')\n",
    "\n",
    "#largest in a list\n",
    "nums = [3,8,12,7,88,9,12,0,-4,-44,721, -234]\n",
    "total_count = len(nums)\n",
    "largest = 0\n",
    "for index in range(1, total_count):\n",
    "    if nums[index-1] > largest:\n",
    "        largest = nums[index-1]\n",
    "        print(largest)\n",
    "print(f'largest is {largest}')"
   ]
  },
  {
   "cell_type": "code",
   "execution_count": null,
   "metadata": {},
   "outputs": [
    {
     "name": "stdout",
     "output_type": "stream",
     "text": [
      "2\n",
      "5\n",
      "[[4, 5, 6], [7, 8, 9]]\n",
      "[[1, 2, 3]]\n",
      "['bob', 'ross', 'rana', 'ankit', 'john']\n",
      "['jon', 'bob', 'ross', 'rana', 'ankit', 'john']\n",
      "['jon', 'bob', 'rana', 'ankit', 'john']\n",
      "************************************\n",
      "['jon', 'bob', 'rana', 'ankit']\n",
      "2\n",
      "True\n",
      "^^^^^^^^^^^^^^^^^^^^^^^^^^^^^^^^^^^^^^^\n",
      "1\n",
      "None\n",
      "None\n",
      "[-234, -44, -4, 0, 3, 7, 8, 9, 12, 12, 88, 721]\n",
      "[721, 88, 12, 12, 9, 8, 7, 3, 0, -4, -44, -234]\n",
      "^^^^^^^^^^^^^^^^^^^^^^^^^^^^^^^^^^^^^^^\n",
      "[721, 88, 12, 12, 9, 8, 7, 3, 0, -4, -44, -234]\n",
      "[721, 88, 12, 12, 9, 8, 7, 3, 0, -4, -44, -234, 12345]\n"
     ]
    }
   ],
   "source": [
    "#matrix as list of lists\n",
    "\n",
    "matrix = [[1,2,3],[4,5,6],[7,8,9]]\n",
    "\n",
    "print(matrix[0][1])\n",
    "print(matrix[1][1])\n",
    "print(matrix[1:])\n",
    "print(matrix[:1])\n",
    "\n",
    "names = ['bob', 'ross', 'rana', 'ankit']\n",
    "names.append('john')\n",
    "print(names)\n",
    "\n",
    "names.insert(0, 'jon')\n",
    "print(names)\n",
    "\n",
    "names.remove('ross')\n",
    "print(names)\n",
    "\n",
    "# names.clear()\n",
    "# print(names)\n",
    "\n",
    "print('************************************')\n",
    "names.pop()\n",
    "print(names)\n",
    "\n",
    "names.index('rana')\n",
    "print(names.index('rana'))\n",
    "print('rana' in names)\n",
    "print('^^^^^^^^^^^^^^^^^^^^^^^^^^^^^^^^^^^^^^^')\n",
    "print(names.count('bob'))\n",
    "print(names.sort())\n",
    "#largest in a list\n",
    "nums = [3,8,12,7,88,9,12,0,-4,-44,721, -234]\n",
    "print(nums.sort()) #they are now sorted overwritten\n",
    "print(nums)\n",
    "nums.reverse()\n",
    "print(nums)\n",
    "print('^^^^^^^^^^^^^^^^^^^^^^^^^^^^^^^^^^^^^^^')\n",
    "numcopy = nums.copy()\n",
    "nums.append(12345)\n",
    "print(numcopy)\n",
    "print(nums)\n",
    "print('^^^^^^^^^^^^^^^^^^^^^^^^^^^^^^^^^^^^^^^')"
   ]
  },
  {
   "cell_type": "code",
   "execution_count": 172,
   "metadata": {},
   "outputs": [
    {
     "name": "stdout",
     "output_type": "stream",
     "text": [
      "[1, 2, 3, 4, 7, 9, 6, 5]\n"
     ]
    }
   ],
   "source": [
    "#remove duplicates in a list\n",
    "listnums = [1,2,3,3,2,1,4,7,9,7,6,4,5,9,5]\n",
    "\n",
    "oneoccurrence = []\n",
    "\n",
    "for item in listnums:\n",
    "    if item not in oneoccurrence :\n",
    "        oneoccurrence.append(item)\n",
    "print(oneoccurrence)"
   ]
  },
  {
   "cell_type": "code",
   "execution_count": null,
   "metadata": {},
   "outputs": [
    {
     "name": "stdout",
     "output_type": "stream",
     "text": [
      "3\n",
      "2\n"
     ]
    }
   ],
   "source": [
    "#tuples\n",
    "numbers = (1,2,3,1,1)\n",
    "# numbers[0] =6 can't do this\n",
    "print(numbers.count(1)) #how many 1's\n",
    "\n",
    "#tuple unpacking\n",
    "a,b,c,d,e = numbers #applis to lists as well\n",
    "print(b)\n"
   ]
  },
  {
   "cell_type": "code",
   "execution_count": 194,
   "metadata": {},
   "outputs": [
    {
     "name": "stdout",
     "output_type": "stream",
     "text": [
      "john smith\n",
      "john smith\n",
      "None\n",
      "soccer, art, dance\n",
      "soccer, art, dance\n"
     ]
    }
   ],
   "source": [
    "#dictionaries\n",
    "customer = {\n",
    "    \"name\" : \"john smith\",\n",
    "    \"age\" : 30,\n",
    "    \"is_verified\": True\n",
    "}\n",
    "\n",
    "print(customer['name'])\n",
    "\n",
    "print(customer.get('name'))\n",
    "print(customer.get('birthdate'))\n",
    "\n",
    "customer[\"hobby\"] = (\"soccer, art, dance\")\n",
    "print(customer.get('hobby'))\n",
    "print(customer['hobby'])"
   ]
  },
  {
   "cell_type": "code",
   "execution_count": 201,
   "metadata": {},
   "outputs": [
    {
     "name": "stdout",
     "output_type": "stream",
     "text": [
      "8857102\n",
      "eight eight five seven one zero two \n"
     ]
    }
   ],
   "source": [
    "#ask phone num in digits, trsnslate in letters\n",
    "\n",
    "phone_num = input('enter the digits> ')\n",
    "print(phone_num)\n",
    "\n",
    "phonenum_dict = {\n",
    "    \n",
    "    \"1\": 'one',\n",
    "    \"2\": 'two',\n",
    "    \"3\": 'three',\n",
    "    \"4\": 'four',\n",
    "    \"5\": 'five',\n",
    "    \"6\": 'six',\n",
    "    \"7\": 'seven',\n",
    "    \"8\": 'eight',\n",
    "    \"9\": 'nine',\n",
    "    \"0\": 'zero'\n",
    "}\n",
    "\n",
    "displaystr = \"\"\n",
    "for ch in phone_num:\n",
    "    displaystr += phonenum_dict.get(ch, \"!\") + \" \"\n",
    "print(displaystr)\n",
    "    "
   ]
  },
  {
   "cell_type": "code",
   "execution_count": null,
   "metadata": {},
   "outputs": [
    {
     "name": "stdout",
     "output_type": "stream",
     "text": [
      "hi there\n",
      "this is your function\n",
      "hi there bob\n",
      "this is your function\n",
      "hi there ross\n",
      "this is your function\n",
      "hi there mary\n",
      "this is your function\n"
     ]
    }
   ],
   "source": [
    "#functions\n",
    "def greet_user():\n",
    "    print('hi there')\n",
    "    print('this is your function')\n",
    "\n",
    "\n",
    "greet_user()\n",
    "\n",
    "\n",
    "#functions\n",
    "def greet_user2(name):\n",
    "    print(f'hi there {name}')\n",
    "    print('this is your function')\n",
    "\n",
    "\n",
    "greet_user2('bob')\n",
    "greet_user2('ross')\n",
    "greet_user2('mary')"
   ]
  },
  {
   "cell_type": "code",
   "execution_count": null,
   "metadata": {},
   "outputs": [
    {
     "name": "stdout",
     "output_type": "stream",
     "text": [
      "hi there bob\n",
      "this is your function\n"
     ]
    }
   ],
   "source": [
    "#keyword arguments - position doesnt matter\n",
    "#functions\n",
    "def greet_user2(fname, lname):\n",
    "    print(f'hi there {fname}')\n",
    "    print('this is your function')\n",
    "\n",
    "greet_user2(lname = 'smith', fname = 'bob')\n",
    "\n",
    "#positional args arealways passed first, keyword comes after"
   ]
  },
  {
   "cell_type": "code",
   "execution_count": null,
   "metadata": {},
   "outputs": [],
   "source": []
  },
  {
   "cell_type": "code",
   "execution_count": null,
   "metadata": {},
   "outputs": [
    {
     "name": "stdout",
     "output_type": "stream",
     "text": [
      "196\n",
      "None\n"
     ]
    }
   ],
   "source": [
    "def square(number):\n",
    "    print (number*number)\n",
    "\n",
    "print(square(14))\n",
    "#none is returned by default and gets printed\n"
   ]
  },
  {
   "cell_type": "code",
   "execution_count": 220,
   "metadata": {},
   "outputs": [
    {
     "name": "stdout",
     "output_type": "stream",
     "text": [
      "age cant be 0\n"
     ]
    }
   ],
   "source": [
    "#try xcept error handling\n",
    "try:\n",
    "    age = int(input('age: '))\n",
    "    risk = 12312/age\n",
    "    print(age)\n",
    "except ValueError:\n",
    "    print('invalid val')\n",
    "except ZeroDivisionError:\n",
    "    print('age cant be 0')"
   ]
  },
  {
   "cell_type": "code",
   "execution_count": 225,
   "metadata": {},
   "outputs": [
    {
     "name": "stdout",
     "output_type": "stream",
     "text": [
      "draw METHOD\n",
      "10\n"
     ]
    }
   ],
   "source": [
    "#classes: data type\n",
    "\n",
    "class Point:\n",
    "    def move(self):\n",
    "       print('move')\n",
    "    \n",
    "    def draw(self):\n",
    "       print('draw METHOD')  \n",
    "\n",
    "#OBJ IS AN INSTANCE OF THE CLASS       \n",
    "pointobj = Point()\n",
    "pointobj.draw()\n",
    "\n",
    "\n",
    "#ATTRIBUTES of an obj\n",
    "\n",
    "pointobj.xattr = 10\n",
    "pointobj.yattr = 20\n",
    "\n",
    "print(pointobj.xattr)\n"
   ]
  },
  {
   "cell_type": "code",
   "execution_count": 229,
   "metadata": {},
   "outputs": [
    {
     "name": "stdout",
     "output_type": "stream",
     "text": [
      "11\n"
     ]
    }
   ],
   "source": [
    "#costructors\n",
    "#get called on object creation\n",
    "\n",
    "class Point:\n",
    "    \n",
    "    def __init__(self,x,y):\n",
    "        self.x = x\n",
    "        self.y = y\n",
    "    def move(self):\n",
    "       print('move')\n",
    "    \n",
    "    def draw(self):\n",
    "       print('draw METHOD')  \n",
    "\n",
    "#OBJ IS AN INSTANCE OF THE CLASS       \n",
    "pointobj = Point(10,30)\n",
    "pointobj.x = 11\n",
    "print(pointobj.x)"
   ]
  },
  {
   "cell_type": "code",
   "execution_count": 236,
   "metadata": {},
   "outputs": [
    {
     "name": "stdout",
     "output_type": "stream",
     "text": [
      "hi, ok ankit you can talk now\n",
      "hi, ok bob you can talk now\n",
      "hi, ok mary you can talk now\n"
     ]
    }
   ],
   "source": [
    "class Person:\n",
    "    def __init__(self,x):\n",
    "        self.name = x\n",
    "    \n",
    "    def talk(self):\n",
    "        print(f'hi, ok {self.name} you can talk now')\n",
    "\n",
    "personobj1 = Person('ankit')\n",
    "personobj2 = Person('bob')\n",
    "personobj3 = Person('mary')\n",
    "#print(personobj.name)\n",
    "personobj1.talk()\n",
    "personobj2.talk()\n",
    "personobj3.talk()     "
   ]
  },
  {
   "cell_type": "code",
   "execution_count": 241,
   "metadata": {},
   "outputs": [
    {
     "name": "stdout",
     "output_type": "stream",
     "text": [
      "walk ruff ruff!!\n",
      "meow meow\n"
     ]
    }
   ],
   "source": [
    "#inheritance\n",
    "class Mammal:\n",
    "    def walk(self):\n",
    "        print(\"walk ruff ruff!!\")\n",
    "        \n",
    "class Dog(Mammal): \n",
    "    def bark(self):\n",
    "        print('bark')\n",
    "\n",
    "\n",
    "class Cat(Mammal): \n",
    "    def meow(self):\n",
    "        print('meow meow')\n",
    "\n",
    "dog1 = Dog() #create obj\n",
    "dog1.walk()\n",
    "cat1 = Cat()\n",
    "cat1.meow()"
   ]
  },
  {
   "cell_type": "code",
   "execution_count": null,
   "metadata": {},
   "outputs": [],
   "source": [
    "#modules\n",
    "import computeforme\n",
    "#computeforme.py exists  \n",
    "\n",
    "#import specific func or class\n",
    "from  computeforme import kg_to_lbs\n",
    "\n",
    "#helps breaking up the code"
   ]
  },
  {
   "cell_type": "code",
   "execution_count": 254,
   "metadata": {},
   "outputs": [
    {
     "name": "stdout",
     "output_type": "stream",
     "text": [
      "9 0.7407097047620036\n",
      "9 0.263947076846464\n",
      "15 0.37543440624359825\n",
      "9 0.7372241879629666\n"
     ]
    }
   ],
   "source": [
    "#built in modules\n",
    "\n",
    "#https://docs.python.org/3/py-modindex.html\n",
    "#look under library root\n",
    "\n",
    "import random\n",
    "\n",
    "for i in range(4):\n",
    "    x = random.randint(0,15)\n",
    "    y = random.random()\n",
    "    print(x,y)\n",
    "    \n",
    "#random.choice(listnamehere)\n"
   ]
  },
  {
   "cell_type": "code",
   "execution_count": 266,
   "metadata": {},
   "outputs": [
    {
     "name": "stdout",
     "output_type": "stream",
     "text": [
      "True\n",
      ".DS_Store\n",
      "LICENSE\n",
      "tutorial.py\n",
      "math_1.py\n",
      "README.md\n",
      "comparison.py\n",
      "math2.py\n",
      "allTheBasicStuff_oneStopReview.ipynb\n",
      "notebook_2.py\n",
      ".git\n",
      "justadirectory\n",
      "roots.py\n",
      "strthings.py\n"
     ]
    }
   ],
   "source": [
    "#working with directories\n",
    "\n",
    "from pathlib import Path\n",
    "\n",
    "p = Path(\"justadirectory\")\n",
    "print(p.exists())\n",
    "\n",
    "# p = Path(\"emails\")\n",
    "# p.rmdir()\n",
    "# absolute or relative paths\n",
    "\n",
    "pobj = Path()\n",
    "for file in pobj.glob('*'):\n",
    "    print(file)\n"
   ]
  },
  {
   "cell_type": "code",
   "execution_count": 1,
   "metadata": {},
   "outputs": [
    {
     "name": "stdout",
     "output_type": "stream",
     "text": [
      "Requirement already satisfied: openpyxl in /Library/Frameworks/Python.framework/Versions/3.13/lib/python3.13/site-packages (3.1.5)\n",
      "Requirement already satisfied: et-xmlfile in /Library/Frameworks/Python.framework/Versions/3.13/lib/python3.13/site-packages (from openpyxl) (2.0.0)\n",
      "\n",
      "\u001b[1m[\u001b[0m\u001b[34;49mnotice\u001b[0m\u001b[1;39;49m]\u001b[0m\u001b[39;49m A new release of pip is available: \u001b[0m\u001b[31;49m25.0.1\u001b[0m\u001b[39;49m -> \u001b[0m\u001b[32;49m25.1.1\u001b[0m\n",
      "\u001b[1m[\u001b[0m\u001b[34;49mnotice\u001b[0m\u001b[1;39;49m]\u001b[0m\u001b[39;49m To update, run: \u001b[0m\u001b[32;49mpython3 -m pip install --upgrade pip\u001b[0m\n",
      "Collecting pandas\n",
      "  Downloading pandas-2.2.3-cp313-cp313-macosx_11_0_arm64.whl.metadata (89 kB)\n",
      "Collecting numpy>=1.26.0 (from pandas)\n",
      "  Downloading numpy-2.2.6-cp313-cp313-macosx_14_0_arm64.whl.metadata (62 kB)\n",
      "Requirement already satisfied: python-dateutil>=2.8.2 in /Users/arana/Library/Python/3.13/lib/python/site-packages (from pandas) (2.9.0.post0)\n",
      "Collecting pytz>=2020.1 (from pandas)\n",
      "  Downloading pytz-2025.2-py2.py3-none-any.whl.metadata (22 kB)\n",
      "Collecting tzdata>=2022.7 (from pandas)\n",
      "  Downloading tzdata-2025.2-py2.py3-none-any.whl.metadata (1.4 kB)\n",
      "Requirement already satisfied: six>=1.5 in /Users/arana/Library/Python/3.13/lib/python/site-packages (from python-dateutil>=2.8.2->pandas) (1.17.0)\n",
      "Downloading pandas-2.2.3-cp313-cp313-macosx_11_0_arm64.whl (11.3 MB)\n",
      "\u001b[2K   \u001b[90m━━━━━━━━━━━━━━━━━━━━━━━━━━━━━━━━━━━━━━━━\u001b[0m \u001b[32m11.3/11.3 MB\u001b[0m \u001b[31m4.0 MB/s\u001b[0m eta \u001b[36m0:00:00\u001b[0m00:01\u001b[0m00:01\u001b[0m\n",
      "\u001b[?25hDownloading numpy-2.2.6-cp313-cp313-macosx_14_0_arm64.whl (5.1 MB)\n",
      "\u001b[2K   \u001b[90m━━━━━━━━━━━━━━━━━━━━━━━━━━━━━━━━━━━━━━━━\u001b[0m \u001b[32m5.1/5.1 MB\u001b[0m \u001b[31m3.8 MB/s\u001b[0m eta \u001b[36m0:00:00\u001b[0ma \u001b[36m0:00:01\u001b[0m\n",
      "\u001b[?25hDownloading pytz-2025.2-py2.py3-none-any.whl (509 kB)\n",
      "Downloading tzdata-2025.2-py2.py3-none-any.whl (347 kB)\n",
      "Installing collected packages: pytz, tzdata, numpy, pandas\n",
      "\u001b[33m  WARNING: The scripts f2py and numpy-config are installed in '/Library/Frameworks/Python.framework/Versions/3.13/bin' which is not on PATH.\n",
      "  Consider adding this directory to PATH or, if you prefer to suppress this warning, use --no-warn-script-location.\u001b[0m\u001b[33m\n",
      "\u001b[0mSuccessfully installed numpy-2.2.6 pandas-2.2.3 pytz-2025.2 tzdata-2025.2\n",
      "\n",
      "\u001b[1m[\u001b[0m\u001b[34;49mnotice\u001b[0m\u001b[1;39;49m]\u001b[0m\u001b[39;49m A new release of pip is available: \u001b[0m\u001b[31;49m25.0.1\u001b[0m\u001b[39;49m -> \u001b[0m\u001b[32;49m25.1.1\u001b[0m\n",
      "\u001b[1m[\u001b[0m\u001b[34;49mnotice\u001b[0m\u001b[1;39;49m]\u001b[0m\u001b[39;49m To update, run: \u001b[0m\u001b[32;49mpython3 -m pip install --upgrade pip\u001b[0m\n"
     ]
    }
   ],
   "source": [
    "\n",
    "import sys\n",
    "!{sys.executable} -m pip install openpyxl\n",
    "!{sys.executable} -m pip install pandas"
   ]
  },
  {
   "cell_type": "code",
   "execution_count": 17,
   "metadata": {},
   "outputs": [
    {
     "name": "stdout",
     "output_type": "stream",
     "text": [
      "transaction_id\n",
      "4\n"
     ]
    }
   ],
   "source": [
    "#checkout pypi.org for existing packages\n",
    "#openpyxl for ms excel\n",
    "#pip install openpyxl\n",
    "\n",
    "import openpyxl as xl\n",
    "from openpyxl.chart import BarChart, Reference\n",
    "wb = xl.load_workbook('transactions.xlsx')\n",
    "sheet = wb['Sheet1']\n",
    "cell = sheet.cell(1,1)\n",
    "print(cell.value)\n",
    "cell = sheet.cell(1,2)\n",
    "print(sheet.max_row)\n",
    "\n",
    "\n",
    "for row in range(2, sheet.max_row+1):\n",
    "    cell = sheet.cell(row,3)\n",
    "    new_price = cell.value * 0.9\n",
    "    new_price_cell_obj = sheet.cell(row,4)\n",
    "    new_price_cell_obj.value = new_price\n",
    "\n",
    "values = Reference(sheet, min_row=2, \n",
    "          max_row=sheet.max_row,\n",
    "          min_col=4,\n",
    "          max_col=4\n",
    "          )\n",
    "chart = BarChart()\n",
    "chart.add_data(values)\n",
    "sheet.add_chart(chart, 'e2')\n",
    "wb.save('updated_transac.xlsx')"
   ]
  },
  {
   "cell_type": "code",
   "execution_count": null,
   "metadata": {},
   "outputs": [],
   "source": [
    "#ML, A subset of AI\n",
    "#BUILD A MODEL GIVE IT LOTS OF DATA TO TRAIN AND LEARN\n",
    "\n",
    "# import the data\n",
    "# clean the data\n",
    "# split the data into training / test sets\n",
    "# create a model\n",
    "# train the model\n",
    "# make predictions\n",
    "#eval and improve "
   ]
  },
  {
   "cell_type": "code",
   "execution_count": 2,
   "metadata": {},
   "outputs": [
    {
     "data": {
      "text/html": [
       "<div>\n",
       "<style scoped>\n",
       "    .dataframe tbody tr th:only-of-type {\n",
       "        vertical-align: middle;\n",
       "    }\n",
       "\n",
       "    .dataframe tbody tr th {\n",
       "        vertical-align: top;\n",
       "    }\n",
       "\n",
       "    .dataframe thead th {\n",
       "        text-align: right;\n",
       "    }\n",
       "</style>\n",
       "<table border=\"1\" class=\"dataframe\">\n",
       "  <thead>\n",
       "    <tr style=\"text-align: right;\">\n",
       "      <th></th>\n",
       "      <th>Rank</th>\n",
       "      <th>Name</th>\n",
       "      <th>Platform</th>\n",
       "      <th>Year</th>\n",
       "      <th>Genre</th>\n",
       "      <th>Publisher</th>\n",
       "      <th>NA_Sales</th>\n",
       "      <th>EU_Sales</th>\n",
       "      <th>JP_Sales</th>\n",
       "      <th>Other_Sales</th>\n",
       "      <th>Global_Sales</th>\n",
       "    </tr>\n",
       "  </thead>\n",
       "  <tbody>\n",
       "    <tr>\n",
       "      <th>0</th>\n",
       "      <td>1</td>\n",
       "      <td>Wii Sports</td>\n",
       "      <td>Wii</td>\n",
       "      <td>2006.0</td>\n",
       "      <td>Sports</td>\n",
       "      <td>Nintendo</td>\n",
       "      <td>41.49</td>\n",
       "      <td>29.02</td>\n",
       "      <td>3.77</td>\n",
       "      <td>8.46</td>\n",
       "      <td>82.74</td>\n",
       "    </tr>\n",
       "    <tr>\n",
       "      <th>1</th>\n",
       "      <td>2</td>\n",
       "      <td>Super Mario Bros.</td>\n",
       "      <td>NES</td>\n",
       "      <td>1985.0</td>\n",
       "      <td>Platform</td>\n",
       "      <td>Nintendo</td>\n",
       "      <td>29.08</td>\n",
       "      <td>3.58</td>\n",
       "      <td>6.81</td>\n",
       "      <td>0.77</td>\n",
       "      <td>40.24</td>\n",
       "    </tr>\n",
       "    <tr>\n",
       "      <th>2</th>\n",
       "      <td>3</td>\n",
       "      <td>Mario Kart Wii</td>\n",
       "      <td>Wii</td>\n",
       "      <td>2008.0</td>\n",
       "      <td>Racing</td>\n",
       "      <td>Nintendo</td>\n",
       "      <td>15.85</td>\n",
       "      <td>12.88</td>\n",
       "      <td>3.79</td>\n",
       "      <td>3.31</td>\n",
       "      <td>35.82</td>\n",
       "    </tr>\n",
       "    <tr>\n",
       "      <th>3</th>\n",
       "      <td>4</td>\n",
       "      <td>Wii Sports Resort</td>\n",
       "      <td>Wii</td>\n",
       "      <td>2009.0</td>\n",
       "      <td>Sports</td>\n",
       "      <td>Nintendo</td>\n",
       "      <td>15.75</td>\n",
       "      <td>11.01</td>\n",
       "      <td>3.28</td>\n",
       "      <td>2.96</td>\n",
       "      <td>33.00</td>\n",
       "    </tr>\n",
       "    <tr>\n",
       "      <th>4</th>\n",
       "      <td>5</td>\n",
       "      <td>Pokemon Red/Pokemon Blue</td>\n",
       "      <td>GB</td>\n",
       "      <td>1996.0</td>\n",
       "      <td>Role-Playing</td>\n",
       "      <td>Nintendo</td>\n",
       "      <td>11.27</td>\n",
       "      <td>8.89</td>\n",
       "      <td>10.22</td>\n",
       "      <td>1.00</td>\n",
       "      <td>31.37</td>\n",
       "    </tr>\n",
       "    <tr>\n",
       "      <th>...</th>\n",
       "      <td>...</td>\n",
       "      <td>...</td>\n",
       "      <td>...</td>\n",
       "      <td>...</td>\n",
       "      <td>...</td>\n",
       "      <td>...</td>\n",
       "      <td>...</td>\n",
       "      <td>...</td>\n",
       "      <td>...</td>\n",
       "      <td>...</td>\n",
       "      <td>...</td>\n",
       "    </tr>\n",
       "    <tr>\n",
       "      <th>16593</th>\n",
       "      <td>16596</td>\n",
       "      <td>Woody Woodpecker in Crazy Castle 5</td>\n",
       "      <td>GBA</td>\n",
       "      <td>2002.0</td>\n",
       "      <td>Platform</td>\n",
       "      <td>Kemco</td>\n",
       "      <td>0.01</td>\n",
       "      <td>0.00</td>\n",
       "      <td>0.00</td>\n",
       "      <td>0.00</td>\n",
       "      <td>0.01</td>\n",
       "    </tr>\n",
       "    <tr>\n",
       "      <th>16594</th>\n",
       "      <td>16597</td>\n",
       "      <td>Men in Black II: Alien Escape</td>\n",
       "      <td>GC</td>\n",
       "      <td>2003.0</td>\n",
       "      <td>Shooter</td>\n",
       "      <td>Infogrames</td>\n",
       "      <td>0.01</td>\n",
       "      <td>0.00</td>\n",
       "      <td>0.00</td>\n",
       "      <td>0.00</td>\n",
       "      <td>0.01</td>\n",
       "    </tr>\n",
       "    <tr>\n",
       "      <th>16595</th>\n",
       "      <td>16598</td>\n",
       "      <td>SCORE International Baja 1000: The Official Game</td>\n",
       "      <td>PS2</td>\n",
       "      <td>2008.0</td>\n",
       "      <td>Racing</td>\n",
       "      <td>Activision</td>\n",
       "      <td>0.00</td>\n",
       "      <td>0.00</td>\n",
       "      <td>0.00</td>\n",
       "      <td>0.00</td>\n",
       "      <td>0.01</td>\n",
       "    </tr>\n",
       "    <tr>\n",
       "      <th>16596</th>\n",
       "      <td>16599</td>\n",
       "      <td>Know How 2</td>\n",
       "      <td>DS</td>\n",
       "      <td>2010.0</td>\n",
       "      <td>Puzzle</td>\n",
       "      <td>7G//AMES</td>\n",
       "      <td>0.00</td>\n",
       "      <td>0.01</td>\n",
       "      <td>0.00</td>\n",
       "      <td>0.00</td>\n",
       "      <td>0.01</td>\n",
       "    </tr>\n",
       "    <tr>\n",
       "      <th>16597</th>\n",
       "      <td>16600</td>\n",
       "      <td>Spirits &amp; Spells</td>\n",
       "      <td>GBA</td>\n",
       "      <td>2003.0</td>\n",
       "      <td>Platform</td>\n",
       "      <td>Wanadoo</td>\n",
       "      <td>0.01</td>\n",
       "      <td>0.00</td>\n",
       "      <td>0.00</td>\n",
       "      <td>0.00</td>\n",
       "      <td>0.01</td>\n",
       "    </tr>\n",
       "  </tbody>\n",
       "</table>\n",
       "<p>16598 rows × 11 columns</p>\n",
       "</div>"
      ],
      "text/plain": [
       "        Rank                                              Name Platform  \\\n",
       "0          1                                        Wii Sports      Wii   \n",
       "1          2                                 Super Mario Bros.      NES   \n",
       "2          3                                    Mario Kart Wii      Wii   \n",
       "3          4                                 Wii Sports Resort      Wii   \n",
       "4          5                          Pokemon Red/Pokemon Blue       GB   \n",
       "...      ...                                               ...      ...   \n",
       "16593  16596                Woody Woodpecker in Crazy Castle 5      GBA   \n",
       "16594  16597                     Men in Black II: Alien Escape       GC   \n",
       "16595  16598  SCORE International Baja 1000: The Official Game      PS2   \n",
       "16596  16599                                        Know How 2       DS   \n",
       "16597  16600                                  Spirits & Spells      GBA   \n",
       "\n",
       "         Year         Genre   Publisher  NA_Sales  EU_Sales  JP_Sales  \\\n",
       "0      2006.0        Sports    Nintendo     41.49     29.02      3.77   \n",
       "1      1985.0      Platform    Nintendo     29.08      3.58      6.81   \n",
       "2      2008.0        Racing    Nintendo     15.85     12.88      3.79   \n",
       "3      2009.0        Sports    Nintendo     15.75     11.01      3.28   \n",
       "4      1996.0  Role-Playing    Nintendo     11.27      8.89     10.22   \n",
       "...       ...           ...         ...       ...       ...       ...   \n",
       "16593  2002.0      Platform       Kemco      0.01      0.00      0.00   \n",
       "16594  2003.0       Shooter  Infogrames      0.01      0.00      0.00   \n",
       "16595  2008.0        Racing  Activision      0.00      0.00      0.00   \n",
       "16596  2010.0        Puzzle    7G//AMES      0.00      0.01      0.00   \n",
       "16597  2003.0      Platform     Wanadoo      0.01      0.00      0.00   \n",
       "\n",
       "       Other_Sales  Global_Sales  \n",
       "0             8.46         82.74  \n",
       "1             0.77         40.24  \n",
       "2             3.31         35.82  \n",
       "3             2.96         33.00  \n",
       "4             1.00         31.37  \n",
       "...            ...           ...  \n",
       "16593         0.00          0.01  \n",
       "16594         0.00          0.01  \n",
       "16595         0.00          0.01  \n",
       "16596         0.00          0.01  \n",
       "16597         0.00          0.01  \n",
       "\n",
       "[16598 rows x 11 columns]"
      ]
     },
     "execution_count": 2,
     "metadata": {},
     "output_type": "execute_result"
    }
   ],
   "source": [
    "\"\"\"popular libraries\n",
    "numpy\n",
    "pandas\n",
    "matplotlib\n",
    "scikit learn: common algos like nn, dec trees\n",
    "\"\"\"\n",
    "\n",
    "#load data from csv taken from kaggle\n",
    "\n",
    "# import kagglehub\n",
    "# # Download latest version\n",
    "# path = kagglehub.dataset_download(\"gregorut/videogamesales\")\n",
    "# print(\"Path to dataset files:\", path)\n",
    "\n",
    "import pandas as pd\n",
    "df = pd.read_csv('vgsales.csv')\n",
    "df"
   ]
  }
 ],
 "metadata": {
  "kernelspec": {
   "display_name": "Python 3",
   "language": "python",
   "name": "python3"
  },
  "language_info": {
   "codemirror_mode": {
    "name": "ipython",
    "version": 3
   },
   "file_extension": ".py",
   "mimetype": "text/x-python",
   "name": "python",
   "nbconvert_exporter": "python",
   "pygments_lexer": "ipython3",
   "version": "3.13.3"
  }
 },
 "nbformat": 4,
 "nbformat_minor": 2
}
