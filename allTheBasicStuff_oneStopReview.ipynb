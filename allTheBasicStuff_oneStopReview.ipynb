{
 "cells": [
  {
   "cell_type": "code",
   "execution_count": 20,
   "metadata": {},
   "outputs": [
    {
     "name": "stdout",
     "output_type": "stream",
     "text": [
      "hi, let's get going!\n",
      "hi, let's get going!\n",
      "notice the diff above. Avoiding Escaping \n",
      " If a string contains a single quote, it is easier to enclose it in double quotes,\n",
      " and vice versa. For example:\n"
     ]
    }
   ],
   "source": [
    "print('hi, let\\'s get going!')\n",
    "print(\"hi, let's get going!\")\n",
    "print(\"notice the diff above. Avoiding Escaping \\n If a string contains a single quote, it is easier to enclose it in double quotes,\\n and vice versa. For example:\")"
   ]
  },
  {
   "cell_type": "code",
   "execution_count": 21,
   "metadata": {},
   "outputs": [
    {
     "name": "stdout",
     "output_type": "stream",
     "text": [
      "starry sky\n",
      "****************************************************************************************************\n",
      "price is 20\n",
      "rating is 4.8\n"
     ]
    }
   ],
   "source": [
    "print('starry sky')\n",
    "print('*'  * 100)\n",
    "\n",
    "#vaRIABLES\n",
    "price = 10 #int\n",
    "price = 20\n",
    "rating = 4.80 #float\n",
    "name = \"john doe\"\n",
    "is_published = True #keyword\n",
    "print('price is', price)\n",
    "print('rating is', rating)"
   ]
  },
  {
   "cell_type": "code",
   "execution_count": 22,
   "metadata": {},
   "outputs": [
    {
     "name": "stdout",
     "output_type": "stream",
     "text": [
      "hi ankit\n"
     ]
    }
   ],
   "source": [
    "#getting input\n",
    "name= input('what is your name?')\n",
    "#user enters, we store it in a var called name\n",
    "print('hi',name)\n"
   ]
  },
  {
   "cell_type": "code",
   "execution_count": 26,
   "metadata": {},
   "outputs": [
    {
     "name": "stdout",
     "output_type": "stream",
     "text": [
      "<class 'str'>\n",
      "<class 'int'>\n",
      "age: 34years\n"
     ]
    }
   ],
   "source": [
    "birth_year= input('what is year of your birth?')\n",
    "print(type(birth_year))\n",
    "age  = 2025 - int(birth_year)\n",
    "print(type(age))\n",
    "print('age:', str(age) + 'years')"
   ]
  },
  {
   "cell_type": "code",
   "execution_count": 45,
   "metadata": {},
   "outputs": [
    {
     "name": "stdout",
     "output_type": "stream",
     "text": [
      "\n",
      "this is multi \n",
      "3\n",
      "s\n",
      "\n",
      "this is multi line string\n",
      "and it can go on and on inside the 3 's \n",
      "\n",
      "\n",
      "this is multi \n",
      "\n",
      "this is multi line string\n",
      "and it can go on and on inside the 3 's \n",
      "\n",
      "nkitran\n",
      "Ankit [Rana] is a coder\n"
     ]
    }
   ],
   "source": [
    "mystr = '''\n",
    "this is multi line string\n",
    "and it can go on and on inside the 3 's \n",
    "'''\n",
    "\n",
    "print(mystr[0:15])\n",
    "print(mystr[-6])\n",
    "print(mystr[-15])\n",
    "print(mystr[0:])\n",
    "print(mystr[:15])\n",
    "print(mystr[:])\n",
    "\n",
    "name = \"ankitrana\"\n",
    "print(name[1:-1])\n",
    "\n",
    "#Formatted str\n",
    "\n",
    "first = 'Ankit'\n",
    "last = 'Rana'\n",
    "\n",
    "msg = f'{first} [{last}] is a coder'\n",
    "print(msg)"
   ]
  },
  {
   "cell_type": "code",
   "execution_count": 56,
   "metadata": {},
   "outputs": [
    {
     "name": "stdout",
     "output_type": "stream",
     "text": [
      "20\n",
      "PYTHON FOR BEGINNERS\n",
      "python for beginners\n",
      "0\n",
      "-1\n",
      "PPPPython for beginners\n",
      "True\n",
      "False\n"
     ]
    }
   ],
   "source": [
    "#string functions and methods\n",
    "\n",
    "course = 'Python for beginners'\n",
    "print(len(course))\n",
    "\n",
    "#upper is a method not s func\n",
    "print(course.upper())\n",
    "print(course.lower())\n",
    "print(course.find('P'))\n",
    "print(course.find('p')) #not found\n",
    "print(course.replace('P','PPPP')) #REPLACE CHAR\n",
    "print('Python' in course)\n",
    "print('python' in course)"
   ]
  },
  {
   "cell_type": "code",
   "execution_count": 75,
   "metadata": {},
   "outputs": [
    {
     "name": "stdout",
     "output_type": "stream",
     "text": [
      "13\n",
      "3.3333333333333335\n",
      "3\n",
      "1\n",
      "1000\n",
      "####################################################################################################\n",
      "16\n",
      "31\n",
      "29\n",
      "####################################################################################################\n",
      "3\n",
      "2.9\n"
     ]
    }
   ],
   "source": [
    "#arithmetic ops\n",
    "\n",
    "print(10+3)\n",
    "print(10/3)\n",
    "print(10//3) #int quotient\n",
    "print(10%3)\n",
    "print(10**3)\n",
    "\n",
    "print(100* '#')\n",
    "#operator precedence BOeDMAS: EXPO DIV MUL ADD SUB\n",
    "print(10+3*2)\n",
    "print(10+3*2-1+4**2) \n",
    "print((10+3)*(2-1)+(4**2))\n",
    "print(100* '#')\n",
    "print(round(2.9))\n",
    "print(abs(-2.9))\n"
   ]
  },
  {
   "cell_type": "code",
   "execution_count": 77,
   "metadata": {},
   "outputs": [
    {
     "name": "stdout",
     "output_type": "stream",
     "text": [
      "-2\n",
      "3\n",
      "-3\n",
      "2\n"
     ]
    }
   ],
   "source": [
    "import math\n",
    "#always refer to python 3 math module\n",
    "print(math.ceil(-2.9))\n",
    "print(math.ceil(2.9))\n",
    "print(math.floor(-2.9))\n",
    "print(math.floor(2.9))"
   ]
  },
  {
   "cell_type": "code",
   "execution_count": 82,
   "metadata": {},
   "outputs": [
    {
     "name": "stdout",
     "output_type": "stream",
     "text": [
      "today is cold\n",
      "outside of if else\n"
     ]
    }
   ],
   "source": [
    "#if statements\n",
    "is_hot = False\n",
    "is_cold = True\n",
    "\n",
    "if is_hot:\n",
    "    print('drink water!')\n",
    "elif is_cold:\n",
    "    print('today is cold')\n",
    "else:\n",
    "    print('have a nice day')\n",
    "    \n",
    "print('outside of if else')"
   ]
  },
  {
   "cell_type": "code",
   "execution_count": 85,
   "metadata": {},
   "outputs": [
    {
     "name": "stdout",
     "output_type": "stream",
     "text": [
      "do not qualify\n",
      "qualified\n"
     ]
    }
   ],
   "source": [
    "#logical operators\n",
    "has_high_income = True\n",
    "has_good_credit = False\n",
    "\n",
    "if has_good_credit and has_high_income:\n",
    "    print(\"qualified\")\n",
    "else:\n",
    "    print(\"do not qualify\")\n",
    "\n",
    "has_high_income = True\n",
    "has_good_credit = False\n",
    "\n",
    "if has_good_credit or has_high_income:\n",
    "    print(\"qualified\")\n",
    "else:\n",
    "    print(\"do not qualify\")"
   ]
  },
  {
   "cell_type": "code",
   "execution_count": 89,
   "metadata": {},
   "outputs": [
    {
     "name": "stdout",
     "output_type": "stream",
     "text": [
      "it is a hot day\n"
     ]
    }
   ],
   "source": [
    "#commparison ops\n",
    "temperature = 34\n",
    "\n",
    "if temperature >= 30:\n",
    "    print('it is a hot day')\n",
    "else:\n",
    "    print('not hot')"
   ]
  },
  {
   "cell_type": "code",
   "execution_count": 93,
   "metadata": {},
   "outputs": [
    {
     "name": "stdout",
     "output_type": "stream",
     "text": [
      "1\n",
      "2\n",
      "3\n",
      "4\n",
      "5\n",
      "Done >>>>>>>>>>>>>>>>>>>>>>>>\n",
      "*\n",
      "**\n",
      "***\n",
      "****\n",
      "*****\n",
      "Done >>>>>>>>>>>>>>>>>>>>>>>>>\n"
     ]
    }
   ],
   "source": [
    "#while loops\n",
    "i=1\n",
    "while i<=5:\n",
    "    print(i)\n",
    "    i = i+1\n",
    "print(\"Done >>>>>>>>>>>>>>>>>>>>>>>>\")\n",
    "\n",
    "#lower triangle\n",
    "i=1\n",
    "while i<=5:\n",
    "    print('*'* i)\n",
    "    i = i+1\n",
    "print(\"Done >>>>>>>>>>>>>>>>>>>>>>>>>\")"
   ]
  },
  {
   "cell_type": "code",
   "execution_count": 101,
   "metadata": {},
   "outputs": [
    {
     "name": "stdout",
     "output_type": "stream",
     "text": [
      "ak\n",
      "jk\n",
      "45\n",
      "78\n",
      "12\n",
      "####################################################################################################\n",
      "5\n",
      "6\n",
      "7\n",
      "8\n",
      "9\n",
      "----------------------------------------------------------------------------------------------------\n",
      "5\n",
      "7\n",
      "9\n",
      "11\n",
      "13\n",
      "~~~~~~~~~~~~~~~~~~~~~~~~~~~~~~~~~~~~~~~~~~~~~~~~~~~~~~~~~~~~~~~~~~~~~~~~~~~~~~~~~~~~~~~~~~~~~~~~~~~~\n"
     ]
    }
   ],
   "source": [
    "for item in ['ak','jk',45,78,'12']:\n",
    "    print(item)\n",
    "\n",
    "print(100 * '#')\n",
    "for item in range(5,10):\n",
    "    print(item)\n",
    "\n",
    "print(100 * '-')\n",
    "for item in range(5,15,2):\n",
    "    print(item)\n",
    "print(100 * '~')"
   ]
  },
  {
   "cell_type": "code",
   "execution_count": 108,
   "metadata": {},
   "outputs": [
    {
     "name": "stdout",
     "output_type": "stream",
     "text": [
      "(0,0)\n",
      "(0,1)\n",
      "(0,2)\n",
      "(0,3)\n",
      "(1,0)\n",
      "(1,1)\n",
      "(1,2)\n",
      "(1,3)\n",
      "~~~~~~~~~~~~~~~~~~~~~~~~~~~~~~~~~~~~~~~~~~~~~~~~~~~~~~~~~~~~~~~~~~~~~~~~~~~~~~~~~~~~~~~~~~~~~~~~~~~~\n",
      "xxxxx\n",
      "xx\n",
      "xxxxx\n",
      "xx\n",
      "xx\n"
     ]
    }
   ],
   "source": [
    "#nested loops\n",
    "for x in range(2):\n",
    "    for y in range(4):\n",
    "        print(f'({x},{y})')\n",
    "print(100 * '~')\n",
    "\n",
    "nums = [5,2,5,2,2]\n",
    "\n",
    "for num in nums:\n",
    "    out = ''\n",
    "    for x in range(num): \n",
    "        out+= 'x'\n",
    "    print(out)    "
   ]
  },
  {
   "cell_type": "code",
   "execution_count": 128,
   "metadata": {},
   "outputs": [
    {
     "name": "stdout",
     "output_type": "stream",
     "text": [
      "['bob', 'ross', 'rana', 'ankit']\n",
      "rana\n",
      "ankit\n",
      "['rana', 'ankit']\n",
      "['ross', 'rana']\n",
      "['bob', 'ross', 'rana', 'ankit']\n",
      "['mr_bob', 'ross', 'rana', 'ankit']\n",
      "~~~~~~~~~~~~~~~~~~~~~~~~~~~~~~~~~~~~~~~~~~~~~~~~~~~~~~~~~~~~~~~~~~~~~~~~~~~~~~~~~~~~~~~~~~~~~~~~~~~~\n",
      "~~~~~~~~~~~~~~~~~~~~~~~~~~~~~~~~~~~~~~~~~~~~~~~~~~~~~~~~~~~~~~~~~~~~~~~~~~~~~~~~~~~~~~~~~~~~~~~~~~~~\n",
      "3\n",
      "8\n",
      "12\n",
      "88\n",
      "721\n",
      "largest is 721\n"
     ]
    }
   ],
   "source": [
    "#lists\n",
    "names = ['bob', 'ross', 'rana', 'ankit']\n",
    "print(names)\n",
    "print(names[2])\n",
    "print(names[-1])\n",
    "print(names[2:])\n",
    "print(names[1:3])\n",
    "print(names[:])\n",
    "names[0] = 'mr_bob'\n",
    "print(names)\n",
    "print(100 * '~')\n",
    "print(100 * '~')\n",
    "\n",
    "#largest in a list\n",
    "nums = [3,8,12,7,88,9,12,0,-4,-44,721, -234]\n",
    "total_count = len(nums)\n",
    "largest = 0\n",
    "for index in range(1, total_count):\n",
    "    if nums[index-1] > largest:\n",
    "        largest = nums[index-1]\n",
    "        print(largest)\n",
    "print(f'largest is {largest}')"
   ]
  },
  {
   "cell_type": "code",
   "execution_count": null,
   "metadata": {},
   "outputs": [
    {
     "name": "stdout",
     "output_type": "stream",
     "text": [
      "2\n",
      "5\n",
      "[[4, 5, 6], [7, 8, 9]]\n",
      "[[1, 2, 3]]\n",
      "['bob', 'ross', 'rana', 'ankit', 'john']\n",
      "['jon', 'bob', 'ross', 'rana', 'ankit', 'john']\n",
      "['jon', 'bob', 'rana', 'ankit', 'john']\n",
      "************************************\n",
      "['jon', 'bob', 'rana', 'ankit']\n",
      "2\n",
      "True\n",
      "^^^^^^^^^^^^^^^^^^^^^^^^^^^^^^^^^^^^^^^\n",
      "1\n",
      "None\n",
      "None\n",
      "[-234, -44, -4, 0, 3, 7, 8, 9, 12, 12, 88, 721]\n",
      "[721, 88, 12, 12, 9, 8, 7, 3, 0, -4, -44, -234]\n",
      "^^^^^^^^^^^^^^^^^^^^^^^^^^^^^^^^^^^^^^^\n",
      "[721, 88, 12, 12, 9, 8, 7, 3, 0, -4, -44, -234]\n",
      "[721, 88, 12, 12, 9, 8, 7, 3, 0, -4, -44, -234, 12345]\n"
     ]
    }
   ],
   "source": [
    "#matrix as list of lists\n",
    "\n",
    "matrix = [[1,2,3],[4,5,6],[7,8,9]]\n",
    "\n",
    "print(matrix[0][1])\n",
    "print(matrix[1][1])\n",
    "print(matrix[1:])\n",
    "print(matrix[:1])\n",
    "\n",
    "names = ['bob', 'ross', 'rana', 'ankit']\n",
    "names.append('john')\n",
    "print(names)\n",
    "\n",
    "names.insert(0, 'jon')\n",
    "print(names)\n",
    "\n",
    "names.remove('ross')\n",
    "print(names)\n",
    "\n",
    "# names.clear()\n",
    "# print(names)\n",
    "\n",
    "print('************************************')\n",
    "names.pop()\n",
    "print(names)\n",
    "\n",
    "names.index('rana')\n",
    "print(names.index('rana'))\n",
    "print('rana' in names)\n",
    "print('^^^^^^^^^^^^^^^^^^^^^^^^^^^^^^^^^^^^^^^')\n",
    "print(names.count('bob'))\n",
    "print(names.sort())\n",
    "#largest in a list\n",
    "nums = [3,8,12,7,88,9,12,0,-4,-44,721, -234]\n",
    "print(nums.sort()) #they are now sorted overwritten\n",
    "print(nums)\n",
    "nums.reverse()\n",
    "print(nums)\n",
    "print('^^^^^^^^^^^^^^^^^^^^^^^^^^^^^^^^^^^^^^^')\n",
    "numcopy = nums.copy()\n",
    "nums.append(12345)\n",
    "print(numcopy)\n",
    "print(nums)\n",
    "print('^^^^^^^^^^^^^^^^^^^^^^^^^^^^^^^^^^^^^^^')"
   ]
  },
  {
   "cell_type": "code",
   "execution_count": 172,
   "metadata": {},
   "outputs": [
    {
     "name": "stdout",
     "output_type": "stream",
     "text": [
      "[1, 2, 3, 4, 7, 9, 6, 5]\n"
     ]
    }
   ],
   "source": [
    "#remove duplicates in a list\n",
    "listnums = [1,2,3,3,2,1,4,7,9,7,6,4,5,9,5]\n",
    "\n",
    "oneoccurrence = []\n",
    "\n",
    "for item in listnums:\n",
    "    if item not in oneoccurrence :\n",
    "        oneoccurrence.append(item)\n",
    "print(oneoccurrence)"
   ]
  },
  {
   "cell_type": "code",
   "execution_count": null,
   "metadata": {},
   "outputs": [
    {
     "name": "stdout",
     "output_type": "stream",
     "text": [
      "3\n",
      "2\n"
     ]
    }
   ],
   "source": [
    "#tuples\n",
    "numbers = (1,2,3,1,1)\n",
    "# numbers[0] =6 can't do this\n",
    "print(numbers.count(1)) #how many 1's\n",
    "\n",
    "#tuple unpacking\n",
    "a,b,c,d,e = numbers #applis to lists as well\n",
    "print(b)\n"
   ]
  },
  {
   "cell_type": "code",
   "execution_count": 194,
   "metadata": {},
   "outputs": [
    {
     "name": "stdout",
     "output_type": "stream",
     "text": [
      "john smith\n",
      "john smith\n",
      "None\n",
      "soccer, art, dance\n",
      "soccer, art, dance\n"
     ]
    }
   ],
   "source": [
    "#dictionaries\n",
    "customer = {\n",
    "    \"name\" : \"john smith\",\n",
    "    \"age\" : 30,\n",
    "    \"is_verified\": True\n",
    "}\n",
    "\n",
    "print(customer['name'])\n",
    "\n",
    "print(customer.get('name'))\n",
    "print(customer.get('birthdate'))\n",
    "\n",
    "customer[\"hobby\"] = (\"soccer, art, dance\")\n",
    "print(customer.get('hobby'))\n",
    "print(customer['hobby'])"
   ]
  },
  {
   "cell_type": "code",
   "execution_count": 201,
   "metadata": {},
   "outputs": [
    {
     "name": "stdout",
     "output_type": "stream",
     "text": [
      "8857102\n",
      "eight eight five seven one zero two \n"
     ]
    }
   ],
   "source": [
    "#ask phone num in digits, trsnslate in letters\n",
    "\n",
    "phone_num = input('enter the digits> ')\n",
    "print(phone_num)\n",
    "\n",
    "phonenum_dict = {\n",
    "    \n",
    "    \"1\": 'one',\n",
    "    \"2\": 'two',\n",
    "    \"3\": 'three',\n",
    "    \"4\": 'four',\n",
    "    \"5\": 'five',\n",
    "    \"6\": 'six',\n",
    "    \"7\": 'seven',\n",
    "    \"8\": 'eight',\n",
    "    \"9\": 'nine',\n",
    "    \"0\": 'zero'\n",
    "}\n",
    "\n",
    "displaystr = \"\"\n",
    "for ch in phone_num:\n",
    "    displaystr += phonenum_dict.get(ch, \"!\") + \" \"\n",
    "print(displaystr)\n",
    "    "
   ]
  },
  {
   "cell_type": "code",
   "execution_count": null,
   "metadata": {},
   "outputs": [
    {
     "name": "stdout",
     "output_type": "stream",
     "text": [
      "hi there\n",
      "this is your function\n",
      "hi there bob\n",
      "this is your function\n",
      "hi there ross\n",
      "this is your function\n",
      "hi there mary\n",
      "this is your function\n"
     ]
    }
   ],
   "source": [
    "#functions\n",
    "def greet_user():\n",
    "    print('hi there')\n",
    "    print('this is your function')\n",
    "\n",
    "\n",
    "greet_user()\n",
    "\n",
    "\n",
    "#functions\n",
    "def greet_user2(name):\n",
    "    print(f'hi there {name}')\n",
    "    print('this is your function')\n",
    "\n",
    "\n",
    "greet_user2('bob')\n",
    "greet_user2('ross')\n",
    "greet_user2('mary')"
   ]
  },
  {
   "cell_type": "code",
   "execution_count": null,
   "metadata": {},
   "outputs": [
    {
     "name": "stdout",
     "output_type": "stream",
     "text": [
      "hi there bob\n",
      "this is your function\n"
     ]
    }
   ],
   "source": [
    "#keyword arguments - position doesnt matter\n",
    "#functions\n",
    "def greet_user2(fname, lname):\n",
    "    print(f'hi there {fname}')\n",
    "    print('this is your function')\n",
    "\n",
    "greet_user2(lname = 'smith', fname = 'bob')\n",
    "\n",
    "#positional args arealways passed first, keyword comes after"
   ]
  },
  {
   "cell_type": "code",
   "execution_count": null,
   "metadata": {},
   "outputs": [],
   "source": []
  },
  {
   "cell_type": "code",
   "execution_count": null,
   "metadata": {},
   "outputs": [
    {
     "name": "stdout",
     "output_type": "stream",
     "text": [
      "196\n",
      "None\n"
     ]
    }
   ],
   "source": [
    "def square(number):\n",
    "    print (number*number)\n",
    "\n",
    "print(square(14))\n",
    "#none is returned by default and gets printed\n"
   ]
  },
  {
   "cell_type": "code",
   "execution_count": 220,
   "metadata": {},
   "outputs": [
    {
     "name": "stdout",
     "output_type": "stream",
     "text": [
      "age cant be 0\n"
     ]
    }
   ],
   "source": [
    "#try xcept error handling\n",
    "try:\n",
    "    age = int(input('age: '))\n",
    "    risk = 12312/age\n",
    "    print(age)\n",
    "except ValueError:\n",
    "    print('invalid val')\n",
    "except ZeroDivisionError:\n",
    "    print('age cant be 0')"
   ]
  },
  {
   "cell_type": "code",
   "execution_count": 225,
   "metadata": {},
   "outputs": [
    {
     "name": "stdout",
     "output_type": "stream",
     "text": [
      "draw METHOD\n",
      "10\n"
     ]
    }
   ],
   "source": [
    "#classes: data type\n",
    "\n",
    "class Point:\n",
    "    def move(self):\n",
    "       print('move')\n",
    "    \n",
    "    def draw(self):\n",
    "       print('draw METHOD')  \n",
    "\n",
    "#OBJ IS AN INSTANCE OF THE CLASS       \n",
    "pointobj = Point()\n",
    "pointobj.draw()\n",
    "\n",
    "\n",
    "#ATTRIBUTES of an obj\n",
    "\n",
    "pointobj.xattr = 10\n",
    "pointobj.yattr = 20\n",
    "\n",
    "print(pointobj.xattr)\n"
   ]
  },
  {
   "cell_type": "code",
   "execution_count": 229,
   "metadata": {},
   "outputs": [
    {
     "name": "stdout",
     "output_type": "stream",
     "text": [
      "11\n"
     ]
    }
   ],
   "source": [
    "#costructors\n",
    "#get called on object creation\n",
    "\n",
    "class Point:\n",
    "    \n",
    "    def __init__(self,x,y):\n",
    "        self.x = x\n",
    "        self.y = y\n",
    "    def move(self):\n",
    "       print('move')\n",
    "    \n",
    "    def draw(self):\n",
    "       print('draw METHOD')  \n",
    "\n",
    "#OBJ IS AN INSTANCE OF THE CLASS       \n",
    "pointobj = Point(10,30)\n",
    "pointobj.x = 11\n",
    "print(pointobj.x)"
   ]
  },
  {
   "cell_type": "code",
   "execution_count": null,
   "metadata": {},
   "outputs": [
    {
     "name": "stdout",
     "output_type": "stream",
     "text": [
      "hi, ok ankit you can talk now\n"
     ]
    }
   ],
   "source": [
    "class Person:\n",
    "    def __init__(self,x):\n",
    "        self.name = x\n",
    "    \n",
    "    def talk(self):\n",
    "        print(f'hi, ok {self.name} you can talk now')\n",
    "\n",
    "personobj1 = Person('ankit')\n",
    "personobj2 = Person('bob')\n",
    "personobj3 = Person('mary')\n",
    "#print(personobj.name)\n",
    "personobj1.talk()\n",
    "personobj2.talk()\n",
    "personobj3.talk()     "
   ]
  }
 ],
 "metadata": {
  "kernelspec": {
   "display_name": "Python 3",
   "language": "python",
   "name": "python3"
  },
  "language_info": {
   "codemirror_mode": {
    "name": "ipython",
    "version": 3
   },
   "file_extension": ".py",
   "mimetype": "text/x-python",
   "name": "python",
   "nbconvert_exporter": "python",
   "pygments_lexer": "ipython3",
   "version": "3.13.3"
  }
 },
 "nbformat": 4,
 "nbformat_minor": 2
}
