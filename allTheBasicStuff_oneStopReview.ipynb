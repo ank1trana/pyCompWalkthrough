{
 "cells": [
  {
   "cell_type": "code",
   "execution_count": 9,
   "metadata": {},
   "outputs": [
    {
     "name": "stdout",
     "output_type": "stream",
     "text": [
      "hi, let's get going!\n",
      "hi, let's get going!\n",
      "notice the diff above. Avoiding Escaping \n",
      " If a string contains a single quote, it is easier to enclose it in double quotes,\n",
      " and vice versa. For example:\n"
     ]
    }
   ],
   "source": [
    "print('hi, let\\'s get going!')\n",
    "print(\"hi, let's get going!\")\n",
    "print(\"notice the diff above. Avoiding Escaping \\n If a string contains a single quote, it is easier to enclose it in double quotes,\\n and vice versa. For example:\")"
   ]
  },
  {
   "cell_type": "code",
   "execution_count": 17,
   "metadata": {},
   "outputs": [
    {
     "name": "stdout",
     "output_type": "stream",
     "text": [
      "starry sky\n",
      "****************************************************************************************************\n",
      "price is 20\n",
      "rating is 4.8\n"
     ]
    }
   ],
   "source": [
    "print('starry sky')\n",
    "print('*'  * 100)\n",
    "\n",
    "#vaRIABLES\n",
    "price = 10 #int\n",
    "price = 20\n",
    "rating = 4.80 #float\n",
    "name = \"john doe\"\n",
    "is_published = True #keyword\n",
    "print('price is', price)\n",
    "print('rating is', rating)"
   ]
  },
  {
   "cell_type": "code",
   "execution_count": 18,
   "metadata": {},
   "outputs": [
    {
     "name": "stdout",
     "output_type": "stream",
     "text": [
      "hi ankit\n"
     ]
    }
   ],
   "source": [
    "#getting input\n",
    "name= input('what is your name?')\n",
    "#user enters, we store it in a var called name\n",
    "\n",
    "print('hi',name)\n"
   ]
  },
  {
   "cell_type": "code",
   "execution_count": null,
   "metadata": {},
   "outputs": [],
   "source": []
  }
 ],
 "metadata": {
  "kernelspec": {
   "display_name": "Python 3",
   "language": "python",
   "name": "python3"
  },
  "language_info": {
   "codemirror_mode": {
    "name": "ipython",
    "version": 3
   },
   "file_extension": ".py",
   "mimetype": "text/x-python",
   "name": "python",
   "nbconvert_exporter": "python",
   "pygments_lexer": "ipython3",
   "version": "3.13.3"
  }
 },
 "nbformat": 4,
 "nbformat_minor": 2
}
