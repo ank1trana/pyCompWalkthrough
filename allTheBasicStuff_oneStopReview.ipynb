{
 "cells": [
  {
   "cell_type": "code",
   "execution_count": 24,
   "metadata": {},
   "outputs": [
    {
     "name": "stdout",
     "output_type": "stream",
     "text": [
      "hi, let's get going!\n",
      "hi, let's get going!\n",
      "notice the diff above. Avoiding Escaping \n",
      " If a string contains a single quote, it is easier to enclose it in double quotes,\n",
      " and vice versa. For example:\n"
     ]
    }
   ],
   "source": [
    "print('hi, let\\'s get going!')\n",
    "print(\"hi, let's get going!\")\n",
    "print(\"notice the diff above. Avoiding Escaping \\n If a string contains a single quote, it is easier to enclose it in double quotes,\\n and vice versa. For example:\")"
   ]
  },
  {
   "cell_type": "code",
   "execution_count": 25,
   "metadata": {},
   "outputs": [
    {
     "name": "stdout",
     "output_type": "stream",
     "text": [
      "starry sky\n",
      "****************************************************************************************************\n",
      "price is 20\n",
      "rating is 4.8\n"
     ]
    }
   ],
   "source": [
    "print('starry sky')\n",
    "print('*'  * 100)\n",
    "\n",
    "#vaRIABLES\n",
    "price = 10 #int\n",
    "price = 20\n",
    "rating = 4.80 #float\n",
    "name = \"john doe\"\n",
    "is_published = True #keyword\n",
    "print('price is', price)\n",
    "print('rating is', rating)"
   ]
  },
  {
   "cell_type": "code",
   "execution_count": null,
   "metadata": {},
   "outputs": [],
   "source": [
    "#getting input\n",
    "name= input('what is your name?')\n",
    "#user enters, we store it in a var called name\n",
    "print('hi',name)\n"
   ]
  },
  {
   "cell_type": "code",
   "execution_count": null,
   "metadata": {},
   "outputs": [
    {
     "name": "stdout",
     "output_type": "stream",
     "text": [
      "<class 'str'>\n",
      "<class 'int'>\n",
      "age: 34years\n"
     ]
    }
   ],
   "source": [
    "birth_year= input('what is year of your birth?')\n",
    "print(type(birth_year))\n",
    "age  = 2025 - int(birth_year)\n",
    "print(type(age))\n",
    "print('age:', str(age) + 'years')"
   ]
  },
  {
   "cell_type": "code",
   "execution_count": null,
   "metadata": {},
   "outputs": [
    {
     "name": "stdout",
     "output_type": "stream",
     "text": [
      "\n",
      "this is multi \n",
      "3\n",
      "s\n",
      "\n",
      "this is multi line string\n",
      "and it can go on and on inside the 3 's \n",
      "\n",
      "\n",
      "this is multi \n",
      "\n",
      "this is multi line string\n",
      "and it can go on and on inside the 3 's \n",
      "\n",
      "nkitran\n",
      "Ankit [Rana] is a coder\n"
     ]
    }
   ],
   "source": [
    "mystr = '''\n",
    "this is multi line string\n",
    "and it can go on and on inside the 3 's \n",
    "'''\n",
    "\n",
    "print(mystr[0:15])\n",
    "print(mystr[-6])\n",
    "print(mystr[-15])\n",
    "print(mystr[0:])\n",
    "print(mystr[:15])\n",
    "print(mystr[:])\n",
    "\n",
    "name = \"ankitrana\"\n",
    "print(name[1:-1])\n",
    "\n",
    "#Formatted str\n",
    "\n",
    "first = 'Ankit'\n",
    "last = 'Rana'\n",
    "\n",
    "msg = f'{first} [{last}] is a coder'\n",
    "print(msg)"
   ]
  },
  {
   "cell_type": "code",
   "execution_count": null,
   "metadata": {},
   "outputs": [
    {
     "name": "stdout",
     "output_type": "stream",
     "text": [
      "20\n",
      "PYTHON FOR BEGINNERS\n",
      "python for beginners\n",
      "0\n",
      "-1\n",
      "PPPPython for beginners\n",
      "True\n",
      "False\n"
     ]
    }
   ],
   "source": [
    "#string functions and methods\n",
    "\n",
    "course = 'Python for beginners'\n",
    "print(len(course))\n",
    "\n",
    "#upper is a method not s func\n",
    "print(course.upper())\n",
    "print(course.lower())\n",
    "print(course.find('P'))\n",
    "print(course.find('p')) #not found\n",
    "print(course.replace('P','PPPP')) #REPLACE CHAR\n",
    "print('Python' in course)\n",
    "print('python' in course)"
   ]
  },
  {
   "cell_type": "code",
   "execution_count": null,
   "metadata": {},
   "outputs": [
    {
     "name": "stdout",
     "output_type": "stream",
     "text": [
      "13\n",
      "3.3333333333333335\n",
      "3\n",
      "1\n",
      "1000\n",
      "####################################################################################################\n",
      "16\n",
      "31\n",
      "29\n",
      "####################################################################################################\n",
      "3\n",
      "2.9\n"
     ]
    }
   ],
   "source": [
    "#arithmetic ops\n",
    "\n",
    "print(10+3)\n",
    "print(10/3)\n",
    "print(10//3) #int quotient\n",
    "print(10%3)\n",
    "print(10**3)\n",
    "\n",
    "print(100* '#')\n",
    "#operator precedence BOeDMAS: EXPO DIV MUL ADD SUB\n",
    "print(10+3*2)\n",
    "print(10+3*2-1+4**2) \n",
    "print((10+3)*(2-1)+(4**2))\n",
    "print(100* '#')\n",
    "print(round(2.9))\n",
    "print(abs(-2.9))\n"
   ]
  },
  {
   "cell_type": "code",
   "execution_count": null,
   "metadata": {},
   "outputs": [
    {
     "name": "stdout",
     "output_type": "stream",
     "text": [
      "-2\n",
      "3\n",
      "-3\n",
      "2\n"
     ]
    }
   ],
   "source": [
    "import math\n",
    "#always refer to python 3 math module\n",
    "print(math.ceil(-2.9))\n",
    "print(math.ceil(2.9))\n",
    "print(math.floor(-2.9))\n",
    "print(math.floor(2.9))"
   ]
  },
  {
   "cell_type": "code",
   "execution_count": null,
   "metadata": {},
   "outputs": [
    {
     "name": "stdout",
     "output_type": "stream",
     "text": [
      "today is cold\n",
      "outside of if else\n"
     ]
    }
   ],
   "source": [
    "#if statements\n",
    "is_hot = False\n",
    "is_cold = True\n",
    "\n",
    "if is_hot:\n",
    "    print('drink water!')\n",
    "elif is_cold:\n",
    "    print('today is cold')\n",
    "else:\n",
    "    print('have a nice day')\n",
    "    \n",
    "print('outside of if else')"
   ]
  },
  {
   "cell_type": "code",
   "execution_count": null,
   "metadata": {},
   "outputs": [
    {
     "name": "stdout",
     "output_type": "stream",
     "text": [
      "do not qualify\n",
      "qualified\n"
     ]
    }
   ],
   "source": [
    "#logical operators\n",
    "has_high_income = True\n",
    "has_good_credit = False\n",
    "\n",
    "if has_good_credit and has_high_income:\n",
    "    print(\"qualified\")\n",
    "else:\n",
    "    print(\"do not qualify\")\n",
    "\n",
    "has_high_income = True\n",
    "has_good_credit = False\n",
    "\n",
    "if has_good_credit or has_high_income:\n",
    "    print(\"qualified\")\n",
    "else:\n",
    "    print(\"do not qualify\")"
   ]
  },
  {
   "cell_type": "code",
   "execution_count": null,
   "metadata": {},
   "outputs": [
    {
     "name": "stdout",
     "output_type": "stream",
     "text": [
      "it is a hot day\n"
     ]
    }
   ],
   "source": [
    "#commparison ops\n",
    "temperature = 34\n",
    "\n",
    "if temperature >= 30:\n",
    "    print('it is a hot day')\n",
    "else:\n",
    "    print('not hot')"
   ]
  },
  {
   "cell_type": "code",
   "execution_count": 15,
   "metadata": {},
   "outputs": [
    {
     "name": "stdout",
     "output_type": "stream",
     "text": [
      "1\n",
      "2\n",
      "3\n",
      "4\n",
      "5\n",
      "Done >>>>>>>>>>>>>>>>>>>>>>>>\n",
      "*\n",
      "**\n",
      "***\n",
      "****\n",
      "*****\n",
      "Done >>>>>>>>>>>>>>>>>>>>>>>>>\n",
      "Done >>>>>>>>>>>>>>>>>>>>>>>>>\n",
      "*\n",
      "**\n",
      "***\n",
      "****\n",
      "*****\n",
      "*\n",
      "**\n",
      "***\n",
      "****\n",
      "*****\n"
     ]
    }
   ],
   "source": [
    "#while loops\n",
    "i=1\n",
    "while i<=5:\n",
    "    print(i)\n",
    "    i = i+1\n",
    "print(\"Done >>>>>>>>>>>>>>>>>>>>>>>>\")\n",
    "\n",
    "#lower triangle\n",
    "i=1\n",
    "while i<=5:\n",
    "    print('*'* i)\n",
    "    i = i+1\n",
    "print(\"Done >>>>>>>>>>>>>>>>>>>>>>>>>\")\n",
    "\n",
    "#doing it with for\n",
    "print(\"Done >>>>>>>>>>>>>>>>>>>>>>>>>\")\n",
    "for i in range(5):  \n",
    "    for j in range(i + 1):  \n",
    "        print(\"*\", end=\"\")\n",
    "    print()\n",
    "\n",
    "for i in range(1, 6):\n",
    "      print(\"*\"*i)\n"
   ]
  },
  {
   "cell_type": "code",
   "execution_count": null,
   "metadata": {},
   "outputs": [
    {
     "name": "stdout",
     "output_type": "stream",
     "text": [
      "ak\n",
      "jk\n",
      "45\n",
      "78\n",
      "12\n",
      "####################################################################################################\n",
      "5\n",
      "6\n",
      "7\n",
      "8\n",
      "9\n",
      "----------------------------------------------------------------------------------------------------\n",
      "5\n",
      "7\n",
      "9\n",
      "11\n",
      "13\n",
      "~~~~~~~~~~~~~~~~~~~~~~~~~~~~~~~~~~~~~~~~~~~~~~~~~~~~~~~~~~~~~~~~~~~~~~~~~~~~~~~~~~~~~~~~~~~~~~~~~~~~\n"
     ]
    }
   ],
   "source": [
    "for item in ['ak','jk',45,78,'12']:\n",
    "    print(item)\n",
    "\n",
    "print(100 * '#')\n",
    "for item in range(5,10):\n",
    "    print(item)\n",
    "\n",
    "print(100 * '-')\n",
    "for item in range(5,15,2):\n",
    "    print(item)\n",
    "print(100 * '~')"
   ]
  },
  {
   "cell_type": "code",
   "execution_count": null,
   "metadata": {},
   "outputs": [
    {
     "name": "stdout",
     "output_type": "stream",
     "text": [
      "(0,0)\n",
      "(0,1)\n",
      "(0,2)\n",
      "(0,3)\n",
      "(1,0)\n",
      "(1,1)\n",
      "(1,2)\n",
      "(1,3)\n",
      "~~~~~~~~~~~~~~~~~~~~~~~~~~~~~~~~~~~~~~~~~~~~~~~~~~~~~~~~~~~~~~~~~~~~~~~~~~~~~~~~~~~~~~~~~~~~~~~~~~~~\n",
      "xxxxx\n",
      "xx\n",
      "xxxxx\n",
      "xx\n",
      "xx\n"
     ]
    }
   ],
   "source": [
    "#nested loops\n",
    "for x in range(2):\n",
    "    for y in range(4):\n",
    "        print(f'({x},{y})')\n",
    "print(100 * '~')\n",
    "\n",
    "nums = [5,2,5,2,2]\n",
    "\n",
    "for num in nums:\n",
    "    out = ''\n",
    "    for x in range(num): \n",
    "        out+= 'x'\n",
    "    print(out)    "
   ]
  },
  {
   "cell_type": "code",
   "execution_count": null,
   "metadata": {},
   "outputs": [
    {
     "name": "stdout",
     "output_type": "stream",
     "text": [
      "['bob', 'ross', 'rana', 'ankit']\n",
      "rana\n",
      "ankit\n",
      "['rana', 'ankit']\n",
      "['ross', 'rana']\n",
      "['bob', 'ross', 'rana', 'ankit']\n",
      "['mr_bob', 'ross', 'rana', 'ankit']\n",
      "~~~~~~~~~~~~~~~~~~~~~~~~~~~~~~~~~~~~~~~~~~~~~~~~~~~~~~~~~~~~~~~~~~~~~~~~~~~~~~~~~~~~~~~~~~~~~~~~~~~~\n",
      "~~~~~~~~~~~~~~~~~~~~~~~~~~~~~~~~~~~~~~~~~~~~~~~~~~~~~~~~~~~~~~~~~~~~~~~~~~~~~~~~~~~~~~~~~~~~~~~~~~~~\n",
      "3\n",
      "8\n",
      "12\n",
      "88\n",
      "721\n",
      "largest is 721\n"
     ]
    }
   ],
   "source": [
    "#lists\n",
    "names = ['bob', 'ross', 'rana', 'ankit']\n",
    "print(names)\n",
    "print(names[2])\n",
    "print(names[-1])\n",
    "print(names[2:])\n",
    "print(names[1:3])\n",
    "print(names[:])\n",
    "names[0] = 'mr_bob'\n",
    "print(names)\n",
    "print(100 * '~')\n",
    "print(100 * '~')\n",
    "\n",
    "#largest in a list\n",
    "nums = [3,8,12,7,88,9,12,0,-4,-44,721, -234]\n",
    "total_count = len(nums)\n",
    "largest = 0\n",
    "for index in range(1, total_count):\n",
    "    if nums[index-1] > largest:\n",
    "        largest = nums[index-1]\n",
    "        print(largest)\n",
    "print(f'largest is {largest}')"
   ]
  },
  {
   "cell_type": "code",
   "execution_count": null,
   "metadata": {},
   "outputs": [
    {
     "name": "stdout",
     "output_type": "stream",
     "text": [
      "2\n",
      "5\n",
      "[[4, 5, 6], [7, 8, 9]]\n",
      "[[1, 2, 3]]\n",
      "['bob', 'ross', 'rana', 'ankit', 'john']\n",
      "['jon', 'bob', 'ross', 'rana', 'ankit', 'john']\n",
      "['jon', 'bob', 'rana', 'ankit', 'john']\n",
      "************************************\n",
      "['jon', 'bob', 'rana', 'ankit']\n",
      "2\n",
      "True\n",
      "^^^^^^^^^^^^^^^^^^^^^^^^^^^^^^^^^^^^^^^\n",
      "1\n",
      "None\n",
      "None\n",
      "[-234, -44, -4, 0, 3, 7, 8, 9, 12, 12, 88, 721]\n",
      "[721, 88, 12, 12, 9, 8, 7, 3, 0, -4, -44, -234]\n",
      "^^^^^^^^^^^^^^^^^^^^^^^^^^^^^^^^^^^^^^^\n",
      "[721, 88, 12, 12, 9, 8, 7, 3, 0, -4, -44, -234]\n",
      "[721, 88, 12, 12, 9, 8, 7, 3, 0, -4, -44, -234, 12345]\n"
     ]
    }
   ],
   "source": [
    "#matrix as list of lists\n",
    "\n",
    "matrix = [[1,2,3],[4,5,6],[7,8,9]]\n",
    "\n",
    "print(matrix[0][1])\n",
    "print(matrix[1][1])\n",
    "print(matrix[1:])\n",
    "print(matrix[:1])\n",
    "\n",
    "names = ['bob', 'ross', 'rana', 'ankit']\n",
    "names.append('john')\n",
    "print(names)\n",
    "\n",
    "names.insert(0, 'jon')\n",
    "print(names)\n",
    "\n",
    "names.remove('ross')\n",
    "print(names)\n",
    "\n",
    "# names.clear()\n",
    "# print(names)\n",
    "\n",
    "print('************************************')\n",
    "names.pop()\n",
    "print(names)\n",
    "\n",
    "names.index('rana')\n",
    "print(names.index('rana'))\n",
    "print('rana' in names)\n",
    "print('^^^^^^^^^^^^^^^^^^^^^^^^^^^^^^^^^^^^^^^')\n",
    "print(names.count('bob'))\n",
    "print(names.sort())\n",
    "#largest in a list\n",
    "nums = [3,8,12,7,88,9,12,0,-4,-44,721, -234]\n",
    "print(nums.sort()) #they are now sorted overwritten\n",
    "print(nums)\n",
    "nums.reverse()\n",
    "print(nums)\n",
    "print('^^^^^^^^^^^^^^^^^^^^^^^^^^^^^^^^^^^^^^^')\n",
    "numcopy = nums.copy()\n",
    "nums.append(12345)\n",
    "print(numcopy)\n",
    "print(nums)\n",
    "print('^^^^^^^^^^^^^^^^^^^^^^^^^^^^^^^^^^^^^^^')"
   ]
  },
  {
   "cell_type": "code",
   "execution_count": null,
   "metadata": {},
   "outputs": [
    {
     "name": "stdout",
     "output_type": "stream",
     "text": [
      "[1, 2, 3, 4, 7, 9, 6, 5]\n"
     ]
    }
   ],
   "source": [
    "#remove duplicates in a list\n",
    "listnums = [1,2,3,3,2,1,4,7,9,7,6,4,5,9,5]\n",
    "\n",
    "oneoccurrence = []\n",
    "\n",
    "for item in listnums:\n",
    "    if item not in oneoccurrence :\n",
    "        oneoccurrence.append(item)\n",
    "print(oneoccurrence)"
   ]
  },
  {
   "cell_type": "code",
   "execution_count": null,
   "metadata": {},
   "outputs": [
    {
     "name": "stdout",
     "output_type": "stream",
     "text": [
      "3\n",
      "2\n"
     ]
    }
   ],
   "source": [
    "#tuples\n",
    "numbers = (1,2,3,1,1)\n",
    "# numbers[0] =6 can't do this\n",
    "print(numbers.count(1)) #how many 1's\n",
    "\n",
    "#tuple unpacking\n",
    "a,b,c,d,e = numbers #applis to lists as well\n",
    "print(b)\n"
   ]
  },
  {
   "cell_type": "code",
   "execution_count": null,
   "metadata": {},
   "outputs": [
    {
     "name": "stdout",
     "output_type": "stream",
     "text": [
      "john smith\n",
      "john smith\n",
      "None\n",
      "soccer, art, dance\n",
      "soccer, art, dance\n"
     ]
    }
   ],
   "source": [
    "#dictionaries\n",
    "customer = {\n",
    "    \"name\" : \"john smith\",\n",
    "    \"age\" : 30,\n",
    "    \"is_verified\": True\n",
    "}\n",
    "\n",
    "print(customer['name'])\n",
    "\n",
    "print(customer.get('name'))\n",
    "print(customer.get('birthdate'))\n",
    "\n",
    "customer[\"hobby\"] = (\"soccer, art, dance\")\n",
    "print(customer.get('hobby'))\n",
    "print(customer['hobby'])"
   ]
  },
  {
   "cell_type": "code",
   "execution_count": 55,
   "metadata": {},
   "outputs": [
    {
     "name": "stdout",
     "output_type": "stream",
     "text": [
      "[1, 2, 3, [...]]\n",
      "[1, 2, 3, [...]]\n",
      "2\n",
      "[1, 2, 3, [...]]\n",
      "1\n"
     ]
    }
   ],
   "source": [
    "#infinite append on a list\n",
    "\n",
    "a = [1,2,3]\n",
    "a.append(a)\n",
    "\n",
    "print(a)\n",
    "print(a[3])\n",
    "print(a[3][1])\n",
    "print(a[3][3])\n",
    "print(a[3][0])\n"
   ]
  },
  {
   "cell_type": "code",
   "execution_count": null,
   "metadata": {},
   "outputs": [
    {
     "name": "stdout",
     "output_type": "stream",
     "text": [
      "1 2 3\n",
      "1 2 3\n"
     ]
    }
   ],
   "source": [
    "#positional only vs keyword args\n",
    "def func_arg_type(a,b,/,c):\n",
    "    print(a,b,c)\n",
    "    \n",
    "#func_arg_type(a=1,b=2,c=3) \n",
    "#TypeError: func_arg_type() got some positional-only arguments passed as keyword arguments: 'a, b'\n",
    " \n",
    "#func_arg_type(1,b=2,c=3) #same prob with 'b'\n",
    "func_arg_type(1,2,c=3) #CORRECT WAY\n",
    "func_arg_type(1,2,3) #ALSO WORKS\n"
   ]
  },
  {
   "cell_type": "code",
   "execution_count": null,
   "metadata": {},
   "outputs": [
    {
     "name": "stdout",
     "output_type": "stream",
     "text": [
      "8857102\n",
      "eight eight five seven one zero two \n"
     ]
    }
   ],
   "source": [
    "#ask phone num in digits, trsnslate in letters\n",
    "\n",
    "phone_num = input('enter the digits> ')\n",
    "print(phone_num)\n",
    "\n",
    "phonenum_dict = {\n",
    "    \n",
    "    \"1\": 'one',\n",
    "    \"2\": 'two',\n",
    "    \"3\": 'three',\n",
    "    \"4\": 'four',\n",
    "    \"5\": 'five',\n",
    "    \"6\": 'six',\n",
    "    \"7\": 'seven',\n",
    "    \"8\": 'eight',\n",
    "    \"9\": 'nine',\n",
    "    \"0\": 'zero'\n",
    "}\n",
    "\n",
    "displaystr = \"\"\n",
    "for ch in phone_num:\n",
    "    displaystr += phonenum_dict.get(ch, \"!\") + \" \"\n",
    "print(displaystr)\n",
    "    "
   ]
  },
  {
   "cell_type": "code",
   "execution_count": null,
   "metadata": {},
   "outputs": [
    {
     "name": "stdout",
     "output_type": "stream",
     "text": [
      "hi there\n",
      "this is your function\n",
      "hi there bob\n",
      "this is your function\n",
      "hi there ross\n",
      "this is your function\n",
      "hi there mary\n",
      "this is your function\n"
     ]
    }
   ],
   "source": [
    "#functions\n",
    "def greet_user():\n",
    "    print('hi there')\n",
    "    print('this is your function')\n",
    "\n",
    "\n",
    "greet_user()\n",
    "\n",
    "\n",
    "#functions\n",
    "def greet_user2(name):\n",
    "    print(f'hi there {name}')\n",
    "    print('this is your function')\n",
    "\n",
    "\n",
    "greet_user2('bob')\n",
    "greet_user2('ross')\n",
    "greet_user2('mary')"
   ]
  },
  {
   "cell_type": "code",
   "execution_count": null,
   "metadata": {},
   "outputs": [
    {
     "name": "stdout",
     "output_type": "stream",
     "text": [
      "hi there bob\n",
      "this is your function\n"
     ]
    }
   ],
   "source": [
    "#keyword arguments - position doesnt matter\n",
    "#functions\n",
    "def greet_user2(fname, lname):\n",
    "    print(f'hi there {fname}')\n",
    "    print('this is your function')\n",
    "\n",
    "greet_user2(lname = 'smith', fname = 'bob')\n",
    "\n",
    "#positional args arealways passed first, keyword comes after"
   ]
  },
  {
   "cell_type": "code",
   "execution_count": null,
   "metadata": {},
   "outputs": [],
   "source": []
  },
  {
   "cell_type": "code",
   "execution_count": null,
   "metadata": {},
   "outputs": [
    {
     "name": "stdout",
     "output_type": "stream",
     "text": [
      "196\n",
      "None\n"
     ]
    }
   ],
   "source": [
    "def square(number):\n",
    "    print (number*number)\n",
    "\n",
    "print(square(14))\n",
    "#none is returned by default and gets printed\n"
   ]
  },
  {
   "cell_type": "code",
   "execution_count": null,
   "metadata": {},
   "outputs": [
    {
     "name": "stdout",
     "output_type": "stream",
     "text": [
      "age cant be 0\n"
     ]
    }
   ],
   "source": [
    "#try xcept error handling\n",
    "try:\n",
    "    age = int(input('age: '))\n",
    "    risk = 12312/age\n",
    "    print(age)\n",
    "except ValueError:\n",
    "    print('invalid val')\n",
    "except ZeroDivisionError:\n",
    "    print('age cant be 0')"
   ]
  },
  {
   "cell_type": "code",
   "execution_count": null,
   "metadata": {},
   "outputs": [
    {
     "data": {
      "text/plain": [
       "[1, 2, 3, 4, 7, 8, 9, 11, 15, 17]"
      ]
     },
     "execution_count": 63,
     "metadata": {},
     "output_type": "execute_result"
    }
   ],
   "source": [
    "#sets in python\n",
    "\n",
    "def merge_arr(arrayA, arrayB):\n",
    "    return sorted(set(arrayA + arrayB))\n",
    "\n",
    "#set would remove duplicates just how they are stored in memory\n",
    "\n",
    "a = [1,1,1,1,2,3,8,9,4]\n",
    "b = [1,7,3,9,11,15, 17]  \n",
    "#merge a and b, remove duplicates, return in sorted oder ascending\n",
    "\n",
    "c= merge_arr(a,b)\n",
    "c "
   ]
  },
  {
   "cell_type": "code",
   "execution_count": null,
   "metadata": {},
   "outputs": [
    {
     "name": "stdout",
     "output_type": "stream",
     "text": [
      "draw METHOD\n",
      "10\n"
     ]
    }
   ],
   "source": [
    "#classes: data type\n",
    "\n",
    "class Point:\n",
    "    def move(self):\n",
    "       print('move')\n",
    "    \n",
    "    def draw(self):\n",
    "       print('draw METHOD')  \n",
    "\n",
    "#OBJ IS AN INSTANCE OF THE CLASS       \n",
    "pointobj = Point()\n",
    "pointobj.draw()\n",
    "\n",
    "\n",
    "#ATTRIBUTES of an obj\n",
    "\n",
    "pointobj.xattr = 10\n",
    "pointobj.yattr = 20\n",
    "\n",
    "print(pointobj.xattr)\n"
   ]
  },
  {
   "cell_type": "code",
   "execution_count": 64,
   "metadata": {},
   "outputs": [
    {
     "name": "stdout",
     "output_type": "stream",
     "text": [
      "aaaaabbddennssvv\n",
      "<class 'set'>\n"
     ]
    }
   ],
   "source": [
    "s = \"asdasdenbvnvbaaa\"\n",
    "print(\"\".join((sorted(s))))\n",
    "\n",
    "l = set((sorted(s)))\n",
    "print(type(l))\n",
    "\n",
    "#sets in Python are implemented using hash tables. This allows for efficient membership checking, insertion, and deletion operations, with an average time complexity of O(1).\n",
    "\n"
   ]
  },
  {
   "cell_type": "code",
   "execution_count": null,
   "metadata": {},
   "outputs": [
    {
     "name": "stdout",
     "output_type": "stream",
     "text": [
      "11\n"
     ]
    }
   ],
   "source": [
    "#costructors\n",
    "#get called on object creation\n",
    "\n",
    "class Point:\n",
    "    \n",
    "    def __init__(self,x,y):\n",
    "        self.x = x\n",
    "        self.y = y\n",
    "    def move(self):\n",
    "       print('move')\n",
    "    \n",
    "    def draw(self):\n",
    "       print('draw METHOD')  \n",
    "\n",
    "#OBJ IS AN INSTANCE OF THE CLASS       \n",
    "pointobj = Point(10,30)\n",
    "pointobj.x = 11\n",
    "print(pointobj.x)"
   ]
  },
  {
   "cell_type": "code",
   "execution_count": null,
   "metadata": {},
   "outputs": [
    {
     "name": "stdout",
     "output_type": "stream",
     "text": [
      "hi, ok ankit you can talk now\n",
      "hi, ok bob you can talk now\n",
      "hi, ok mary you can talk now\n"
     ]
    }
   ],
   "source": [
    "class Person:\n",
    "    def __init__(self,x):\n",
    "        self.name = x\n",
    "    \n",
    "    def talk(self):\n",
    "        print(f'hi, ok {self.name} you can talk now')\n",
    "\n",
    "personobj1 = Person('ankit')\n",
    "personobj2 = Person('bob')\n",
    "personobj3 = Person('mary')\n",
    "#print(personobj.name)\n",
    "personobj1.talk()\n",
    "personobj2.talk()\n",
    "personobj3.talk()     "
   ]
  },
  {
   "cell_type": "code",
   "execution_count": null,
   "metadata": {},
   "outputs": [
    {
     "name": "stdout",
     "output_type": "stream",
     "text": [
      "walk ruff ruff!!\n",
      "meow meow\n"
     ]
    }
   ],
   "source": [
    "#inheritance\n",
    "class Mammal:\n",
    "    def walk(self):\n",
    "        print(\"walk ruff ruff!!\")\n",
    "        \n",
    "class Dog(Mammal): \n",
    "    def bark(self):\n",
    "        print('bark')\n",
    "\n",
    "\n",
    "class Cat(Mammal): \n",
    "    def meow(self):\n",
    "        print('meow meow')\n",
    "\n",
    "dog1 = Dog() #create obj\n",
    "dog1.walk()\n",
    "cat1 = Cat()\n",
    "cat1.meow()"
   ]
  },
  {
   "cell_type": "code",
   "execution_count": null,
   "metadata": {},
   "outputs": [],
   "source": [
    "#modules\n",
    "import computeforme\n",
    "#computeforme.py exists  \n",
    "\n",
    "#import specific func or class\n",
    "from  computeforme import kg_to_lbs\n",
    "\n",
    "#helps breaking up the code"
   ]
  },
  {
   "cell_type": "code",
   "execution_count": null,
   "metadata": {},
   "outputs": [
    {
     "name": "stdout",
     "output_type": "stream",
     "text": [
      "9 0.7407097047620036\n",
      "9 0.263947076846464\n",
      "15 0.37543440624359825\n",
      "9 0.7372241879629666\n"
     ]
    }
   ],
   "source": [
    "#built in modules\n",
    "\n",
    "#https://docs.python.org/3/py-modindex.html\n",
    "#look under library root\n",
    "\n",
    "import random\n",
    "\n",
    "for i in range(4):\n",
    "    x = random.randint(0,15)\n",
    "    y = random.random()\n",
    "    print(x,y)\n",
    "    \n",
    "#random.choice(listnamehere)\n"
   ]
  },
  {
   "cell_type": "code",
   "execution_count": null,
   "metadata": {},
   "outputs": [
    {
     "name": "stdout",
     "output_type": "stream",
     "text": [
      "True\n",
      ".DS_Store\n",
      "LICENSE\n",
      "tutorial.py\n",
      "math_1.py\n",
      "README.md\n",
      "comparison.py\n",
      "math2.py\n",
      "allTheBasicStuff_oneStopReview.ipynb\n",
      "notebook_2.py\n",
      ".git\n",
      "justadirectory\n",
      "roots.py\n",
      "strthings.py\n"
     ]
    }
   ],
   "source": [
    "#working with directories\n",
    "\n",
    "from pathlib import Path\n",
    "\n",
    "p = Path(\"justadirectory\")\n",
    "print(p.exists())\n",
    "\n",
    "# p = Path(\"emails\")\n",
    "# p.rmdir()\n",
    "# absolute or relative paths\n",
    "\n",
    "pobj = Path()\n",
    "for file in pobj.glob('*'):\n",
    "    print(file)\n"
   ]
  },
  {
   "cell_type": "code",
   "execution_count": null,
   "metadata": {},
   "outputs": [
    {
     "name": "stdout",
     "output_type": "stream",
     "text": [
      "Requirement already satisfied: openpyxl in /Library/Frameworks/Python.framework/Versions/3.13/lib/python3.13/site-packages (3.1.5)\n",
      "Requirement already satisfied: et-xmlfile in /Library/Frameworks/Python.framework/Versions/3.13/lib/python3.13/site-packages (from openpyxl) (2.0.0)\n",
      "\n",
      "\u001b[1m[\u001b[0m\u001b[34;49mnotice\u001b[0m\u001b[1;39;49m]\u001b[0m\u001b[39;49m A new release of pip is available: \u001b[0m\u001b[31;49m25.0.1\u001b[0m\u001b[39;49m -> \u001b[0m\u001b[32;49m25.1.1\u001b[0m\n",
      "\u001b[1m[\u001b[0m\u001b[34;49mnotice\u001b[0m\u001b[1;39;49m]\u001b[0m\u001b[39;49m To update, run: \u001b[0m\u001b[32;49mpython3 -m pip install --upgrade pip\u001b[0m\n",
      "Collecting pandas\n",
      "  Downloading pandas-2.2.3-cp313-cp313-macosx_11_0_arm64.whl.metadata (89 kB)\n",
      "Collecting numpy>=1.26.0 (from pandas)\n",
      "  Downloading numpy-2.2.6-cp313-cp313-macosx_14_0_arm64.whl.metadata (62 kB)\n",
      "Requirement already satisfied: python-dateutil>=2.8.2 in /Users/arana/Library/Python/3.13/lib/python/site-packages (from pandas) (2.9.0.post0)\n",
      "Collecting pytz>=2020.1 (from pandas)\n",
      "  Downloading pytz-2025.2-py2.py3-none-any.whl.metadata (22 kB)\n",
      "Collecting tzdata>=2022.7 (from pandas)\n",
      "  Downloading tzdata-2025.2-py2.py3-none-any.whl.metadata (1.4 kB)\n",
      "Requirement already satisfied: six>=1.5 in /Users/arana/Library/Python/3.13/lib/python/site-packages (from python-dateutil>=2.8.2->pandas) (1.17.0)\n",
      "Downloading pandas-2.2.3-cp313-cp313-macosx_11_0_arm64.whl (11.3 MB)\n",
      "\u001b[2K   \u001b[90m━━━━━━━━━━━━━━━━━━━━━━━━━━━━━━━━━━━━━━━━\u001b[0m \u001b[32m11.3/11.3 MB\u001b[0m \u001b[31m4.0 MB/s\u001b[0m eta \u001b[36m0:00:00\u001b[0m00:01\u001b[0m00:01\u001b[0m\n",
      "\u001b[?25hDownloading numpy-2.2.6-cp313-cp313-macosx_14_0_arm64.whl (5.1 MB)\n",
      "\u001b[2K   \u001b[90m━━━━━━━━━━━━━━━━━━━━━━━━━━━━━━━━━━━━━━━━\u001b[0m \u001b[32m5.1/5.1 MB\u001b[0m \u001b[31m3.8 MB/s\u001b[0m eta \u001b[36m0:00:00\u001b[0ma \u001b[36m0:00:01\u001b[0m\n",
      "\u001b[?25hDownloading pytz-2025.2-py2.py3-none-any.whl (509 kB)\n",
      "Downloading tzdata-2025.2-py2.py3-none-any.whl (347 kB)\n",
      "Installing collected packages: pytz, tzdata, numpy, pandas\n",
      "\u001b[33m  WARNING: The scripts f2py and numpy-config are installed in '/Library/Frameworks/Python.framework/Versions/3.13/bin' which is not on PATH.\n",
      "  Consider adding this directory to PATH or, if you prefer to suppress this warning, use --no-warn-script-location.\u001b[0m\u001b[33m\n",
      "\u001b[0mSuccessfully installed numpy-2.2.6 pandas-2.2.3 pytz-2025.2 tzdata-2025.2\n",
      "\n",
      "\u001b[1m[\u001b[0m\u001b[34;49mnotice\u001b[0m\u001b[1;39;49m]\u001b[0m\u001b[39;49m A new release of pip is available: \u001b[0m\u001b[31;49m25.0.1\u001b[0m\u001b[39;49m -> \u001b[0m\u001b[32;49m25.1.1\u001b[0m\n",
      "\u001b[1m[\u001b[0m\u001b[34;49mnotice\u001b[0m\u001b[1;39;49m]\u001b[0m\u001b[39;49m To update, run: \u001b[0m\u001b[32;49mpython3 -m pip install --upgrade pip\u001b[0m\n"
     ]
    }
   ],
   "source": [
    "\n",
    "import sys\n",
    "!{sys.executable} -m pip install openpyxl\n",
    "!{sys.executable} -m pip install pandas"
   ]
  },
  {
   "cell_type": "code",
   "execution_count": null,
   "metadata": {},
   "outputs": [
    {
     "name": "stdout",
     "output_type": "stream",
     "text": [
      "transaction_id\n",
      "4\n"
     ]
    }
   ],
   "source": [
    "#checkout pypi.org for existing packages\n",
    "#openpyxl for ms excel\n",
    "#pip install openpyxl\n",
    "\n",
    "import openpyxl as xl\n",
    "from openpyxl.chart import BarChart, Reference\n",
    "wb = xl.load_workbook('transactions.xlsx')\n",
    "sheet = wb['Sheet1']\n",
    "cell = sheet.cell(1,1)\n",
    "print(cell.value)\n",
    "cell = sheet.cell(1,2)\n",
    "print(sheet.max_row)\n",
    "\n",
    "\n",
    "for row in range(2, sheet.max_row+1):\n",
    "    cell = sheet.cell(row,3)\n",
    "    new_price = cell.value * 0.9\n",
    "    new_price_cell_obj = sheet.cell(row,4)\n",
    "    new_price_cell_obj.value = new_price\n",
    "\n",
    "values = Reference(sheet, min_row=2, \n",
    "          max_row=sheet.max_row,\n",
    "          min_col=4,\n",
    "          max_col=4\n",
    "          )\n",
    "chart = BarChart()\n",
    "chart.add_data(values)\n",
    "sheet.add_chart(chart, 'e2')\n",
    "wb.save('updated_transac.xlsx')"
   ]
  },
  {
   "cell_type": "code",
   "execution_count": null,
   "metadata": {},
   "outputs": [],
   "source": [
    "#ML, A subset of AI\n",
    "#BUILD A MODEL GIVE IT LOTS OF DATA TO TRAIN AND LEARN\n",
    "\n",
    "# import the data\n",
    "# clean the data\n",
    "# split the data into training / test sets\n",
    "# create a model\n",
    "# train the model\n",
    "# make predictions\n",
    "#eval and improve "
   ]
  },
  {
   "cell_type": "code",
   "execution_count": null,
   "metadata": {},
   "outputs": [
    {
     "data": {
      "text/plain": [
       "(16598, 11)"
      ]
     },
     "execution_count": 5,
     "metadata": {},
     "output_type": "execute_result"
    }
   ],
   "source": [
    "\"\"\"popular libraries\n",
    "numpy\n",
    "pandas\n",
    "matplotlib\n",
    "scikit learn: common algos like nn, dec trees\n",
    "\"\"\"\n",
    "\n",
    "#load data from csv taken from kaggle\n",
    "\n",
    "# import kagglehub\n",
    "# # Download latest version\n",
    "# path = kagglehub.dataset_download(\"gregorut/videogamesales\")\n",
    "# print(\"Path to dataset files:\", path)\n",
    "\n",
    "import pandas as pd\n",
    "df = pd.read_csv('vgsales.csv')\n",
    "\n",
    "df.shape\n"
   ]
  },
  {
   "cell_type": "code",
   "execution_count": null,
   "metadata": {},
   "outputs": [
    {
     "data": {
      "text/html": [
       "<div>\n",
       "<style scoped>\n",
       "    .dataframe tbody tr th:only-of-type {\n",
       "        vertical-align: middle;\n",
       "    }\n",
       "\n",
       "    .dataframe tbody tr th {\n",
       "        vertical-align: top;\n",
       "    }\n",
       "\n",
       "    .dataframe thead th {\n",
       "        text-align: right;\n",
       "    }\n",
       "</style>\n",
       "<table border=\"1\" class=\"dataframe\">\n",
       "  <thead>\n",
       "    <tr style=\"text-align: right;\">\n",
       "      <th></th>\n",
       "      <th>Rank</th>\n",
       "      <th>Year</th>\n",
       "      <th>NA_Sales</th>\n",
       "      <th>EU_Sales</th>\n",
       "      <th>JP_Sales</th>\n",
       "      <th>Other_Sales</th>\n",
       "      <th>Global_Sales</th>\n",
       "    </tr>\n",
       "  </thead>\n",
       "  <tbody>\n",
       "    <tr>\n",
       "      <th>count</th>\n",
       "      <td>16598.000000</td>\n",
       "      <td>16327.000000</td>\n",
       "      <td>16598.000000</td>\n",
       "      <td>16598.000000</td>\n",
       "      <td>16598.000000</td>\n",
       "      <td>16598.000000</td>\n",
       "      <td>16598.000000</td>\n",
       "    </tr>\n",
       "    <tr>\n",
       "      <th>mean</th>\n",
       "      <td>8300.605254</td>\n",
       "      <td>2006.406443</td>\n",
       "      <td>0.264667</td>\n",
       "      <td>0.146652</td>\n",
       "      <td>0.077782</td>\n",
       "      <td>0.048063</td>\n",
       "      <td>0.537441</td>\n",
       "    </tr>\n",
       "    <tr>\n",
       "      <th>std</th>\n",
       "      <td>4791.853933</td>\n",
       "      <td>5.828981</td>\n",
       "      <td>0.816683</td>\n",
       "      <td>0.505351</td>\n",
       "      <td>0.309291</td>\n",
       "      <td>0.188588</td>\n",
       "      <td>1.555028</td>\n",
       "    </tr>\n",
       "    <tr>\n",
       "      <th>min</th>\n",
       "      <td>1.000000</td>\n",
       "      <td>1980.000000</td>\n",
       "      <td>0.000000</td>\n",
       "      <td>0.000000</td>\n",
       "      <td>0.000000</td>\n",
       "      <td>0.000000</td>\n",
       "      <td>0.010000</td>\n",
       "    </tr>\n",
       "    <tr>\n",
       "      <th>25%</th>\n",
       "      <td>4151.250000</td>\n",
       "      <td>2003.000000</td>\n",
       "      <td>0.000000</td>\n",
       "      <td>0.000000</td>\n",
       "      <td>0.000000</td>\n",
       "      <td>0.000000</td>\n",
       "      <td>0.060000</td>\n",
       "    </tr>\n",
       "    <tr>\n",
       "      <th>50%</th>\n",
       "      <td>8300.500000</td>\n",
       "      <td>2007.000000</td>\n",
       "      <td>0.080000</td>\n",
       "      <td>0.020000</td>\n",
       "      <td>0.000000</td>\n",
       "      <td>0.010000</td>\n",
       "      <td>0.170000</td>\n",
       "    </tr>\n",
       "    <tr>\n",
       "      <th>75%</th>\n",
       "      <td>12449.750000</td>\n",
       "      <td>2010.000000</td>\n",
       "      <td>0.240000</td>\n",
       "      <td>0.110000</td>\n",
       "      <td>0.040000</td>\n",
       "      <td>0.040000</td>\n",
       "      <td>0.470000</td>\n",
       "    </tr>\n",
       "    <tr>\n",
       "      <th>max</th>\n",
       "      <td>16600.000000</td>\n",
       "      <td>2020.000000</td>\n",
       "      <td>41.490000</td>\n",
       "      <td>29.020000</td>\n",
       "      <td>10.220000</td>\n",
       "      <td>10.570000</td>\n",
       "      <td>82.740000</td>\n",
       "    </tr>\n",
       "  </tbody>\n",
       "</table>\n",
       "</div>"
      ],
      "text/plain": [
       "               Rank          Year      NA_Sales      EU_Sales      JP_Sales  \\\n",
       "count  16598.000000  16327.000000  16598.000000  16598.000000  16598.000000   \n",
       "mean    8300.605254   2006.406443      0.264667      0.146652      0.077782   \n",
       "std     4791.853933      5.828981      0.816683      0.505351      0.309291   \n",
       "min        1.000000   1980.000000      0.000000      0.000000      0.000000   \n",
       "25%     4151.250000   2003.000000      0.000000      0.000000      0.000000   \n",
       "50%     8300.500000   2007.000000      0.080000      0.020000      0.000000   \n",
       "75%    12449.750000   2010.000000      0.240000      0.110000      0.040000   \n",
       "max    16600.000000   2020.000000     41.490000     29.020000     10.220000   \n",
       "\n",
       "        Other_Sales  Global_Sales  \n",
       "count  16598.000000  16598.000000  \n",
       "mean       0.048063      0.537441  \n",
       "std        0.188588      1.555028  \n",
       "min        0.000000      0.010000  \n",
       "25%        0.000000      0.060000  \n",
       "50%        0.010000      0.170000  \n",
       "75%        0.040000      0.470000  \n",
       "max       10.570000     82.740000  "
      ]
     },
     "execution_count": 9,
     "metadata": {},
     "output_type": "execute_result"
    }
   ],
   "source": [
    "df.describe()\n",
    "#not all entries in year col have a value"
   ]
  },
  {
   "cell_type": "code",
   "execution_count": null,
   "metadata": {},
   "outputs": [
    {
     "data": {
      "text/plain": [
       "array([[1, 'Wii Sports', 'Wii', ..., 3.77, 8.46, 82.74],\n",
       "       [2, 'Super Mario Bros.', 'NES', ..., 6.81, 0.77, 40.24],\n",
       "       [3, 'Mario Kart Wii', 'Wii', ..., 3.79, 3.31, 35.82],\n",
       "       ...,\n",
       "       [16598, 'SCORE International Baja 1000: The Official Game', 'PS2',\n",
       "        ..., 0.0, 0.0, 0.01],\n",
       "       [16599, 'Know How 2', 'DS', ..., 0.0, 0.0, 0.01],\n",
       "       [16600, 'Spirits & Spells', 'GBA', ..., 0.0, 0.0, 0.01]],\n",
       "      shape=(16598, 11), dtype=object)"
      ]
     },
     "execution_count": 11,
     "metadata": {},
     "output_type": "execute_result"
    }
   ],
   "source": [
    "df.values\n",
    "#[1, 'Wii Sports', 'Wii', ..., 3.77, 8.46, 82.74] is the 1st array"
   ]
  },
  {
   "cell_type": "code",
   "execution_count": null,
   "metadata": {},
   "outputs": [],
   "source": [
    "#useful jupyter shortcuts\n",
    "# active is command mode\n",
    "#press H shows you the shortcuts associated\n",
    "#press a for above, b for below, dd to delete a cell"
   ]
  },
  {
   "cell_type": "code",
   "execution_count": 1,
   "metadata": {},
   "outputs": [
    {
     "name": "stderr",
     "output_type": "stream",
     "text": [
      "/Library/Frameworks/Python.framework/Versions/3.13/lib/python3.13/site-packages/sklearn/utils/validation.py:2739: UserWarning: X does not have valid feature names, but DecisionTreeClassifier was fitted with feature names\n",
      "  warnings.warn(\n"
     ]
    },
    {
     "data": {
      "text/plain": [
       "array(['HipHop', 'Dance'], dtype=object)"
      ]
     },
     "execution_count": 1,
     "metadata": {},
     "output_type": "execute_result"
    }
   ],
   "source": [
    "#user signup -> recommend music\n",
    "#we have data from music dot csv\n",
    "\n",
    "import pandas as pd\n",
    "from sklearn.tree import DecisionTreeClassifier \n",
    "music_data = pd.read_csv('music.csv')\n",
    "music_data\n",
    "\n",
    "#we are telling the model is new user is male 1, and 20yrs old, they likely like hip hop\n",
    "\n",
    "X = music_data.drop(columns=['genre'])\n",
    "y = music_data['genre']\n",
    "#WE SEPARATED THE DATA\n",
    "\n",
    "mymodel = DecisionTreeClassifier()\n",
    "mymodel.fit(X,y)\n",
    "predictions = mymodel.predict([[21,1], [20,0]])\n",
    "predictions"
   ]
  },
  {
   "cell_type": "code",
   "execution_count": 70,
   "metadata": {},
   "outputs": [
    {
     "data": {
      "text/plain": [
       "0.6"
      ]
     },
     "execution_count": 70,
     "metadata": {},
     "output_type": "execute_result"
    }
   ],
   "source": [
    "#calculating accuracy of our model\n",
    "\n",
    "#we are telling the model is new user is male 1, and 20yrs old, they likely like hip hop\n",
    "#70-80% data for training\n",
    "import pandas as pd\n",
    "from sklearn.tree import DecisionTreeClassifier \n",
    "from sklearn.model_selection import train_test_split\n",
    "from sklearn.metrics import accuracy_score\n",
    "music_data = pd.read_csv('music.csv')\n",
    "music_data\n",
    "\n",
    "X = music_data.drop(columns=['genre'])\n",
    "y = music_data['genre']\n",
    "X_train, X_test, y_train, y_test =  train_test_split(X,y, test_size=0.27)\n",
    "#WE SEPARATED THE DATA\n",
    "\n",
    "mymodel = DecisionTreeClassifier()\n",
    "mymodel.fit(X_train, y_train)\n",
    "predictions = mymodel.predict(X_test)\n",
    "\n",
    "score = accuracy_score(y_test, predictions)\n",
    "score"
   ]
  },
  {
   "cell_type": "code",
   "execution_count": null,
   "metadata": {},
   "outputs": [
    {
     "name": "stderr",
     "output_type": "stream",
     "text": [
      "/Library/Frameworks/Python.framework/Versions/3.13/lib/python3.13/site-packages/sklearn/utils/validation.py:2739: UserWarning: X does not have valid feature names, but DecisionTreeClassifier was fitted with feature names\n",
      "  warnings.warn(\n"
     ]
    },
    {
     "data": {
      "text/plain": [
       "array(['HipHop', 'Classical'], dtype=object)"
      ]
     },
     "execution_count": 66,
     "metadata": {},
     "output_type": "execute_result"
    }
   ],
   "source": [
    "#model persistence: save a trained model, load next from a file\n",
    " \n",
    "import pandas as pd\n",
    "from sklearn.tree import DecisionTreeClassifier\n",
    "import joblib #has methods for saving and loading\n",
    "\n",
    "# music_data = pd.read_csv('music.csv')\n",
    "# music_data\n",
    "\n",
    "# X = music_data.drop(columns=['genre'])\n",
    "# y = music_data['genre']\n",
    "\n",
    "\n",
    "# mymodel = DecisionTreeClassifier()\n",
    "# mymodel.fit(X_train, y_train)\n",
    "\n",
    "#>>>> we saved one here below\n",
    "#joblib.dump(mymodel, 'music-reco.joblib' )\n",
    "\n",
    "\n",
    "trained_model = joblib.load('music-reco.joblib' )\n",
    "predictions = trained_model.predict([[21,1],[66,0] ])\n",
    "predictions"
   ]
  },
  {
   "cell_type": "code",
   "execution_count": 71,
   "metadata": {},
   "outputs": [],
   "source": [
    "#export our model in visual format\n",
    "import pandas as pd\n",
    "from sklearn.tree import DecisionTreeClassifier\n",
    "from sklearn import tree\n",
    "\n",
    "\n",
    "music_data = pd.read_csv('music.csv')\n",
    "music_data\n",
    "\n",
    "X = music_data.drop(columns=['genre'])\n",
    "y = music_data['genre']\n",
    "\n",
    "\n",
    "mymodel = DecisionTreeClassifier()\n",
    "mymodel.fit(X, y)\n",
    "\n",
    "tree.export_graphviz(mymodel, out_file='music_reco.dot',\n",
    "                    feature_names=['age','gender'], class_names=sorted(y.unique()),\n",
    "                    label='all', rounded=True, filled=True)"
   ]
  },
  {
   "cell_type": "code",
   "execution_count": null,
   "metadata": {},
   "outputs": [
    {
     "name": "stdout",
     "output_type": "stream",
     "text": [
      "!dlroW olleH\n"
     ]
    }
   ],
   "source": [
    "#fun cool stuff\n",
    "\n",
    "#reversal via slicing\n",
    "#The format in which slices are implemented is: sequence[start:stop:step].\n",
    "a = \"Hello World!\"\n",
    "print(a[::-1])"
   ]
  },
  {
   "cell_type": "code",
   "execution_count": 2,
   "metadata": {},
   "outputs": [
    {
     "name": "stdout",
     "output_type": "stream",
     "text": [
      "First: (10, 5)\n",
      "Second: (5, 12)\n"
     ]
    }
   ],
   "source": [
    "#Inplace Swap / Simultaneous Assignment\n",
    "a = 10\n",
    "b = 5\n",
    "print(f\"First: {a, b}\")\n",
    "\n",
    "a, b = b, a + 2\n",
    "print(f\"Second: {a, b}\")"
   ]
  },
  {
   "cell_type": "code",
   "execution_count": 4,
   "metadata": {},
   "outputs": [
    {
     "name": "stdout",
     "output_type": "stream",
     "text": [
      "List size: 104 bytes\n",
      "Tuple size: 80 bytes\n"
     ]
    }
   ],
   "source": [
    "#3 List vs. Tuples \n",
    "\"\"\"Tuples, on the other hand, are immutable, which means trying to modify them will raise a TypeError. For this reason, tuples are more memory efficient since Python can allocate the right memory block required for the data. In contrast, in a list, extra memory has to be allocated just in case we extend it - this is called dynamic memory allocation. \n",
    "TLDR; In scenarios where you do not want the data to be changed, then a tuple data structure should be preferred over a list for memory reasons. Tuples are also faster than lists. \n",
    "\"\"\"\n",
    "\n",
    "import sys\n",
    "\n",
    "a = [1, 2, 3, 4, 5]\n",
    "b = (1, 2, 3, 4, 5)\n",
    "\n",
    "print(f\"List size: {sys.getsizeof(a)} bytes\")\n",
    "print(f\"Tuple size: {sys.getsizeof(b)} bytes\")"
   ]
  },
  {
   "cell_type": "code",
   "execution_count": 10,
   "metadata": {},
   "outputs": [
    {
     "name": "stdout",
     "output_type": "stream",
     "text": [
      "[0, 2, 4, 6, 8, 10, 12, 14, 16, 18]\n",
      "<generator object <genexpr> at 0x10ccd0450>\n",
      "0\n",
      "2\n",
      "4\n",
      "6\n",
      "8\n",
      "10\n",
      "12\n",
      "14\n",
      "16\n",
      "18\n"
     ]
    }
   ],
   "source": [
    "#4 Generators\n",
    "'''List comprehensions are the pythonic way of creating a list from another iterable - It's much faster than using a for loop. But what happens if you accidentally change the brackets from [] to ()? You get a generator object.\n",
    "\n",
    "In Python, rounded brackets with list comprehension logic create what is known as a generator object. Generators are a special kind of iterable. Unlike lists, they do not store their items. Instead, they store instructions to generate each element in order and the current state of iterations.\n",
    "\n",
    "Each element is only generated upon request using a technique called lazy evaluation. '''\n",
    "a = [x * 2 for x in range(10)]\n",
    "b = (x * 2 for x in range(10))\n",
    "\n",
    "print(a)\n",
    "print(b)\n",
    "\n",
    "#access\n",
    "print(next(b)) # Output: 0\n",
    "print(next(b)) # Output: 1\n",
    "print(next(b))\n",
    "\n",
    "for item in b:\n",
    "    print(item)\n",
    "\n"
   ]
  },
  {
   "cell_type": "code",
   "execution_count": 15,
   "metadata": {},
   "outputs": [
    {
     "name": "stdout",
     "output_type": "stream",
     "text": [
      "4509465280\n",
      "4509465280\n",
      "[1, 2, 3, 4, 7]\n",
      "4509465280\n",
      "4509535232\n",
      "d is also different from a:4509542976\n"
     ]
    }
   ],
   "source": [
    "#aliasing\n",
    "a = [1, 2, 3, 4 ,5]\n",
    "b = a\n",
    "\n",
    "# Change the 4th index in b\n",
    "b[4] = 7\n",
    "\n",
    "print(id(a))\n",
    "print(id(b))\n",
    "print(a) # we did not explicitly make changes to a.\n",
    "\n",
    "#to make a clone and avoid aliasing\n",
    "c = a[:] \n",
    "print(id(a))\n",
    "print(id(c))\n",
    "\n",
    "d = list(a)\n",
    "print(f'd is also different from a:{id(d)}')"
   ]
  },
  {
   "cell_type": "code",
   "execution_count": null,
   "metadata": {},
   "outputs": [
    {
     "name": "stdout",
     "output_type": "stream",
     "text": [
      "True\n",
      "False\n"
     ]
    }
   ],
   "source": [
    "#the not operator\n",
    "# easiest way to check if your data structure is empty\n",
    "a = []\n",
    "print(not a)\n",
    "b = [1,2]\n",
    "print(not b)"
   ]
  },
  {
   "cell_type": "code",
   "execution_count": 22,
   "metadata": {},
   "outputs": [
    {
     "name": "stdout",
     "output_type": "stream",
     "text": [
      "english     !!!!french     !!!!spanish     !!!!german     !!!!twi     !!!!"
     ]
    },
    {
     "data": {
      "text/plain": [
       "'The end parameter specifies what should be shown at \\nthe end of a call to a print statement. \\nThe default of end is \"\\n\" which tells Python to \\nstart a new line. In the code above, \\nwe changed it to !!! at the end'"
      ]
     },
     "execution_count": 22,
     "metadata": {},
     "output_type": "execute_result"
    }
   ],
   "source": [
    "#The Print Functions ‘end’ Parameter\n",
    "\n",
    "a = [\"english\", \"french\", \"spanish\", \"german\", \"twi\"]\n",
    "for language in a:\n",
    "    print(language, end=\"     !!!!\")\n",
    "\n",
    "'''The end parameter specifies what should be shown at \n",
    "the end of a call to a print statement. \n",
    "The default of end is \"\\n\" which tells Python to \n",
    "start a new line. In the code above, \n",
    "we changed it to !!! at the end'''"
   ]
  },
  {
   "cell_type": "code",
   "execution_count": 1,
   "metadata": {},
   "outputs": [
    {
     "name": "stdout",
     "output_type": "stream",
     "text": [
      "(1, 2, [1, 2, 3, 4])\n"
     ]
    }
   ],
   "source": [
    "#Append to Tuple\n",
    "a = (1, 2, [1, 2, 3])\n",
    "a[2].append(4)\n",
    "print(a)"
   ]
  },
  {
   "cell_type": "code",
   "execution_count": 2,
   "metadata": {},
   "outputs": [
    {
     "name": "stdout",
     "output_type": "stream",
     "text": [
      "{'a': 1, 'b': 2, 'c': 3, 'd': 4}\n"
     ]
    }
   ],
   "source": [
    "#Merging Dictionaries\n",
    "\n",
    "a = {\"a\": 1, \"b\": 2}\n",
    "b = {\"c\": 3, \"d\": 4}\n",
    "\n",
    "a_and_b = a | b\n",
    "print(a_and_b)\n"
   ]
  },
  {
   "cell_type": "code",
   "execution_count": 2,
   "metadata": {},
   "outputs": [
    {
     "name": "stdout",
     "output_type": "stream",
     "text": [
      "John\n"
     ]
    }
   ],
   "source": [
    "#Ternary Operator / Condition Expressions \n",
    "\n",
    "condition = True\n",
    "name = \"John\" if condition else \"Doe\"\n",
    "\n",
    "print(name)"
   ]
  },
  {
   "cell_type": "code",
   "execution_count": 6,
   "metadata": {},
   "outputs": [
    {
     "name": "stdout",
     "output_type": "stream",
     "text": [
      "{1, 2, 3, 4, 5, 6, 7}\n",
      "<class 'set'>\n",
      "[1, 2, 3, 4, 5, 6, 7]\n"
     ]
    }
   ],
   "source": [
    "#Remove Duplicates From Lists\n",
    "a = [1, 1, 2, 3, 4, 5, 5, 5, 6, 7, 2, 2]\n",
    "print(set(a))\n",
    "print(type(set(a)))\n",
    "#Sets are unordered and unindexed. The elements in a set must be of an immutable type, \n",
    "# even though the set itself is mutable - trying to retrieve an element\n",
    "# via an index or modify an element will raise an error.\n",
    "#print(set(a)[2]) : typeError: 'set' object is not subscriptable\n",
    "print(list(set(a)))\n",
    "\n"
   ]
  },
  {
   "cell_type": "code",
   "execution_count": 5,
   "metadata": {},
   "outputs": [
    {
     "name": "stdout",
     "output_type": "stream",
     "text": [
      "\n",
      "\n"
     ]
    }
   ],
   "source": [
    "#Standalone Underscore\n",
    "print(_)\n",
    "'''\n",
    "underscore also has another responsibility: to \n",
    "store the result \n",
    "of the last evaluation.\n",
    "The documentation states that \"the\n",
    "interactive interpreter makes the result of the \n",
    "last evaluation available in the variable _\n",
    "'''\n",
    "'''\n",
    ">>> 1+2\n",
    "'''\n",
    "print(_)"
   ]
  },
  {
   "cell_type": "code",
   "execution_count": 9,
   "metadata": {},
   "outputs": [
    {
     "name": "stdout",
     "output_type": "stream",
     "text": [
      "The index here doesn't matter\n",
      "The index here doesn't matter\n",
      "The index here doesn't matter\n",
      "The index here doesn't matter\n",
      "The index here doesn't matter\n"
     ]
    }
   ],
   "source": [
    "\"\"\"\n",
    "Underscore to Ignore Values\n",
    "\"\"\"\n",
    "for _ in range(5):\n",
    "    print(\"The index here doesn't matter\")\n"
   ]
  },
  {
   "cell_type": "code",
   "execution_count": 10,
   "metadata": {},
   "outputs": [
    {
     "name": "stdout",
     "output_type": "stream",
     "text": [
      "woah, these names are valid\n",
      "Hi there\n"
     ]
    }
   ],
   "source": [
    "#trailing Underscores\n",
    "list_ = [0, 1, 2, 3, 4]\n",
    "global_ = \"Hi there\" \n",
    "\n",
    "print('woah, these names are valid')\n",
    "print(global_)"
   ]
  },
  {
   "cell_type": "code",
   "execution_count": null,
   "metadata": {},
   "outputs": [],
   "source": [
    "#Leading Underscores\n",
    "class Example:\n",
    "    def __init__(self):\n",
    "        self._internal = 2\n",
    "        self.external = 20\n",
    "\"\"\" \n",
    "The underscore prefixed to an identifier \n",
    "or method has a hidden meaning: this variable or method\n",
    "is only meant for internal usage. \"\"\""
   ]
  },
  {
   "cell_type": "code",
   "execution_count": 2,
   "metadata": {},
   "outputs": [
    {
     "name": "stdout",
     "output_type": "stream",
     "text": [
      "2500000\n"
     ]
    }
   ],
   "source": [
    "#Underscore Visual\n",
    "number = 2_500_000\n",
    "print(number)\n",
    "\n",
    "#works as a visual separator, like a comma here for numerals\n"
   ]
  },
  {
   "cell_type": "code",
   "execution_count": 10,
   "metadata": {},
   "outputs": [
    {
     "name": "stdout",
     "output_type": "stream",
     "text": [
      "Read on...>>>\n",
      "The if __name__ == \"__main__\" idiom is a Python construct that helps control code execution in scripts. It’s a conditional statement that allows you to define code\n",
      " that runs only when the file is executed as a script, not when it’s imported as a module.\n",
      "When you run a Python script, the interpreter assigns the value \"__main__\" to the __name__ variable. \n",
      "If Python imports the code as a module, then it sets __name__ to the module’s name instead.\n",
      " By encapsulating code within if __name__ == \"__main__\", you can ensure that it only runs in the intended context.)\n"
     ]
    }
   ],
   "source": [
    "if __name__ == \"__main__\":\n",
    "    print(\"\"\"Read on...>>>\\nThe if __name__ == \"__main__\" idiom is a Python construct that helps control code execution in scripts. It’s a conditional statement that allows you to define code\\n that runs only when the file is executed as a script, not when it’s imported as a module.\n",
    "When you run a Python script, the interpreter assigns the value \"__main__\" to the __name__ variable. \\nIf Python imports the code as a module, then it sets __name__ to the module’s name instead.\\n By encapsulating code within if __name__ == \"__main__\", you can ensure that it only runs in the intended context.)\"\"\")"
   ]
  },
  {
   "cell_type": "code",
   "execution_count": 13,
   "metadata": {},
   "outputs": [
    {
     "name": "stdout",
     "output_type": "stream",
     "text": [
      "sunday\n",
      "unday\n",
      "nday\n",
      "day\n",
      "ay\n",
      "y\n",
      ".\n"
     ]
    }
   ],
   "source": [
    "#example usage\n",
    "def echo(text: str, repetitions: int = 6) -> str:\n",
    "    \"\"\"Imitate a real-world echo.\"\"\"\n",
    "    echoes = [text[-i:].lower() for i in range(repetitions, 0, -1)]\n",
    "    return \"\\n\".join(echoes + [\".\"])\n",
    "\n",
    "if __name__ == \"__main__\":\n",
    "    text = input(\"Yell something at a mountain: \")\n",
    "    print(echo(text))"
   ]
  },
  {
   "cell_type": "code",
   "execution_count": 17,
   "metadata": {},
   "outputs": [
    {
     "name": "stdout",
     "output_type": "stream",
     "text": [
      "{'April.': 1,\n",
      " \"I'd\": 1,\n",
      " \"It's\": 1,\n",
      " 'and,first': 1,\n",
      " 'first': 3,\n",
      " 'like': 1,\n",
      " 'of': 1,\n",
      " 'say': 1,\n",
      " 'the': 1,\n",
      " 'things': 1,\n",
      " 'to': 1}\n"
     ]
    },
    {
     "data": {
      "text/plain": [
       "' \\nalternate to doing\\ncounts = {}\\nfor word in text.split():\\n    if word in counts:\\n        counts[word] += 1\\n    else:\\n      counts[word] = 1'"
      ]
     },
     "execution_count": 17,
     "metadata": {},
     "output_type": "execute_result"
    }
   ],
   "source": [
    "#The ‘setdefault’ Method \n",
    "import pprint\n",
    "text = \"It's the first of April. and,first I'd like to say first things first\"\n",
    "counts = {}\n",
    "for word in text.split():\n",
    "    counts.setdefault(word, 0)\n",
    "    counts[word] += 1\n",
    "\n",
    "pprint.pprint(counts)\n",
    "\n",
    "\"\"\" \n",
    "alternate to doing\n",
    "counts = {}\n",
    "for word in text.split():\n",
    "    if word in counts:\n",
    "        counts[word] += 1\n",
    "    else:\n",
    "      counts[word] = 1\"\"\""
   ]
  },
  {
   "cell_type": "code",
   "execution_count": 24,
   "metadata": {},
   "outputs": [
    {
     "name": "stdout",
     "output_type": "stream",
     "text": [
      "+447999999999\n",
      "07999999999\n"
     ]
    }
   ],
   "source": [
    "import re\n",
    "\n",
    "# This regex matches numbers starting with +44 or 0, followed by exactly 10 digits\n",
    "number = re.compile(r\"(?:\\+44|0)\\d{10}\")\n",
    "\n",
    "num_1 = number.search(\"My number is +447999999999\")\n",
    "num_2 = number.search(\"My number is 07999999999\")\n",
    "\n",
    "if num_1:\n",
    "    print(num_1.group())\n",
    "else:\n",
    "    print(\"No match for num_1\")\n",
    "\n",
    "if num_2:\n",
    "    print(num_2.group())\n",
    "else:\n",
    "    print(\"No match for num_2\")\n",
    "    \n",
    "    \"\"\" \n",
    "    For example, UK numbers follow a similar pattern: they will have a zero at the beginning plus ten numbers or +44 instead of zero and ten numbers – \n",
    "    the second instance indicates it's in its international format. \"\"\"\n"
   ]
  },
  {
   "cell_type": "code",
   "execution_count": 36,
   "metadata": {},
   "outputs": [
    {
     "name": "stdout",
     "output_type": "stream",
     "text": [
      "<re.Match object; span=(15, 23), match='Superman'>\n",
      "(15, 23)\n",
      "15\n",
      "23\n",
      "Superman\n",
      "-----------\n",
      "Superwoman\n",
      "Superhuman\n"
     ]
    },
    {
     "data": {
      "text/plain": [
       "' \\n.group() primarily refers to a method used with regular expressions, specifically on a re.MatchObject after a successful pattern match.\\nWhen a regular expression contains capturing groups (defined by parentheses ()), the re.MatchObject.group() method allows you to retrieve the substrings that were matched by these groups.\\n'"
      ]
     },
     "execution_count": 36,
     "metadata": {},
     "output_type": "execute_result"
    }
   ],
   "source": [
    "#Regex Pipe\n",
    "import re\n",
    "\n",
    "heros = re.compile(r\"Super(man|woman|human)\")\n",
    "\n",
    "h1 = heros.search(\"This will find Superman\")\n",
    "h2 =  heros.search(\"This will find Superwoman\")\n",
    "h3 = heros.search(\"This will find Superhuman\")\n",
    "\n",
    "print(h1)\n",
    "print(h1.span())\n",
    "print(h1.start())\n",
    "print(h1.end())\n",
    "print(h1.group())\n",
    "print('-----------')\n",
    "print(h2.group())\n",
    "print(h3.group())\n",
    "\n",
    "\"\"\"\n",
    "special character called pipe (|) that allows you to match one of many expressions, and they can be used anywhere. This is super handy for when you've got several similar patterns.\n",
    "For example, 'Superman,' 'Superwoman,' and 'Superhuman' all have the same prefix. Thus, you could leverage the pipe to retain the part of the pattern that is recurring and \n",
    "change the parts you need to be different. \n",
    "Once again, saving you precious time.\"\"\"\n",
    "        \n",
    "\"\"\" \n",
    ".group() primarily refers to a method used with regular expressions, specifically on a re.MatchObject after a successful pattern match.\n",
    "When a regular expression contains capturing groups (defined by parentheses ()), the re.MatchObject.group() method allows you to retrieve the substrings that were matched by these groups.\n",
    "\"\"\""
   ]
  },
  {
   "cell_type": "code",
   "execution_count": 40,
   "metadata": {},
   "outputs": [
    {
     "name": "stdout",
     "output_type": "stream",
     "text": [
      "24 12 2016\n",
      "24122016\n",
      "24.12.2016\n"
     ]
    },
    {
     "data": {
      "text/plain": [
       "'\\nThe sep parameter is an optional argument in the print() function that allows us to specify how objects should be separated if we include more than one. \\nThe default is to separate them with a space, but we\\'ve changed this functionality with our print statements - one where sep is set to \"\" and another where sep is set to \".\".\\n'"
      ]
     },
     "execution_count": 40,
     "metadata": {},
     "output_type": "execute_result"
    }
   ],
   "source": [
    "#The Print Function ‘sep’ Parameter\n",
    "\n",
    "day = \"24\"\n",
    "month = \"12\"\n",
    "year = \"2016\"\n",
    "\n",
    "print(day, month, year)\n",
    "print(day, month, year, sep = \"\")\n",
    "print(day, month, year, sep = \".\")\n",
    "\n",
    "\"\"\"\n",
    "The sep parameter is an optional argument in the print() function that allows us to specify how objects should be separated if we include more than one. \n",
    "The default is to separate them with a space, but we've changed this functionality with our print statements - one where sep is set to \"\" and another where sep is set to \".\".\n",
    "\"\"\""
   ]
  },
  {
   "cell_type": "code",
   "execution_count": 1,
   "metadata": {},
   "outputs": [
    {
     "name": "stdout",
     "output_type": "stream",
     "text": [
      "Function call returns: 16\n",
      "Lambda function returns: 16\n",
      "Lambda function evaluate the exponent as: 256\n",
      "Lambda function evaluate the exponent as: 0.0625\n"
     ]
    }
   ],
   "source": [
    "#lambda functions\n",
    "\n",
    "def square(num:int) -> int:\n",
    "    return num ** 2\n",
    "\n",
    "print(f\"Function call returns: {square(4)}\")\n",
    "\n",
    "#instead use this one-liner lambda\n",
    "\n",
    "square_lambda = lambda x: x**2\n",
    "print(f\"Lambda function returns: {square_lambda(4)}\")\n",
    "\n",
    "#a two arg example\n",
    "\n",
    "exponenteval = lambda a, b: a ** b\n",
    "print(f\"Lambda function evaluate the exponent as: {exponenteval(2, 8)}\")\n",
    "\"\"\"\n",
    "This code defines a lambda function called square that takes\n",
    "two arguments a and b, and returns the value of a raised to the power of b\n",
    "\"\"\"\n",
    "print(f\"Lambda function evaluate the exponent as: {exponenteval(2, -4)}\")"
   ]
  },
  {
   "cell_type": "code",
   "execution_count": 4,
   "metadata": {},
   "outputs": [
    {
     "name": "stdout",
     "output_type": "stream",
     "text": [
      "True\n",
      "False\n"
     ]
    }
   ],
   "source": [
    "#LinkedIn course on operations - 7 challenges\n",
    "#</> Code Challenge: Are two strings equal?\n",
    "# Python code​​​​​​‌‌​‌‌​‌‌​‌​‌​​​​​‌​‌​‌​‌‌ below\n",
    "# Use print(\"messages...\") to debug your solution.\n",
    "\n",
    "show_expected_result = False\n",
    "show_hints = False\n",
    "\n",
    "# Your code goes here\n",
    "def check_strings(str1,str2):\n",
    "    if not (len(str1) == len(str2)):\n",
    "        return False\n",
    "    else:\n",
    "        if(str1 != str2):\n",
    "            return False\n",
    "    return True\n",
    "\n",
    "# You can edit this code to try different testing cases.\n",
    "str1 = \"Python is fun!\"\n",
    "str2 = \"Python is fun!\"\n",
    "str3 = \"Python's fun!\"\n",
    "result1 = check_strings(str1, str2)\n",
    "print(result1)\n",
    "result2 = check_strings(str2, str3)\n",
    "print(result2)\n"
   ]
  },
  {
   "cell_type": "code",
   "execution_count": 6,
   "metadata": {},
   "outputs": [
    {
     "name": "stdout",
     "output_type": "stream",
     "text": [
      "Greetings, friends!\n"
     ]
    }
   ],
   "source": [
    "#string replacement\n",
    "# Python code​​​​​​‌‌​‌‌​‌‌​‌​‌​​​​​‌‌​‌​‌‌​ below\n",
    "# Use print(\"messages...\") to debug your solution.\n",
    "\n",
    "show_expected_result = False\n",
    "show_hints = False\n",
    "\n",
    "# Your code goes here\n",
    "def replace_string(orig_string,old_string,new_string):\n",
    "    if old_string in orig_string:\n",
    "        updated_string = orig_string.replace(old_string,new_string)\n",
    "    return updated_string\n",
    "\n",
    "orig_string = \"Greetings, everybody!\"\n",
    "old_string = \"everybody\"\n",
    "new_string = \"friends\"\n",
    "result = replace_string(orig_string, old_string, new_string)\n",
    "print(result)"
   ]
  },
  {
   "cell_type": "code",
   "execution_count": 17,
   "metadata": {},
   "outputs": [
    {
     "name": "stdout",
     "output_type": "stream",
     "text": [
      ".elas rof ton si eip nomel tahT\n"
     ]
    }
   ],
   "source": [
    "#reverse a string\n",
    "\n",
    "def reverse_string(my_string):\n",
    "    # Your code goes here\n",
    "    return my_string[::-1]\n",
    "\n",
    "my_string = \"That lemon pie is not for sale.\"\n",
    "result = reverse_string(my_string)\n",
    "print(result)"
   ]
  },
  {
   "cell_type": "code",
   "execution_count": 19,
   "metadata": {},
   "outputs": [
    {
     "name": "stdout",
     "output_type": "stream",
     "text": [
      "The sum of 5 and 9 is 14.\n"
     ]
    }
   ],
   "source": [
    "#f strings\n",
    "\n",
    "def calc_string(first_number, second_number):\n",
    "    # Your code goes here\n",
    "\n",
    "    sum = first_number + second_number\n",
    "    ret_str = f\"The sum of {first_number} and {second_number} is {sum}.\"\n",
    "    return ret_str\n",
    "\n",
    "first_number = 5\n",
    "second_number = 9\n",
    "result = calc_string(first_number, second_number)\n",
    "print(result)"
   ]
  },
  {
   "cell_type": "code",
   "execution_count": 21,
   "metadata": {},
   "outputs": [
    {
     "name": "stdout",
     "output_type": "stream",
     "text": [
      "COM-09283-LAP-BLK-3GHZ-8GB-1TB\n",
      "KIT-36629-CHR-RED-2S-PLAS\n"
     ]
    }
   ],
   "source": [
    "def add_product_code(product_code, product_id):\n",
    "    # Your code goes here\n",
    "    len_id = len(product_id)\n",
    "    if not (product_id[3] == '-' and product_id[4].isnumeric()):\n",
    "        pre_id = product_id[0:3]\n",
    "        post_id = product_id[3:len_id+1]\n",
    "        all_together = pre_id + '-' + product_code+ '-' + post_id\n",
    "        return all_together\n",
    "    else:\n",
    "        return product_id\n",
    "\n",
    "product_code1 = \"09283\"\n",
    "product_id1 = \"COMLAP-BLK-3GHZ-8GB-1TB\"\n",
    "\n",
    "product_code2 = \"36629\"\n",
    "product_id2 = \"KIT-36629-CHR-RED-2S-PLAS\"\n",
    "\n",
    "result1 = add_product_code(product_code1, product_id1)\n",
    "print(result1)\n",
    "result2 = add_product_code(product_code2, product_id2)\n",
    "print(result2)"
   ]
  },
  {
   "cell_type": "code",
   "execution_count": 28,
   "metadata": {},
   "outputs": [
    {
     "name": "stdout",
     "output_type": "stream",
     "text": [
      "The string is missing the following letters: dft\n",
      "The string contains all the letters of the alphabet.\n"
     ]
    }
   ],
   "source": [
    "#pangram validator\n",
    "#a sentence that contains all the letters of the alphabet\n",
    "from string import ascii_lowercase\n",
    "\n",
    "show_expected_result = False\n",
    "show_hints = False\n",
    "#print(ascii_lowercase)S\n",
    "\n",
    "def check_string(my_string):\n",
    "    missing = \"\"\n",
    "    for letter in ascii_lowercase:\n",
    "        if letter not in my_string.lower():\n",
    "            missing += letter\n",
    "\n",
    "    if len(missing)!=0:\n",
    "        return f\"The string is missing the following letters: {missing}\"\n",
    "    else:\n",
    "        return f\"The string contains all the letters of the alphabet.\"\n",
    "\n",
    "\n",
    "str1 = \"How quickly jumping zebras vex.\"\n",
    "str2 = \"Sphinx of black quartz, judge my vow.\"\n",
    "result1 = check_string(str1)\n",
    "print(result1)\n",
    "result2 = check_string(str2)\n",
    "print(result2)"
   ]
  },
  {
   "cell_type": "code",
   "execution_count": 42,
   "metadata": {},
   "outputs": [
    {
     "name": "stdout",
     "output_type": "stream",
     "text": [
      "['e', 'e', 'e', 'l', 'l', 'n', 'o', 'p', 's', 't', 'u', 'v', 'w']\n",
      "['e', 'e', 'e', 'l', 'l', 'n', 'o', 'p', 's', 't', 'u', 'v', 'w']\n",
      "True\n"
     ]
    }
   ],
   "source": [
    "#Anagram validator\n",
    "show_expected_result = False\n",
    "show_hints = False\n",
    "import string\n",
    "\n",
    "\n",
    "def strip_thestring(my_Str):\n",
    "    alpha_stripped = \"\"\n",
    "    for i in range(len(my_Str)):\n",
    "        if my_Str[i].isalpha() == True:\n",
    "            alpha_stripped += my_Str[i]\n",
    "    return alpha_stripped\n",
    "            \n",
    "def is_anagram(first_string, second_string):\n",
    "    alpha_1 = strip_thestring(first_string.lower())\n",
    "    print((sorted(alpha_1)))\n",
    "    alpha_2 = strip_thestring(second_string.lower())\n",
    "    print((sorted(alpha_2)))\n",
    "    \n",
    "    if sorted(alpha_1) == sorted(alpha_2):\n",
    "        return True\n",
    "    else:\n",
    "        return False\n",
    "\n",
    "str1 = \"Eleven plus two?\"\n",
    "str2 = \"One plus twelve!\"\n",
    "str3 = \"A cinnamon roll?\"\n",
    "str4 = \"No canola oil, Mr.!\"\n",
    "result1 = is_anagram(str1, str2)\n",
    "#result2 = is_anagram(str3, str4)\n",
    "print(result1)"
   ]
  }
 ],
 "metadata": {
  "kernelspec": {
   "display_name": "Python 3",
   "language": "python",
   "name": "python3"
  },
  "language_info": {
   "codemirror_mode": {
    "name": "ipython",
    "version": 3
   },
   "file_extension": ".py",
   "mimetype": "text/x-python",
   "name": "python",
   "nbconvert_exporter": "python",
   "pygments_lexer": "ipython3",
   "version": "3.13.3"
  }
 },
 "nbformat": 4,
 "nbformat_minor": 2
}
