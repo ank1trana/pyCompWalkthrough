{
 "cells": [
  {
   "cell_type": "code",
   "execution_count": 20,
   "metadata": {},
   "outputs": [
    {
     "name": "stdout",
     "output_type": "stream",
     "text": [
      "hi, let's get going!\n",
      "hi, let's get going!\n",
      "notice the diff above. Avoiding Escaping \n",
      " If a string contains a single quote, it is easier to enclose it in double quotes,\n",
      " and vice versa. For example:\n"
     ]
    }
   ],
   "source": [
    "print('hi, let\\'s get going!')\n",
    "print(\"hi, let's get going!\")\n",
    "print(\"notice the diff above. Avoiding Escaping \\n If a string contains a single quote, it is easier to enclose it in double quotes,\\n and vice versa. For example:\")"
   ]
  },
  {
   "cell_type": "code",
   "execution_count": 21,
   "metadata": {},
   "outputs": [
    {
     "name": "stdout",
     "output_type": "stream",
     "text": [
      "starry sky\n",
      "****************************************************************************************************\n",
      "price is 20\n",
      "rating is 4.8\n"
     ]
    }
   ],
   "source": [
    "print('starry sky')\n",
    "print('*'  * 100)\n",
    "\n",
    "#vaRIABLES\n",
    "price = 10 #int\n",
    "price = 20\n",
    "rating = 4.80 #float\n",
    "name = \"john doe\"\n",
    "is_published = True #keyword\n",
    "print('price is', price)\n",
    "print('rating is', rating)"
   ]
  },
  {
   "cell_type": "code",
   "execution_count": 22,
   "metadata": {},
   "outputs": [
    {
     "name": "stdout",
     "output_type": "stream",
     "text": [
      "hi ankit\n"
     ]
    }
   ],
   "source": [
    "#getting input\n",
    "name= input('what is your name?')\n",
    "#user enters, we store it in a var called name\n",
    "print('hi',name)\n"
   ]
  },
  {
   "cell_type": "code",
   "execution_count": 26,
   "metadata": {},
   "outputs": [
    {
     "name": "stdout",
     "output_type": "stream",
     "text": [
      "<class 'str'>\n",
      "<class 'int'>\n",
      "age: 34years\n"
     ]
    }
   ],
   "source": [
    "birth_year= input('what is year of your birth?')\n",
    "print(type(birth_year))\n",
    "age  = 2025 - int(birth_year)\n",
    "print(type(age))\n",
    "print('age:', str(age) + 'years')"
   ]
  },
  {
   "cell_type": "code",
   "execution_count": 45,
   "metadata": {},
   "outputs": [
    {
     "name": "stdout",
     "output_type": "stream",
     "text": [
      "\n",
      "this is multi \n",
      "3\n",
      "s\n",
      "\n",
      "this is multi line string\n",
      "and it can go on and on inside the 3 's \n",
      "\n",
      "\n",
      "this is multi \n",
      "\n",
      "this is multi line string\n",
      "and it can go on and on inside the 3 's \n",
      "\n",
      "nkitran\n",
      "Ankit [Rana] is a coder\n"
     ]
    }
   ],
   "source": [
    "mystr = '''\n",
    "this is multi line string\n",
    "and it can go on and on inside the 3 's \n",
    "'''\n",
    "\n",
    "print(mystr[0:15])\n",
    "print(mystr[-6])\n",
    "print(mystr[-15])\n",
    "print(mystr[0:])\n",
    "print(mystr[:15])\n",
    "print(mystr[:])\n",
    "\n",
    "name = \"ankitrana\"\n",
    "print(name[1:-1])\n",
    "\n",
    "#Formatted str\n",
    "\n",
    "first = 'Ankit'\n",
    "last = 'Rana'\n",
    "\n",
    "msg = f'{first} [{last}] is a coder'\n",
    "print(msg)"
   ]
  },
  {
   "cell_type": "code",
   "execution_count": 56,
   "metadata": {},
   "outputs": [
    {
     "name": "stdout",
     "output_type": "stream",
     "text": [
      "20\n",
      "PYTHON FOR BEGINNERS\n",
      "python for beginners\n",
      "0\n",
      "-1\n",
      "PPPPython for beginners\n",
      "True\n",
      "False\n"
     ]
    }
   ],
   "source": [
    "#string functions and methods\n",
    "\n",
    "course = 'Python for beginners'\n",
    "print(len(course))\n",
    "\n",
    "#upper is a method not s func\n",
    "print(course.upper())\n",
    "print(course.lower())\n",
    "print(course.find('P'))\n",
    "print(course.find('p')) #not found\n",
    "print(course.replace('P','PPPP')) #REPLACE CHAR\n",
    "print('Python' in course)\n",
    "print('python' in course)"
   ]
  },
  {
   "cell_type": "code",
   "execution_count": 75,
   "metadata": {},
   "outputs": [
    {
     "name": "stdout",
     "output_type": "stream",
     "text": [
      "13\n",
      "3.3333333333333335\n",
      "3\n",
      "1\n",
      "1000\n",
      "####################################################################################################\n",
      "16\n",
      "31\n",
      "29\n",
      "####################################################################################################\n",
      "3\n",
      "2.9\n"
     ]
    }
   ],
   "source": [
    "#arithmetic ops\n",
    "\n",
    "print(10+3)\n",
    "print(10/3)\n",
    "print(10//3) #int quotient\n",
    "print(10%3)\n",
    "print(10**3)\n",
    "\n",
    "print(100* '#')\n",
    "#operator precedence BOeDMAS: EXPO DIV MUL ADD SUB\n",
    "print(10+3*2)\n",
    "print(10+3*2-1+4**2) \n",
    "print((10+3)*(2-1)+(4**2))\n",
    "print(100* '#')\n",
    "print(round(2.9))\n",
    "print(abs(-2.9))\n"
   ]
  },
  {
   "cell_type": "code",
   "execution_count": 77,
   "metadata": {},
   "outputs": [
    {
     "name": "stdout",
     "output_type": "stream",
     "text": [
      "-2\n",
      "3\n",
      "-3\n",
      "2\n"
     ]
    }
   ],
   "source": [
    "import math\n",
    "#always refer to python 3 math module\n",
    "print(math.ceil(-2.9))\n",
    "print(math.ceil(2.9))\n",
    "print(math.floor(-2.9))\n",
    "print(math.floor(2.9))"
   ]
  },
  {
   "cell_type": "code",
   "execution_count": 82,
   "metadata": {},
   "outputs": [
    {
     "name": "stdout",
     "output_type": "stream",
     "text": [
      "today is cold\n",
      "outside of if else\n"
     ]
    }
   ],
   "source": [
    "#if statements\n",
    "is_hot = False\n",
    "is_cold = True\n",
    "\n",
    "if is_hot:\n",
    "    print('drink water!')\n",
    "elif is_cold:\n",
    "    print('today is cold')\n",
    "else:\n",
    "    print('have a nice day')\n",
    "    \n",
    "print('outside of if else')"
   ]
  },
  {
   "cell_type": "code",
   "execution_count": 85,
   "metadata": {},
   "outputs": [
    {
     "name": "stdout",
     "output_type": "stream",
     "text": [
      "do not qualify\n",
      "qualified\n"
     ]
    }
   ],
   "source": [
    "#logical operators\n",
    "has_high_income = True\n",
    "has_good_credit = False\n",
    "\n",
    "if has_good_credit and has_high_income:\n",
    "    print(\"qualified\")\n",
    "else:\n",
    "    print(\"do not qualify\")\n",
    "\n",
    "has_high_income = True\n",
    "has_good_credit = False\n",
    "\n",
    "if has_good_credit or has_high_income:\n",
    "    print(\"qualified\")\n",
    "else:\n",
    "    print(\"do not qualify\")"
   ]
  },
  {
   "cell_type": "code",
   "execution_count": 89,
   "metadata": {},
   "outputs": [
    {
     "name": "stdout",
     "output_type": "stream",
     "text": [
      "it is a hot day\n"
     ]
    }
   ],
   "source": [
    "#commparison ops\n",
    "temperature = 34\n",
    "\n",
    "if temperature >= 30:\n",
    "    print('it is a hot day')\n",
    "else:\n",
    "    print('not hot')"
   ]
  },
  {
   "cell_type": "code",
   "execution_count": null,
   "metadata": {},
   "outputs": [],
   "source": [
    "#while loops\n",
    "i=1\n",
    "while i<=5:\n",
    "    print(i)\n",
    "    i = i+1\n",
    "    "
   ]
  }
 ],
 "metadata": {
  "kernelspec": {
   "display_name": "Python 3",
   "language": "python",
   "name": "python3"
  },
  "language_info": {
   "codemirror_mode": {
    "name": "ipython",
    "version": 3
   },
   "file_extension": ".py",
   "mimetype": "text/x-python",
   "name": "python",
   "nbconvert_exporter": "python",
   "pygments_lexer": "ipython3",
   "version": "3.13.3"
  }
 },
 "nbformat": 4,
 "nbformat_minor": 2
}
