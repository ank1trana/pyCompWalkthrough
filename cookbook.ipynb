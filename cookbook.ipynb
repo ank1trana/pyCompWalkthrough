{
 "cells": [
  {
   "cell_type": "code",
   "execution_count": 4,
   "metadata": {},
   "outputs": [
    {
     "name": "stdout",
     "output_type": "stream",
     "text": [
      "Ankit\n",
      "San Diego\n",
      "3\n"
     ]
    }
   ],
   "source": [
    "#unpacking a sequence into separate variables\n",
    "#can do somehting like this\n",
    "\n",
    "data = ['Ankit','34','Male','San Diego','USA']\n",
    "name, age, sex, city, country = data\n",
    "\n",
    "print(name)\n",
    "print(city)\n",
    "\n",
    "#from a tuple\n",
    "p = (2,3,4)\n",
    "x,y,z = p\n",
    "print(y)"
   ]
  },
  {
   "cell_type": "code",
   "execution_count": 22,
   "metadata": {},
   "outputs": [
    {
     "name": "stdout",
     "output_type": "stream",
     "text": [
      "l\n",
      "a:  H\n",
      "a:  o\n",
      "80\n",
      "85 99 90 92 91 99 100\n",
      "88\n",
      "ABCDE\n",
      "2025\n"
     ]
    }
   ],
   "source": [
    "#can also be extended beyond lists and tuples\n",
    "#e.g. with strings\n",
    "\n",
    "s = \"Hola\"\n",
    "a,b,c,d = s\n",
    "print(c)\n",
    "print('a: ',a)\n",
    "\n",
    "#can't have less variables on theleft, but we can discard with an underscore\n",
    "_,a,b,_ = s\n",
    "print('a: ',a)\n",
    "\n",
    "#unpacking from iterables of arbitrary length\n",
    "#this is done by using a \"star expression\"\n",
    "\n",
    "grades = [80,85,99,90,92,91,99,100,95]\n",
    "\n",
    "first, *middle, last = grades\n",
    "\n",
    "print(first)\n",
    "print(*middle)\n",
    "\n",
    "#as first arg\n",
    "sales = [12,12,34,67,34,56,88]\n",
    "*all_first_six_months, latest_month = sales\n",
    "print(latest_month)\n",
    "\n",
    "#positional saving and throwing away of certain info while unpacking\n",
    "\n",
    "record = ('ABCDE',50,123.56, (6,8,2025))\n",
    "name,*_,(*_,year) = record\n",
    "print(name)\n",
    "print(year)"
   ]
  },
  {
   "cell_type": "code",
   "execution_count": null,
   "metadata": {},
   "outputs": [],
   "source": [
    "#keeping last n items\n"
   ]
  }
 ],
 "metadata": {
  "kernelspec": {
   "display_name": "Python 3",
   "language": "python",
   "name": "python3"
  },
  "language_info": {
   "codemirror_mode": {
    "name": "ipython",
    "version": 3
   },
   "file_extension": ".py",
   "mimetype": "text/x-python",
   "name": "python",
   "nbconvert_exporter": "python",
   "pygments_lexer": "ipython3",
   "version": "3.13.3"
  }
 },
 "nbformat": 4,
 "nbformat_minor": 2
}
