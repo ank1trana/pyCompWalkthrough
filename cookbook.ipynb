{
 "cells": [
  {
   "cell_type": "code",
   "execution_count": 4,
   "metadata": {},
   "outputs": [
    {
     "name": "stdout",
     "output_type": "stream",
     "text": [
      "Ankit\n",
      "San Diego\n",
      "3\n"
     ]
    }
   ],
   "source": [
    "#unpacking a sequence into separate variables\n",
    "#can do somehting like this\n",
    "\n",
    "data = ['Ankit','34','Male','San Diego','USA']\n",
    "name, age, sex, city, country = data\n",
    "\n",
    "print(name)\n",
    "print(city)\n",
    "\n",
    "#from a tuple\n",
    "p = (2,3,4)\n",
    "x,y,z = p\n",
    "print(y)"
   ]
  },
  {
   "cell_type": "code",
   "execution_count": null,
   "metadata": {},
   "outputs": [
    {
     "name": "stdout",
     "output_type": "stream",
     "text": [
      "l\n",
      "a:  H\n",
      "a:  o\n",
      "80\n",
      "85 99 90 92 91 99 100\n"
     ]
    },
    {
     "ename": "TypeError",
     "evalue": "type() takes 1 or 3 arguments",
     "output_type": "error",
     "traceback": [
      "\u001b[31m---------------------------------------------------------------------------\u001b[39m",
      "\u001b[31mTypeError\u001b[39m                                 Traceback (most recent call last)",
      "\u001b[36mCell\u001b[39m\u001b[36m \u001b[39m\u001b[32mIn[16]\u001b[39m\u001b[32m, line 22\u001b[39m\n\u001b[32m     20\u001b[39m \u001b[38;5;28mprint\u001b[39m(first)\n\u001b[32m     21\u001b[39m \u001b[38;5;28mprint\u001b[39m(*middle)\n\u001b[32m---> \u001b[39m\u001b[32m22\u001b[39m \u001b[38;5;28mprint\u001b[39m(\u001b[38;5;28;43mtype\u001b[39;49m\u001b[43m(\u001b[49m\u001b[43m*\u001b[49m\u001b[43mmiddle\u001b[49m\u001b[43m)\u001b[49m)\n",
      "\u001b[31mTypeError\u001b[39m: type() takes 1 or 3 arguments"
     ]
    }
   ],
   "source": [
    "#can also be extended beyond lists and tuples\n",
    "#e.g. with strings\n",
    "\n",
    "s = \"Hola\"\n",
    "a,b,c,d = s\n",
    "print(c)\n",
    "print('a: ',a)\n",
    "\n",
    "#can't have less variables on theleft, but we can discard with an underscore\n",
    "_,a,b,_ = s\n",
    "print('a: ',a)\n",
    "\n",
    "#unpacking from iterables of arbitrary length\n",
    "#this is done by using a \"star expression\"\n",
    "\n",
    "grades = [80,85,99,90,92,91,99,100,95]\n",
    "\n",
    "first, *middle, last = grades\n",
    "\n",
    "print(first)\n",
    "print(*middle)\n"
   ]
  },
  {
   "cell_type": "code",
   "execution_count": null,
   "metadata": {},
   "outputs": [],
   "source": []
  }
 ],
 "metadata": {
  "kernelspec": {
   "display_name": "Python 3",
   "language": "python",
   "name": "python3"
  },
  "language_info": {
   "codemirror_mode": {
    "name": "ipython",
    "version": 3
   },
   "file_extension": ".py",
   "mimetype": "text/x-python",
   "name": "python",
   "nbconvert_exporter": "python",
   "pygments_lexer": "ipython3",
   "version": "3.13.3"
  }
 },
 "nbformat": 4,
 "nbformat_minor": 2
}
