{
 "cells": [
  {
   "cell_type": "code",
   "execution_count": null,
   "metadata": {},
   "outputs": [
    {
     "name": "stdout",
     "output_type": "stream",
     "text": [
      "True\n"
     ]
    }
   ],
   "source": [
    "#input array of words, minimum length of a word in the words list is 1\n",
    "#check if a target string is an acronym of words\n",
    "\n",
    "def check_acro(words, str_to_check):\n",
    "    if(len(str_to_check)!=len(words)):\n",
    "        print('not an acronym')\n",
    "        return False\n",
    "    else:\n",
    "        for i in range(len(str_to_check)):\n",
    "            if(str_to_check[i] != words[i][0]):\n",
    "                return False\n",
    "        \n",
    "        return True\n",
    "        \n",
    "\n",
    "\n",
    "words = ['National',  'Aeronautics', 'Space', 'Administration']\n",
    "\n",
    "str_acro = \"NASA\"\n",
    "print(check_acro(words, str_acro))\n",
    "\n"
   ]
  },
  {
   "cell_type": "code",
   "execution_count": 10,
   "metadata": {},
   "outputs": [
    {
     "name": "stdout",
     "output_type": "stream",
     "text": [
      "True\n",
      "False\n",
      "False\n",
      "True\n"
     ]
    }
   ],
   "source": [
    "# n = 17\n",
    "# 2^ = 4\n",
    "# 4^ = 16\n",
    "#funding if a num is a PERFECT SQUARE\n",
    "# establish RANGE, FIND mid value and o a binary search\n",
    "\n",
    "def is_perfect_square(num: int):\n",
    "    low = 1\n",
    "    high = num\n",
    "    \n",
    "    while(low <= high):\n",
    "        mid = (low+high)//2 #need integer after div\n",
    "        m_squared = mid * mid\n",
    "        \n",
    "        if num == m_squared:\n",
    "            return True\n",
    "        elif m_squared > num:\n",
    "            high = mid-1\n",
    "        else:\n",
    "            low = mid+1\n",
    "    return False\n",
    "\n",
    "print(is_perfect_square(16))\n",
    "print(is_perfect_square(17))\n",
    "print(is_perfect_square(21))\n",
    "print(is_perfect_square(144))\n"
   ]
  }
 ],
 "metadata": {
  "kernelspec": {
   "display_name": "Python 3",
   "language": "python",
   "name": "python3"
  },
  "language_info": {
   "codemirror_mode": {
    "name": "ipython",
    "version": 3
   },
   "file_extension": ".py",
   "mimetype": "text/x-python",
   "name": "python",
   "nbconvert_exporter": "python",
   "pygments_lexer": "ipython3",
   "version": "3.13.3"
  }
 },
 "nbformat": 4,
 "nbformat_minor": 2
}
