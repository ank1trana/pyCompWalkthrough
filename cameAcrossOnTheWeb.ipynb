{
 "cells": [
  {
   "cell_type": "code",
   "execution_count": null,
   "metadata": {},
   "outputs": [
    {
     "name": "stdout",
     "output_type": "stream",
     "text": [
      "True\n"
     ]
    }
   ],
   "source": [
    "#input array of words, minimum length of a word in the words list is 1\n",
    "#check if a target string is an acronym of words\n",
    "\n",
    "def check_acro(words, str_to_check):\n",
    "    if(len(str_to_check)!=len(words)):\n",
    "        print('not an acronym')\n",
    "        return False\n",
    "    else:\n",
    "        for i in range(len(str_to_check)):\n",
    "            if(str_to_check[i] != words[i][0]):\n",
    "                return False\n",
    "        \n",
    "        return True\n",
    "        \n",
    "\n",
    "\n",
    "words = ['National',  'Aeronautics', 'Space', 'Administration']\n",
    "\n",
    "str_acro = \"NASA\"\n",
    "print(check_acro(words, str_acro))\n",
    "\n"
   ]
  },
  {
   "cell_type": "code",
   "execution_count": 10,
   "metadata": {},
   "outputs": [
    {
     "name": "stdout",
     "output_type": "stream",
     "text": [
      "True\n",
      "False\n",
      "False\n",
      "True\n"
     ]
    }
   ],
   "source": [
    "# n = 17\n",
    "# 2^ = 4\n",
    "# 4^ = 16\n",
    "#funding if a num is a PERFECT SQUARE\n",
    "# establish RANGE, FIND mid value and o a binary search\n",
    "\n",
    "def is_perfect_square(num: int):\n",
    "    low = 1\n",
    "    high = num\n",
    "    \n",
    "    while(low <= high):\n",
    "        mid = (low+high)//2 #need integer after div\n",
    "        m_squared = mid * mid\n",
    "        \n",
    "        if num == m_squared:\n",
    "            return True\n",
    "        elif m_squared > num:\n",
    "            high = mid-1\n",
    "        else:\n",
    "            low = mid+1\n",
    "    return False\n",
    "\n",
    "print(is_perfect_square(16))\n",
    "print(is_perfect_square(17))\n",
    "print(is_perfect_square(21))\n",
    "print(is_perfect_square(144))\n"
   ]
  },
  {
   "cell_type": "code",
   "execution_count": 17,
   "metadata": {},
   "outputs": [
    {
     "name": "stdout",
     "output_type": "stream",
     "text": [
      "4\n",
      "[1, 3, 6, 10]\n",
      "10\n",
      "[1, 2, 3, 4, 7, 10, 13, 19, 25, 29]\n"
     ]
    }
   ],
   "source": [
    "#calculate the running sum in an array\n",
    "#e.g. if the input is [1,2,3,6], then output is [1,3,6,12]\n",
    "\n",
    "def cal_running_sum(nums):\n",
    "    count = len(nums)\n",
    "    r_sum_array = [None]* count\n",
    "    print(count)\n",
    "    #nothing to left of first element\n",
    "    r_sum_array[0] = nums[0]\n",
    "    \n",
    "    for item in range(1, count):\n",
    "        r_sum_array[item] = r_sum_array[item-1]+nums[item]\n",
    "    return r_sum_array\n",
    "\n",
    "result = cal_running_sum([1,2,3,4])\n",
    "print(result)\n",
    "result = cal_running_sum([1,1,1,1,3,3,3,6,6,4])\n",
    "print(result)\n",
    "        \n"
   ]
  },
  {
   "cell_type": "code",
   "execution_count": null,
   "metadata": {},
   "outputs": [
    {
     "name": "stdout",
     "output_type": "stream",
     "text": [
      "56 2\n"
     ]
    }
   ],
   "source": [
    "#You are given an m x n integer grid accounts where accounts[i][j] is the amount of money the i​​​​​​​​​​​th​​​​ customer has in the j​​​​​​​​​​​th​​​​ bank. Return the wealth that the richest customer has.\n",
    "#A customer's wealth is the amount of money they have in all their bank accounts. The richest customer is the customer that has the maximum wealth.\n",
    "\n",
    "def find_max_wealth(accounts_data):\n",
    "    largest_sum = 0\n",
    "    richest_customer = 0\n",
    "    wealth_i = 0\n",
    "    num_of_customers = len(accounts_data)\n",
    "    #print(num_of_customers)\n",
    "    \n",
    "    for i in range(num_of_customers):\n",
    "        for accs_j in range(len(accounts_data[i])):\n",
    "            wealth_i += accounts_data[i][accs_j]\n",
    "            if wealth_i > largest_sum:\n",
    "                largest_sum = wealth_i\n",
    "                richest_customer = i\n",
    "        wealth_i = 0    \n",
    "    return largest_sum, richest_customer\n",
    "    \n",
    "accounts = [[1,11,3],[33,2,1],[53,2,1],[3,2,1]]\n",
    "sum, customer = find_max_wealth(accounts)\n",
    "#accounts = [[1,5],[7,3],[3,5]] \n",
    "\n",
    "print(sum, customer) "
   ]
  }
 ],
 "metadata": {
  "kernelspec": {
   "display_name": "Python 3",
   "language": "python",
   "name": "python3"
  },
  "language_info": {
   "codemirror_mode": {
    "name": "ipython",
    "version": 3
   },
   "file_extension": ".py",
   "mimetype": "text/x-python",
   "name": "python",
   "nbconvert_exporter": "python",
   "pygments_lexer": "ipython3",
   "version": "3.13.3"
  }
 },
 "nbformat": 4,
 "nbformat_minor": 2
}
