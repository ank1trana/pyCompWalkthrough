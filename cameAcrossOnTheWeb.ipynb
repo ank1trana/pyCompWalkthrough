{
 "cells": [
  {
   "cell_type": "code",
   "execution_count": null,
   "metadata": {},
   "outputs": [
    {
     "name": "stdout",
     "output_type": "stream",
     "text": [
      "True\n"
     ]
    }
   ],
   "source": [
    "#input array of words, minimum length of a word in the words list is 1\n",
    "#check if a target string is an acronym of words\n",
    "\n",
    "def check_acro(words, str_to_check):\n",
    "    if(len(str_to_check)!=len(words)):\n",
    "        print('not an acronym')\n",
    "        return False\n",
    "    else:\n",
    "        for i in range(len(str_to_check)):\n",
    "            if(str_to_check[i] != words[i][0]):\n",
    "                return False\n",
    "        \n",
    "        return True\n",
    "        \n",
    "\n",
    "\n",
    "words = ['National',  'Aeronautics', 'Space', 'Administration']\n",
    "\n",
    "str_acro = \"NASA\"\n",
    "print(check_acro(words, str_acro))\n",
    "\n"
   ]
  },
  {
   "cell_type": "code",
   "execution_count": null,
   "metadata": {},
   "outputs": [],
   "source": []
  }
 ],
 "metadata": {
  "kernelspec": {
   "display_name": "Python 3",
   "language": "python",
   "name": "python3"
  },
  "language_info": {
   "codemirror_mode": {
    "name": "ipython",
    "version": 3
   },
   "file_extension": ".py",
   "mimetype": "text/x-python",
   "name": "python",
   "nbconvert_exporter": "python",
   "pygments_lexer": "ipython3",
   "version": "3.13.3"
  }
 },
 "nbformat": 4,
 "nbformat_minor": 2
}
